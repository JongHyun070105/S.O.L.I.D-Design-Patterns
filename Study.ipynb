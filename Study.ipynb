{
  "nbformat": 4,
  "nbformat_minor": 0,
  "metadata": {
    "colab": {
      "provenance": [],
      "collapsed_sections": [
        "MZO35zWRerdX",
        "zhiJ2OvDj-SR",
        "p3YhNY6xkNEY",
        "HxXXmO7xdt5-",
        "_Oe6uyZfeFjW",
        "3Z7SxEtAeNut",
        "KR73LKLXUwTb",
        "sEbA85eNiZum",
        "ID3TtS3B9ebK",
        "GHgVYWFW5Puf",
        "KYGZgkCd5R0u",
        "bOTAe-lEG54R",
        "w2TT8XzN5COm",
        "ygamV2Wz5Gqq",
        "2SLwMOyx5Yam",
        "tfNGD5wY5ns0",
        "nV0UynZv5jrt",
        "mRvN8LSD5ldp",
        "NbNn3vyF5pyS",
        "JuzES-FeqLBI",
        "RSs3iCKdO9AS",
        "An8aJVCIPBWq",
        "f03h_TG0S5Ws",
        "ZtkhRYZyTZcR",
        "Es0U2cfZ5wl5",
        "Ekl53gxITApW",
        "YYZ_77CXua9l",
        "VM8dQUy3TJJz",
        "OBqUeDBqf2TO",
        "L4IYoimpf_Mj",
        "i1kRw29xlFDk",
        "3GunZk8PlFDl",
        "NcUJ37hmsnwP",
        "zZMoLvKlsnwQ",
        "yGk4UUwE2hUa",
        "0uSv_ePNbXMH",
        "oYKACCm1cl0j",
        "h1yRHKdubbbO",
        "XV-X8QnGcpA0",
        "ydZPDHeqbbhr",
        "OIrE-lUiyNIh",
        "3ZAP9LzvyXJd",
        "r0cPc9XwyiAB",
        "OP4xXEKGyiAC"
      ],
      "authorship_tag": "ABX9TyNiM3GTQABfG4ubeIrMYyXJ",
      "include_colab_link": true
    },
    "kernelspec": {
      "name": "python3",
      "display_name": "Python 3"
    },
    "language_info": {
      "name": "python"
    }
  },
  "cells": [
    {
      "cell_type": "markdown",
      "metadata": {
        "id": "view-in-github",
        "colab_type": "text"
      },
      "source": [
        "<a href=\"https://colab.research.google.com/github/JongHyun070105/S.O.L.I.D-Design-Patterns/blob/main/Study.ipynb\" target=\"_parent\"><img src=\"https://colab.research.google.com/assets/colab-badge.svg\" alt=\"Open In Colab\"/></a>"
      ]
    },
    {
      "cell_type": "markdown",
      "source": [
        "# SOLID"
      ],
      "metadata": {
        "id": "MZO35zWRerdX"
      }
    },
    {
      "cell_type": "markdown",
      "source": [
        "## SRP(Single Responsibility Principle, 단일 책임 원칙)\n",
        "- 모든 클래스는 단 하나의 책임(기능)을 가져야 함.\n",
        "\n",
        "### exma code\n",
        "```\n",
        "from datetime import datetime\n",
        "import logging\n",
        "\n",
        "class Cat:\n",
        "  def __init__(self,age,name):\n",
        "    self.age = age\n",
        "    self.name = name\n",
        "\n",
        "  def eat(self):\n",
        "    print(\"eating..\")\n",
        "\n",
        "  def walk(self):\n",
        "    print(\"walking..\")\n",
        "\n",
        "  def speak(self):\n",
        "    print(\"meow~\")\n",
        "\n",
        "  def print(self):\n",
        "    print(f\"name:{self.name}, age:{self.age}\")\n",
        "\n",
        "  def log(self,logger):\n",
        "    logger.info(f\"name:{self.name}, age:{self.age}\")\n",
        "    logger.info(datetime.now())\n",
        "\n",
        "\n",
        "kitty = Cat(3,\"kitty\")\n",
        "kitty.eat()\n",
        "kitty.walk()\n",
        "kitty.speak()\n",
        "kitty.print()\n",
        "\n",
        "# 콘솔 출력\n",
        "logger = logging.getLogger(\"mylog\")\n",
        "logger.setLevel(logging.DEBUG)\n",
        "\n",
        "kitty.log(logger)\n",
        "```"
      ],
      "metadata": {
        "id": "zhiJ2OvDj-SR"
      }
    },
    {
      "cell_type": "code",
      "source": [
        "class Human: # class 선언\n",
        "  def __init__(self, name, age, gender, ):\n",
        "    # 이름\n",
        "    self.name = name\n",
        "\n",
        "    # 나이\n",
        "    self.age = age\n",
        "\n",
        "    # 성별\n",
        "    self.gender = gender\n",
        "\n",
        "  def sing(self):\n",
        "    print(f\"{self.name}이 노래를 부른다\")\n",
        "\n",
        "  def dance(self):\n",
        "    print(f\"{self.name}이 춤을 춘다\")\n",
        "\n",
        "  def study(self):\n",
        "    print(f\"{self.name}이 공부를 한다\")\n",
        "\n",
        "  # 정보 출력하는 메서드\n",
        "  def info(self):\n",
        "    print(f\"{self.name}은/는 {self.gender}이고, 나이는 {self.age}살이다.\")\n",
        "\n",
        "# human1이라는 Human 객체 생성\n",
        "human1 = Human(\"구자욱\", 31, \"남성\")\n",
        "\n",
        "# human1의 행동 출력\n",
        "human1.sing()\n",
        "human1.dance()\n",
        "human1.study()\n",
        "\n",
        "\n",
        "# human1 정보 출력\n",
        "human1.info()"
      ],
      "metadata": {
        "colab": {
          "base_uri": "https://localhost:8080/"
        },
        "id": "h4lC9UPrvOqi",
        "outputId": "243fd51e-95af-45a6-b2ad-3203e8b541e4"
      },
      "execution_count": 9,
      "outputs": [
        {
          "output_type": "stream",
          "name": "stdout",
          "text": [
            "구자욱이 노래를 부른다\n",
            "구자욱이 춤을 춘다\n",
            "구자욱이 공부를 한다\n",
            "구자욱은/는 남성이고, 나이는 31살이다.\n"
          ]
        }
      ]
    },
    {
      "cell_type": "markdown",
      "source": [
        "## OCP(Open-Closed Principle, 개방-폐쇄 원칙)\n",
        "- 클래스는 확장에 대해서는 열려 있어야 하고, 기존 코드 변경에는 닫혀 있어야 한다.\n",
        "### exam code\n",
        "```\n",
        "class Animal:\n",
        "  def speak(self):  #interface method\n",
        "    pass\n",
        "\n",
        "class Cat(Animal):\n",
        "  def speak(self):\n",
        "    print(\"meow\")\n",
        "\n",
        "class Dog(Animal):\n",
        "  def speak(self):\n",
        "    print(\"bark\")\n",
        "\n",
        "class Sheep(Animal):\n",
        "  def speak(self):\n",
        "    print(\"meh\")\n",
        "\n",
        "class Cow(Animal):\n",
        "  def speak(self):\n",
        "    print(\"moo\")\n",
        "\n",
        "def hey(animal):\n",
        "  animal.speak();\n",
        "\n",
        "\n",
        "bingo = Dog()\n",
        "kitty = Cat()\n",
        "sheep = Sheep()\n",
        "cow = Cow()\n",
        "\n",
        "hey(bingo)\n",
        "hey(kitty)\n",
        "hey(sheep)\n",
        "hey(cow)\n",
        "```"
      ],
      "metadata": {
        "id": "p3YhNY6xkNEY"
      }
    },
    {
      "cell_type": "code",
      "execution_count": 10,
      "metadata": {
        "id": "zTF8TSCFjupw"
      },
      "outputs": [],
      "source": [
        "class BaseballPlayer: # class 선언\n",
        "  def __init__(self, name): # 이름을 입력 받는다\n",
        "    self.name = name\n",
        "\n",
        "  def hit(self): # hit 메서드 선언\n",
        "    pass\n",
        "\n",
        "  def out(self): # out 메서드 선언\n",
        "    pass\n",
        "\n",
        "  def run(self): # run 메서드 선언\n",
        "    pass\n",
        "\n",
        "  def fourball(self): # fourball 메서드 선언\n",
        "    pass"
      ]
    },
    {
      "cell_type": "code",
      "source": [
        "class Pitcher(BaseballPlayer): # 투수 클래스 생성. BaseballPlayer를 상속 받음\n",
        "  def hit(self):\n",
        "    print(f\"{self.name}: 안타를 허용했다.\")\n",
        "\n",
        "  def out(self):\n",
        "    print(f\"{self.name}: 상대 타자를 아웃 시켰다.\")\n",
        "\n",
        "  def run(self):\n",
        "    print(f\"{self.name}: 도루를 허용했다.\")\n",
        "\n",
        "  def fourball(self):\n",
        "    print(f\"{self.name}: 상대 타자를 볼넷으로 내보냈다.\")\n",
        "\n",
        "class Batter(BaseballPlayer): # 타자 클래스 생성. BaseballPlayer를 상속 받음\n",
        "  def hit(self):\n",
        "    print(f\"{self.name}: 안타를 쳤다.\")\n",
        "\n",
        "  def out(self):\n",
        "    print(f\"{self.name}: 아웃을 당했다.\")\n",
        "\n",
        "  def run(self):\n",
        "    print(f\"{self.name}: 도루를 성공했다.\")\n",
        "\n",
        "  def fourball(self):\n",
        "    print(f\"{self.name}: 볼넷으로 출루했다.\")\n",
        "\n",
        "# 확장 가능성 + 기존 코드 수정 X\n",
        "# class Judgment(BaseballPlayer):\n",
        "#   def hit(self):\n",
        "#     print(\"플레이어가 안타를 쳤다.\")\n",
        "\n",
        "#   def out(self):\n",
        "#     print(\"플레이어가 아웃을 당했다.\")\n",
        "\n",
        "#   def run(self):\n",
        "#     print(\"플레이어가 도루를 했다.\")\n",
        "\n",
        "#   def fourball(self):\n",
        "#     print(\"플레이어가 볼넷으로 나갔다.\")"
      ],
      "metadata": {
        "id": "_WVYotXF3nVR"
      },
      "execution_count": 11,
      "outputs": []
    },
    {
      "cell_type": "code",
      "source": [
        "# 객체 생성\n",
        "player1 = Batter(\"구자욱\")\n",
        "player2 = Pitcher(\"원태인\")\n",
        "player3 = Batter(\"이대호\")\n",
        "player4 = Pitcher(\"오승환\")\n",
        "player5 = Batter(\"김지찬\")\n",
        "\n",
        "# 출력\n",
        "player1.hit()\n",
        "player2.out()\n",
        "player3.run()\n",
        "player4.fourball()\n",
        "player5.out()"
      ],
      "metadata": {
        "colab": {
          "base_uri": "https://localhost:8080/"
        },
        "id": "yz35aUQOx2i6",
        "outputId": "3bf1f822-acb5-4012-ec66-00c2070fd161"
      },
      "execution_count": 12,
      "outputs": [
        {
          "output_type": "stream",
          "name": "stdout",
          "text": [
            "구자욱: 안타를 쳤다.\n",
            "원태인: 상대 타자를 아웃 시켰다.\n",
            "이대호: 도루를 성공했다.\n",
            "오승환: 상대 타자를 볼넷으로 내보냈다.\n",
            "김지찬: 아웃을 당했다.\n"
          ]
        }
      ]
    },
    {
      "cell_type": "code",
      "source": [
        "# class Hit(BaseballPlayer): # Hit이라는 클래스를 생성. BaseballPlayer를 상속 받는다.\n",
        "#   def result(self):\n",
        "#     if(self.postion == \"타자\"): # 포지션이 타자라면 안타를 쳤다고 출력.\n",
        "#       print(f\"{self.name}: 안타를 쳤다.\")\n",
        "\n",
        "#     else: # 포지션이 투수라면 안타를 허용했다고 출력.\n",
        "#       print(f\"{self.name}: 안타를 허용했다\")\n",
        "\n",
        "# class Out(BaseballPlayer): # Out이라는 클래스를 생성. BaseballPlayer를 상속 받는다.\n",
        "#   def result(self):\n",
        "#     if(self.postion == \"타자\"):# 포지션이 타자라면 아웃을 당했다고 출력.\n",
        "#       print(f\"{self.name}: 아웃을 당했다.\")\n",
        "\n",
        "#     else: # 포지션이 투수라면 아웃 시켰다고 출력.\n",
        "#       print(f\"{self.name}: 상대 타자를 아웃 시켰다.\")\n",
        "\n",
        "# class Run(BaseballPlayer): # Run이라는 클래스를 생성. BaseballPlayer를 상속 받는다.\n",
        "#   def result(self):\n",
        "#     if(self.postion == \"타자\"): # 포지션이 타자라면 도루를 성공했다고 출력.\n",
        "#       print(f\"{self.name}: 도루를 성공했다.\")\n",
        "\n",
        "#     else: # 포지션이 투수라면 도루를 허용했다고 출력.\n",
        "#       print(f\"{self.name}: 도루를 허용했다\")\n",
        "\n",
        "# class FourBall(BaseballPlayer): # FourBall이라는 클래스를 생성. BaseballPlayer를 상속 받는다.\n",
        "#   def result(self):\n",
        "#     if(self.postion == \"투수\"): # 포지션이 투수라면 상대 타자를 볼넷으로 내보냈다고 출력.\n",
        "#       print(f\"{self.name}: 상대 타자를 볼넷으로 내보냈다\")\n",
        "\n",
        "#     else: # 포지션이 타자라면 볼넷으로 출루했다고 출력.\n",
        "#       print(f\"{self.name}: 볼넷으로 출루했다\")"
      ],
      "metadata": {
        "id": "_Nd4Vmgdxjra"
      },
      "execution_count": 13,
      "outputs": []
    },
    {
      "cell_type": "markdown",
      "source": [
        "## LSP(Liskov Substitution Principle, 리스코프 치환 원칙)\n",
        "- 자식 클래스는 언제나 부모 클래스를 대체할 수 있어야 한다.\n",
        "### exam code\n",
        "```\n",
        "class Bird:\n",
        "    def eat(self):\n",
        "        print(\"Bird is eating\")\n",
        "\n",
        "class FlyingBird(Bird):\n",
        "    def fly(self):\n",
        "        print(\"Flying bird is flying\")\n",
        "\n",
        "class Sparrow(FlyingBird):\n",
        "    def fly(self):\n",
        "        print(\"Sparrow flies high\")\n",
        "\n",
        "class Penguin(Bird):\n",
        "    def swim(self):\n",
        "        print(\"Penguin swims fast\")\n",
        "\n",
        "\n",
        "def let_bird_eat(bird: Bird):\n",
        "    bird.eat()\n",
        "\n",
        "def let_bird_fly(flying_bird: FlyingBird):\n",
        "    flying_bird.fly()\n",
        "\n",
        "\n",
        "# 실행\n",
        "let_bird_eat(Sparrow())   # 가능\n",
        "let_bird_eat(Penguin())   # 가능 (먹을 수 있음)\n",
        "let_bird_fly(Sparrow())   # 가능\n",
        "# let_bird_fly(Penguin()) # 타입상 애초에 불가능 -> 계약 지켜짐\n",
        "```"
      ],
      "metadata": {
        "id": "HxXXmO7xdt5-"
      }
    },
    {
      "cell_type": "code",
      "source": [],
      "metadata": {
        "id": "8TcjMBK8eFVT"
      },
      "execution_count": 13,
      "outputs": []
    },
    {
      "cell_type": "markdown",
      "source": [
        "## ISP(Interface Segregation Principle, 인터페이스 분리 원칙)\n",
        "- 클라이언트는 자신이 사용하지 않는 메서드에 의존 관계를 맺으면 안된다.\n",
        "### exam code\n",
        "```\n",
        "```"
      ],
      "metadata": {
        "id": "_Oe6uyZfeFjW"
      }
    },
    {
      "cell_type": "code",
      "source": [],
      "metadata": {
        "id": "NEjZQUf5eNiM"
      },
      "execution_count": 13,
      "outputs": []
    },
    {
      "cell_type": "markdown",
      "source": [
        "## DIP(Dependency Inversion Principle, 의존관계 역전 원칙)\n",
        "- A. 상위 모듈은 하위 모듈에 의존하면 안된다.    B. 추상화는 구체적인 것에 의존하면 안된다.\n",
        "### exam code\n",
        "```\n",
        "```"
      ],
      "metadata": {
        "id": "3Z7SxEtAeNut"
      }
    },
    {
      "cell_type": "code",
      "source": [],
      "metadata": {
        "id": "cnkdRJi1eYiw"
      },
      "execution_count": 13,
      "outputs": []
    },
    {
      "cell_type": "markdown",
      "source": [
        "## SOLID 모두 적용한 코드 짜보기\n",
        "- 주제는 House"
      ],
      "metadata": {
        "id": "KR73LKLXUwTb"
      }
    },
    {
      "cell_type": "code",
      "source": [
        "# LSP - Room의 자식 클래스인 MyRoom, MomRoom등이 부모의 describe를 대체할 수 있음\n",
        "class Room:\n",
        "  def describe(self):\n",
        "    pass\n",
        "\n",
        "class MyRoom(Room):\n",
        "  def describe(self):\n",
        "    print(\"내 방이야!\")\n",
        "\n",
        "class MomRoom(Room):\n",
        "  def describe(self):\n",
        "    print(\"우리 엄마방이야!\")\n",
        "\n",
        "class DadRoom(Room):\n",
        "  def describe(self):\n",
        "    print(\"우리 아빠방이야!\")\n",
        "\n",
        "class SisterRoom(Room):\n",
        "  def describe(self):\n",
        "    print(\"우리 여동생방이야!\")\n",
        "\n",
        "# OCP - 기존 코드 수정없이 확장 가능\n",
        "# class BathRoom(Room):\n",
        "#   def decribe(self):\n",
        "#     print(\"우리집 화장실이야!\")\n",
        "\n",
        "# SRP - 하나의 클래스에는 하나의 책임만 있어라: House: 집의 관리를 담당함 Room: 방의 설명을 출력하는 것을 담당함\n",
        "# ISP - 자신이 사용하지 않는 메서드 (MyRoom, MomRoom 등등)에 의존 관계를 맺지 않고, Room과의 의존 관계만 있음\n",
        "# DIP - House는 하위 모듈인 MyRoom, MomRoom에 의존하지 않음\n",
        "class House:\n",
        "  def __init__(self):\n",
        "    # 방을 담는 rooms 리스트\n",
        "    self.rooms = []\n",
        "\n",
        "  # 방을 추가하는 메서드\n",
        "  def addRoom(self, room):\n",
        "    self.rooms.append(room) # rooms 리스트에 room을 추가하는 코드\n",
        "\n",
        "  # 방을 보여주는 메서드\n",
        "  def showRoom(self):\n",
        "    for room in self.rooms:\n",
        "      room.describe() # Room class의 생성자가 가지고 있는 describe 메서드를 사용해서 방의 설명을 출력\n",
        "\n",
        "house = House() # House 객체 생성\n",
        "\n",
        "house.addRoom(MyRoom()) # house 객체에 addRoom을 사용하여 방을 추가함\n",
        "house.addRoom(MomRoom())\n",
        "house.addRoom(DadRoom())\n",
        "house.addRoom(SisterRoom())\n",
        "\n",
        "house.showRoom() # house 객체에 추가된 room의 설명을 전부 보여줌"
      ],
      "metadata": {
        "colab": {
          "base_uri": "https://localhost:8080/"
        },
        "id": "YyG9A4VIU3Sc",
        "outputId": "a36517ac-fae5-4435-b391-fa4dad3787b9"
      },
      "execution_count": 14,
      "outputs": [
        {
          "output_type": "stream",
          "name": "stdout",
          "text": [
            "내 방이야!\n",
            "우리 엄마방이야!\n",
            "우리 아빠방이야!\n",
            "우리 여동생방이야!\n"
          ]
        }
      ]
    },
    {
      "cell_type": "markdown",
      "source": [
        "# Design Patterns"
      ],
      "metadata": {
        "id": "X6qvvA5Tez8i"
      }
    },
    {
      "cell_type": "markdown",
      "source": [
        "## Creational Patterns\n"
      ],
      "metadata": {
        "id": "sEbA85eNiZum"
      }
    },
    {
      "cell_type": "markdown",
      "source": [
        "### Factory Method Pattern\n",
        "- 어떤 객체를 만들지는 서브 클래스에게 맡기고, 객체 생성을 캡슐화하는 패턴"
      ],
      "metadata": {
        "id": "ID3TtS3B9ebK"
      }
    },
    {
      "cell_type": "markdown",
      "source": [
        "#### 장점\n",
        "- 객체 생성 로직과 사용 로직 분리 -> 코드 유연성 증가\n",
        "- 새로운 객체 추가 시 기존 코드를 거의 수정하지 않아도 됨\n",
        "- 상위 코드가 구체 클래스에 의존하지 않음 -> 유지보수 용이\n",
        "\n",
        "#### 단점\n",
        "- 클래스 수가 늘어나면 코드 구조가 복잡해질 수 있음\n",
        "- 단순한 경우에는 오히려 불필요하게 복잡해짐"
      ],
      "metadata": {
        "id": "zBWRMrHAR-kt"
      }
    },
    {
      "cell_type": "markdown",
      "source": [
        "#### code 1"
      ],
      "metadata": {
        "id": "GHgVYWFW5Puf"
      }
    },
    {
      "cell_type": "code",
      "source": [
        "class Drink():\n",
        "  def review(self):\n",
        "    pass\n",
        "\n",
        "class Coke(Drink):\n",
        "  def review(self):\n",
        "    print(\"톡 쏘는 탄산\")\n",
        "\n",
        "class Coffee(Drink):\n",
        "  def review(self):\n",
        "    print(\"좋은 커피향\")"
      ],
      "metadata": {
        "id": "Bsskzbwl_lat"
      },
      "execution_count": 15,
      "outputs": []
    },
    {
      "cell_type": "code",
      "source": [
        "class DrinkMachine():  # DrinkMachine 클래스 생성\n",
        "  def createDrink(self): # createDrink라는 메서드 생성\n",
        "    pass\n",
        "\n",
        "class CokeMachine(DrinkMachine): # CokeMachine이라는 DrinkMachine을 상속 받은 클래스 생성\n",
        "  def __init__(self): # coke의 갯수를 넣는 매개변수 추가\n",
        "    self.coke_count = 0\n",
        "\n",
        "  def createDrink(self): # coke를 만들었을때 갯수를 추가하고 Coke 클래스에 리턴\n",
        "    self.coke_count += 1\n",
        "    return Coke()\n",
        "\n",
        "  def cokeCount(self): # coke의 갯수를 출력하는 cokeCount 메서드 생성\n",
        "    return f\"콜라 {self.coke_count}개 나왔습니다!\"\n",
        "\n",
        "class CoffeeMachine(DrinkMachine): # CoffeeMachine이라는 DrinkMachine을 상속 받은 클래스 생성\n",
        "  def __init__(self, name): # 커피의 종류가 다양하므로 이름을 받는 매개변수 추가\n",
        "    self.name = name\n",
        "    self.coffee = self.createDrink() # coffee에 createDrink 메서드를 호출하여 Coffee 클래스의 인스턴스를 생성하여 반환\n",
        "\n",
        "  def createDrink(self):\n",
        "    return Coffee()\n",
        "\n",
        "  def sumSyrup(self,coffee:Coffee): # Coffee 클래스를 입력받고, 입력받은 이름에 시럽을 추가했다는 메시지를 출력 후 coffee를 반환\n",
        "    print(f\"{self.name}에 시럽 추가했습니다\")\n",
        "    return coffee\n",
        "\n",
        "\n",
        "coke_machine = CokeMachine() # CokeMachine 객체 생성\n",
        "coke = coke_machine.createDrink() # coke 생성\n",
        "print(coke_machine.cokeCount()) # coke 갯수 출력\n",
        "\n",
        "coffee_machine = CoffeeMachine(\"카페라뗴\") # CoffeeMachine 객체 생성\n",
        "coffee = coffee_machine.createDrink() # coffee 생성\n",
        "syrup_coffee = coffee_machine.sumSyrup(coffee) # coffee에 시럽을 추가"
      ],
      "metadata": {
        "colab": {
          "base_uri": "https://localhost:8080/"
        },
        "id": "IT8Mo5E6AOcp",
        "outputId": "0f39689f-d5f2-41c5-981f-f9bea14c6f44"
      },
      "execution_count": 16,
      "outputs": [
        {
          "output_type": "stream",
          "name": "stdout",
          "text": [
            "콜라 1개 나왔습니다!\n",
            "카페라뗴에 시럽 추가했습니다\n"
          ]
        }
      ]
    },
    {
      "cell_type": "markdown",
      "source": [
        "#### code 2"
      ],
      "metadata": {
        "id": "KYGZgkCd5R0u"
      }
    },
    {
      "cell_type": "code",
      "source": [
        "class ProductCar:\n",
        "  def drive(self):\n",
        "    pass\n",
        "\n",
        "class Kia(ProductCar):\n",
        "  def drive(self):\n",
        "    print('kia차 출고')\n",
        "\n",
        "class Hyundai(ProductCar):\n",
        "  def drive(self):\n",
        "    print('현대차 출고')\n",
        "\n",
        "class CarFactory:\n",
        "  def createCar(self):\n",
        "    pass\n",
        "\n",
        "class KiaFactory(CarFactory):\n",
        "  def createCar(self):\n",
        "    return Kia()\n",
        "\n",
        "class HyundaiFactory(CarFactory):\n",
        "  def createCar(self):\n",
        "    return Hyundai()\n",
        "\n",
        "def get_factory(brand: str) -> CarFactory:\n",
        "    if brand == \"기아\":\n",
        "        return KiaFactory()\n",
        "    elif brand == \"현대\":\n",
        "        return HyundaiFactory()\n",
        "    else:\n",
        "        raise ValueError(\"Unknown brand\")\n",
        "\n",
        "factory = get_factory(\"현대\")\n",
        "car = factory.createCar()\n",
        "car.drive()"
      ],
      "metadata": {
        "colab": {
          "base_uri": "https://localhost:8080/"
        },
        "id": "1yCayFYnTWFn",
        "outputId": "635bbaea-a597-4c0c-9ebd-bcaf5d4aa097"
      },
      "execution_count": 17,
      "outputs": [
        {
          "output_type": "stream",
          "name": "stdout",
          "text": [
            "현대차 출고\n"
          ]
        }
      ]
    },
    {
      "cell_type": "markdown",
      "source": [
        "### Abstract Factory Pattern\n",
        "- 관련 있는 객체들을 묶음 단위로 생성할 수 있도록 캡슐화하는 패턴"
      ],
      "metadata": {
        "id": "bOTAe-lEG54R"
      }
    },
    {
      "cell_type": "markdown",
      "source": [
        "#### 장점\n",
        "- 관련 있는 객체들은 패밀리 단위로 일관성 있게 생성 가능\n",
        "- 클라이언트 코드가 구체 클래스에 의존 X -> 유연성 증가\n",
        "- 새로운 테마나 제품군 추가에도 코드 거의 수정 없이 확장 가능\n",
        "\n",
        "#### 단점\n",
        "- 클래스 수가 늘어나 구조가 복잡해질 수 있음\n",
        "- 모든 제품군을 한 번에 정의해야 하기 떄문에 작은 변화에도 팩토리 수정이 필요할 수 있음"
      ],
      "metadata": {
        "id": "x6_6Cu1UVjXL"
      }
    },
    {
      "cell_type": "markdown",
      "source": [
        "#### code1"
      ],
      "metadata": {
        "id": "w2TT8XzN5COm"
      }
    },
    {
      "cell_type": "code",
      "source": [
        "class Laptop: # Laptop 클래스 생성\n",
        "  def start(self): # start 메서드 생성\n",
        "    pass\n",
        "\n",
        "class WindowLaptop(Laptop): # Laptop을 상속 받는다\n",
        "  def start(self):\n",
        "    print(\"Window\")\n",
        "\n",
        "class Macbook(Laptop):\n",
        "  def start(self):\n",
        "    print(\"Mac\")"
      ],
      "metadata": {
        "id": "bRRiUDuR_ySu"
      },
      "execution_count": 18,
      "outputs": []
    },
    {
      "cell_type": "code",
      "source": [
        "class Phone: # Phone 클래스 생성\n",
        "  def start(self): # start 메서드 생성\n",
        "    pass\n",
        "\n",
        "class Android(Phone): # Phone을 상속 받는다\n",
        "  def start(self):\n",
        "    print(\"Android\")\n",
        "\n",
        "class IOS(Phone):\n",
        "  def start(self):\n",
        "    print(\"iOS\")"
      ],
      "metadata": {
        "id": "jEPUSu_P_2u2"
      },
      "execution_count": 19,
      "outputs": []
    },
    {
      "cell_type": "code",
      "source": [
        "class Watch: # Watch 클래스 생성\n",
        "  def time(self): # time 메서드 생성\n",
        "    pass\n",
        "\n",
        "class GalxyWatch(Watch): # Watch를 상속 받는다\n",
        "  def time(self):\n",
        "    print(\"10:08\")\n",
        "\n",
        "class AppleWatch(Watch):\n",
        "  def time(self):\n",
        "    print(\"10:09\")"
      ],
      "metadata": {
        "id": "4w9L-4OP_3eQ"
      },
      "execution_count": 20,
      "outputs": []
    },
    {
      "cell_type": "code",
      "source": [
        "class DigitalFactory: # DigitalFactory를 생성\n",
        "  def getLaptop(self): # laptop과 phone, watch를 가져오는 메서드 생성\n",
        "    pass\n",
        "\n",
        "  def getPhone(self):\n",
        "    pass\n",
        "\n",
        "  def getWatch(self):\n",
        "    pass\n",
        "\n",
        "class NotIOSIFactory(DigitalFactory): # iOS가 아닌 laptop과 phone, watch를 가져옴\n",
        "  def getLaptop(self):\n",
        "    return WindowLaptop()\n",
        "\n",
        "  def getPhone(self):\n",
        "    return Android()\n",
        "\n",
        "  def getWatch(self):\n",
        "    return GalxyWatch()\n",
        "\n",
        "class IOSFactory(DigitalFactory): # iOS의 laptop과 phone, watch를 가져옴\n",
        "  def getLaptop(self):\n",
        "    return Macbook()\n",
        "\n",
        "  def getPhone(self):\n",
        "    return IOS()\n",
        "\n",
        "  def getWatch(self):\n",
        "    return AppleWatch()"
      ],
      "metadata": {
        "id": "OAVqQCMq_7A5"
      },
      "execution_count": 21,
      "outputs": []
    },
    {
      "cell_type": "code",
      "source": [
        "notIOS = NotIOSIFactory() # 객체 생성\n",
        "\n",
        "# get 메서드로 가져오기\n",
        "notios_laptop = notIOS.getLaptop()\n",
        "notios_phone = notIOS.getPhone()\n",
        "notios_watch = notIOS.getWatch()\n",
        "\n",
        "# 출력하기\n",
        "notios_laptop.start()\n",
        "notios_phone.start()\n",
        "notios_watch.time()"
      ],
      "metadata": {
        "colab": {
          "base_uri": "https://localhost:8080/"
        },
        "id": "BC0S2wsYAAom",
        "outputId": "660257bc-f953-45ee-80f4-ac3b94b8cd0f"
      },
      "execution_count": 22,
      "outputs": [
        {
          "output_type": "stream",
          "name": "stdout",
          "text": [
            "Window\n",
            "Android\n",
            "10:08\n"
          ]
        }
      ]
    },
    {
      "cell_type": "code",
      "source": [
        "ios_factory = IOSFactory() # 객체 생성\n",
        "\n",
        "# get 메서드로 가져오기\n",
        "ios_laptop = ios_factory.getLaptop()\n",
        "ios_phone = ios_factory.getPhone()\n",
        "ios_watch = ios_factory.getWatch()\n",
        "\n",
        "# 출력하기\n",
        "ios_laptop.start()\n",
        "ios_phone.start()\n",
        "ios_watch.time()"
      ],
      "metadata": {
        "colab": {
          "base_uri": "https://localhost:8080/"
        },
        "id": "KERX-IxpAEIc",
        "outputId": "e92d31e8-9dcd-4cd2-a078-ded7bdb7b05a"
      },
      "execution_count": 23,
      "outputs": [
        {
          "output_type": "stream",
          "name": "stdout",
          "text": [
            "Mac\n",
            "iOS\n",
            "10:09\n"
          ]
        }
      ]
    },
    {
      "cell_type": "markdown",
      "source": [
        "#### code2"
      ],
      "metadata": {
        "id": "ygamV2Wz5Gqq"
      }
    },
    {
      "cell_type": "code",
      "source": [
        "class Weapon:\n",
        "  def display(self):\n",
        "    pass\n",
        "\n",
        "class Armor:\n",
        "  def display(self):\n",
        "    pass\n",
        "\n",
        "class ArcherWeapon(Weapon):\n",
        "  def display(self):\n",
        "     print(\"아처의 무기: 활\")\n",
        "\n",
        "class ArcherArmor(Armor):\n",
        "  def display(self):\n",
        "     print(\"아처의 방어구: 갑옷\")\n",
        "\n",
        "class WarriorWeapon(Weapon):\n",
        "  def display(self):\n",
        "     print(\"전사의 무기: 검\")\n",
        "\n",
        "class WarriorArmor(Armor):\n",
        "  def display(self):\n",
        "     print(\"전사의 방어구: 철갑옷\")\n",
        "\n",
        "class ItemFactory:\n",
        "  def createWeapon(self):\n",
        "    pass\n",
        "\n",
        "  def createArmor(self):\n",
        "    pass\n",
        "\n",
        "class ArcherFactory(ItemFactory):\n",
        "  def createWeapon(self):\n",
        "     return ArcherWeapon()\n",
        "  def createArmor(self):\n",
        "     return ArcherArmor()\n",
        "\n",
        "class WarriorFactory(ItemFactory):\n",
        "  def createWeapon(self):\n",
        "     return WarriorWeapon()\n",
        "  def createArmor(self):\n",
        "     return WarriorArmor()"
      ],
      "metadata": {
        "id": "UMrZuwCI5Jz5"
      },
      "execution_count": 24,
      "outputs": []
    },
    {
      "cell_type": "code",
      "source": [
        "archer = ArcherFactory()\n",
        "\n",
        "archer_weapon = archer.createWeapon()\n",
        "archer_armor = archer.createArmor()\n",
        "\n",
        "\n",
        "archer_weapon.display()\n",
        "archer_armor.display()\n",
        "\n",
        "print(\"\")\n",
        "\n",
        "warrior = WarriorFactory()\n",
        "\n",
        "warrior_weapon = warrior.createWeapon()\n",
        "warrior_armor = warrior.createArmor()\n",
        "\n",
        "\n",
        "warrior_weapon.display()\n",
        "warrior_armor.display()"
      ],
      "metadata": {
        "id": "vpNREsiE5NE0",
        "colab": {
          "base_uri": "https://localhost:8080/"
        },
        "outputId": "cf5ec8fc-43ef-4034-ec23-d91754d39986"
      },
      "execution_count": 25,
      "outputs": [
        {
          "output_type": "stream",
          "name": "stdout",
          "text": [
            "아처의 무기: 활\n",
            "아처의 방어구: 갑옷\n",
            "\n",
            "전사의 무기: 검\n",
            "전사의 방어구: 철갑옷\n"
          ]
        }
      ]
    },
    {
      "cell_type": "markdown",
      "source": [
        "### Builder Pattern\n",
        "- 복잡한 객체를 단계별로 구성하여 생성할 수 있게 하는 패턴\n"
      ],
      "metadata": {
        "id": "2SLwMOyx5Yam"
      }
    },
    {
      "cell_type": "markdown",
      "source": [
        "#### 장점\n",
        "- 복잡한 객체를 단계별로 구성 가능\n",
        "- 생성 과정과 표현을 분리 -> 동일한 구성 요소로 다양한 객체 생성 가능\n",
        "- 클라이언트는 세부 생성 과정을 신경 안써도 됨\n",
        "\n",
        "#### 단점\n",
        "- 클래스가 많아지고 코드가 길어질 수 있음\n",
        "- 단순 객체 생성에는 오히려 불필요하게 복잡해짐"
      ],
      "metadata": {
        "id": "2LOpL9PAZEKH"
      }
    },
    {
      "cell_type": "markdown",
      "source": [
        "#### code2"
      ],
      "metadata": {
        "id": "tfNGD5wY5ns0"
      }
    },
    {
      "cell_type": "code",
      "source": [
        "# Product\n",
        "class Player:\n",
        "    def __init__(self):\n",
        "        self.name = None\n",
        "        self.position = None\n",
        "\n",
        "    def info(self):\n",
        "        print(f\"{self.name}의 포지션은 {self.position}\")\n",
        "\n",
        "\n",
        "# Builder (추상 클래스)\n",
        "from abc import ABC, abstractmethod\n",
        "\n",
        "class Builder(ABC):\n",
        "    @abstractmethod\n",
        "    def set_name(self, name): pass\n",
        "\n",
        "    @abstractmethod\n",
        "    def set_position(self, position): pass\n",
        "\n",
        "    @abstractmethod\n",
        "    def get_player(self): pass\n",
        "\n",
        "\n",
        "# ConcreteBuilder\n",
        "class PlayerBuilder(Builder):\n",
        "    def __init__(self):\n",
        "        self.player = Player()\n",
        "\n",
        "    def set_name(self, name):\n",
        "        self.player.name = name\n",
        "        return self\n",
        "\n",
        "    def set_position(self, position):\n",
        "        self.player.position = position\n",
        "        return self\n",
        "\n",
        "    def get_player(self):\n",
        "        return self.player\n",
        "\n",
        "\n",
        "# Director\n",
        "class Director:\n",
        "    def __init__(self, builder: Builder):\n",
        "        self.builder = builder\n",
        "\n",
        "    def construct_pitcher(self):\n",
        "        return self.builder.set_name(\"김민수\").set_position(\"투수\").get_player()\n",
        "\n",
        "    def construct_batter(self):\n",
        "        return self.builder.set_name(\"김철수\").set_position(\"유격수\").get_player()\n",
        "\n",
        "\n",
        "# --- 실행 ---\n",
        "builder = PlayerBuilder()\n",
        "director = Director(builder)\n",
        "\n",
        "pitcher = director.construct_pitcher()\n",
        "pitcher.info()\n",
        "\n",
        "batter = director.construct_batter()\n",
        "batter.info()"
      ],
      "metadata": {
        "colab": {
          "base_uri": "https://localhost:8080/"
        },
        "id": "1PEP9tqpaVrg",
        "outputId": "30dafa74-e4d6-4263-bef8-ef77b9bfae23"
      },
      "execution_count": 26,
      "outputs": [
        {
          "output_type": "stream",
          "name": "stdout",
          "text": [
            "김민수의 포지션은 투수\n",
            "김철수의 포지션은 유격수\n"
          ]
        }
      ]
    },
    {
      "cell_type": "markdown",
      "source": [
        "### Singleton Pattern\n",
        "- 클래스의 인스턴스가 오직 하나만 존재하도록 보장하고, 어디서든 그 인스턴스에 접근할 수 있게하는 패턴"
      ],
      "metadata": {
        "id": "nV0UynZv5jrt"
      }
    },
    {
      "cell_type": "markdown",
      "source": [
        "\n",
        "#### 장점\n",
        "- 인스턴스가 하나만 존재하기에 메모리 낭비를 줄인다.\n",
        "- 전역적으로 접근이 가능하기에 상태 공유에 편리하다.\n",
        "- 객체 생성 비용이 큰 경우에 유용하다 (예시: DB 커넥션)\n",
        "\n",
        "#### 단점\n",
        "- 전역 상태가 많아지면 코드 의존성이 높아진다.\n",
        "- 멀티스레드 환경에서 동기화 문제가 발생할 수 있다.\n",
        "- SRP 원칙을 위반할 수 있다."
      ],
      "metadata": {
        "id": "-nvgmXp_QWys"
      }
    },
    {
      "cell_type": "markdown",
      "source": [
        "#### code2"
      ],
      "metadata": {
        "id": "GxFmj1By5pQS"
      }
    },
    {
      "cell_type": "code",
      "source": [
        "class DB:\n",
        "  _instance = None\n",
        "\n",
        "  def __new__(cls):\n",
        "    if not cls._instance:\n",
        "      print(\"DB를 생성합니다.\")\n",
        "      cls._instance = super(DB, cls).__new__(cls)\n",
        "      cls._instance.connection = 'DB 연결중'\n",
        "    return cls._instance\n",
        "\n",
        "db1 = DB()\n",
        "db2 = DB()\n",
        "\n",
        "print(db1.connection)\n",
        "print(db2.connection)\n",
        "\n",
        "if db1 == db2:\n",
        "  print(\"기존 DB에 연결되었습니다.\")\n",
        "else:\n",
        "  print(\"다른 DB에 연결되었습니다.\")"
      ],
      "metadata": {
        "colab": {
          "base_uri": "https://localhost:8080/"
        },
        "id": "IOlaDPmqQeL2",
        "outputId": "ae92aee2-7973-4ce8-9c68-feebaa4d51cc"
      },
      "execution_count": 27,
      "outputs": [
        {
          "output_type": "stream",
          "name": "stdout",
          "text": [
            "DB를 생성합니다.\n",
            "DB 연결중\n",
            "DB 연결중\n",
            "기존 DB에 연결되었습니다.\n"
          ]
        }
      ]
    },
    {
      "cell_type": "markdown",
      "source": [
        "### Prototype Pattern\n",
        "- 기존 객체를 복제해서 새로운 객체를 만드는 패턴"
      ],
      "metadata": {
        "id": "mRvN8LSD5ldp"
      }
    },
    {
      "cell_type": "markdown",
      "source": [
        "#### 장점\n",
        "- 객체 생성 비용이 큰 경우 효율적임\n",
        "- 동일 설정 객체를 여러 개 만들 때 편리\n",
        "- 런타임에서 동적 복제 가능\n",
        "\n",
        "#### 단점\n",
        "- 깊은 복제와 얕은 복제를 구분해야함\n",
        "- 객체 내부에 참조가 복잡하면 복제 과정에서 실수 할 수 있음\n",
        "- 모든 객체가 복제를 지원해야하므로 인터페이스가 필요함"
      ],
      "metadata": {
        "id": "5B-mzfd5b_ZM"
      }
    },
    {
      "cell_type": "markdown",
      "source": [
        "#### code2"
      ],
      "metadata": {
        "id": "NbNn3vyF5pyS"
      }
    },
    {
      "cell_type": "code",
      "source": [
        "import copy\n",
        "\n",
        "class PrototypeIceCream:\n",
        "  def __init__(self, taste, decorate):\n",
        "    self.taste = taste\n",
        "    self.decorate = decorate\n",
        "\n",
        "  def info(self):\n",
        "    return f\"{self.taste}맛에 {self.decorate} 추가\"\n",
        "\n",
        "  def clone(self):\n",
        "    return copy.deepcopy(self)\n",
        "\n",
        "class MyIceCream(PrototypeIceCream):\n",
        "  def __init__(self, taste, decorate, cone):\n",
        "    super().__init__(taste, decorate)\n",
        "    self.cone = cone\n",
        "\n",
        "  def info(self):\n",
        "    print(f\"{super().info()}, {self.cone}에 담음\")\n",
        "\n",
        "class YourIceCream(PrototypeIceCream):\n",
        "  def __init__(self, taste, decorate):\n",
        "    super().__init__(taste, decorate)\n",
        "\n",
        "  def info(self):\n",
        "    print(f\"{super().info()}\")\n",
        "\n",
        "me = MyIceCream(\"초코\", \"별사탕\", \"컵\")\n",
        "me.info()\n",
        "\n",
        "myMom = me.clone()\n",
        "myMom.cone = \"와플콘\"\n",
        "myMom.info()\n",
        "\n",
        "print(\"----------------------\")\n",
        "\n",
        "you = YourIceCream(\"바닐라\", \"바나나\")\n",
        "you.info()\n",
        "\n",
        "yourMom = you.clone()\n",
        "yourMom.taste = \"초코\"\n",
        "yourMom.info()"
      ],
      "metadata": {
        "colab": {
          "base_uri": "https://localhost:8080/"
        },
        "id": "u8Zj-N6bfe_e",
        "outputId": "23507f6b-3413-4dfc-a1c5-a27a1ea6e0b8"
      },
      "execution_count": 28,
      "outputs": [
        {
          "output_type": "stream",
          "name": "stdout",
          "text": [
            "초코맛에 별사탕 추가, 컵에 담음\n",
            "초코맛에 별사탕 추가, 와플콘에 담음\n",
            "----------------------\n",
            "바닐라맛에 바나나 추가\n",
            "초코맛에 바나나 추가\n"
          ]
        }
      ]
    },
    {
      "cell_type": "markdown",
      "source": [
        "### All Creational Patterns\n",
        "#### 주제: 의류"
      ],
      "metadata": {
        "id": "JuzES-FeqLBI"
      }
    },
    {
      "cell_type": "markdown",
      "source": [
        "##### 기존 코드"
      ],
      "metadata": {
        "id": "RSs3iCKdO9AS"
      }
    },
    {
      "cell_type": "code",
      "source": [
        "from abc import ABC, abstractmethod\n",
        "import copy\n",
        "\n",
        "# ======================\n",
        "# 프로토타입\n",
        "# ======================\n",
        "class Clothes(ABC): # Clothes 클래스: 색상과 사이즈를 입력받고, 여름과 겨울을 구분하는 메서드가 존재함. 그리고 prototype 패턴에서 복사하기 위해 clone 메서드도 존재.\n",
        "    def __init__(self, color: str, size: int):\n",
        "        self.color = color\n",
        "        self.size = size\n",
        "\n",
        "    @abstractmethod\n",
        "    def isSummer(self) -> bool:\n",
        "        pass\n",
        "\n",
        "    @abstractmethod\n",
        "    def isWinter(self) -> bool:\n",
        "        pass\n",
        "\n",
        "    def clone(self):\n",
        "        return copy.deepcopy(self)\n",
        "\n",
        "class Top(Clothes): # 상의를 위한 클래스\n",
        "    pass\n",
        "\n",
        "class Bottom(Clothes): # 하의를 위한 클래스\n",
        "    pass\n",
        "\n",
        "class Outer(Clothes): # 아우터를 위한 클래스\n",
        "    pass\n",
        "\n",
        "# 상의를 상속받은 클래스.\n",
        "# summer일땐 true를 반환하고, winter일땐 false를 반환\n",
        "class TShirts(Top):\n",
        "    def isSummer(self): return True\n",
        "    def isWinter(self): return False\n",
        "\n",
        "# summer일땐 false를 반환하고, winter일땐 true를 반환\n",
        "class Sweater(Top):\n",
        "    def isSummer(self): return False\n",
        "    def isWinter(self): return True\n",
        "\n",
        "# 하의를 상속받은 클래스.\n",
        "# summer일땐 true를 반환하고, winter일땐 false를 반환\n",
        "class Shorts(Bottom):\n",
        "    def isSummer(self): return True\n",
        "    def isWinter(self): return False\n",
        "\n",
        "# summer일땐 false를 반환하고, winter일땐 true를 반환\n",
        "class Jeans(Bottom):\n",
        "    def isSummer(self): return False\n",
        "    def isWinter(self): return True\n",
        "\n",
        "\n",
        "# ======================\n",
        "# 추상화 팩토리\n",
        "# ======================\n",
        "class ClothesFactory(ABC):\n",
        "    @abstractmethod\n",
        "    def createTop(self) -> Top: # 상의를 생성하는 팩토리 클래스\n",
        "        pass\n",
        "\n",
        "    @abstractmethod\n",
        "    def createBottom(self) -> Bottom: # 하의를 생성하는 팩토리 클래스\n",
        "        pass\n",
        "\n",
        "\n",
        "class SummerClothesFactory(ClothesFactory): # 여름옷을 생성하는 팩토리\n",
        "    def createTop(self) -> Top: # 여름상의를 생성하는 메서드\n",
        "        return TShirts(\"흰색\", 95) # 티셔츠 클래스 반환\n",
        "\n",
        "    def createBottom(self) -> Bottom: # 여름하의를 생성하는 메서드\n",
        "        return Shorts(\"파란색\", 30) # 반바지 클래스 반환\n",
        "\n",
        "\n",
        "class WinterClothesFactory(ClothesFactory): # 겨울옷을 생성하는 팩토리\n",
        "    def createTop(self) -> Top:\n",
        "        return Sweater(\"black\", 100)\n",
        "\n",
        "    def createBottom(self) -> Bottom:\n",
        "        return Jeans(\"navy\", 32)\n",
        "\n",
        "\n",
        "# ======================\n",
        "# 빌더\n",
        "# ======================\n",
        "class ClothesBuilder:\n",
        "    def __init__(self, clothes_type):\n",
        "        self.clothes_type = clothes_type # clothes_type에는 생성할 클래스(TShirts, Sweater 등)를 전달\n",
        "        self.color = None\n",
        "        self.size = None\n",
        "\n",
        "    def setColor(self, color: str):\n",
        "        self.color = color\n",
        "        return self\n",
        "\n",
        "    def setSize(self, size: int):\n",
        "        self.size = size\n",
        "        return self\n",
        "\n",
        "    def build(self):\n",
        "        return self.clothes_type(self.color, self.size)\n",
        "\n",
        "\n",
        "# ======================\n",
        "# 싱글톤\n",
        "# ======================\n",
        "class ClothesFactoryProvider: # 하나의 인스턴스만 가지는 Provider\n",
        "    __instance = None\n",
        "\n",
        "    def __new__(cls):\n",
        "        if cls.__instance is None: # 인스턴스가 없을때 인스턴스를 새로 만들고 있다면 기존걸 리턴함\n",
        "            cls.__instance = super(ClothesFactoryProvider, cls).__new__(cls)\n",
        "        return cls.__instance\n",
        "\n",
        "    # getFactory(season)으로 계절에 맞는 팩토리 반환\n",
        "    def getFactory(self, season: str) -> ClothesFactory:\n",
        "        if season == \"여름\":\n",
        "            return SummerClothesFactory()\n",
        "        elif season == \"겨율\":\n",
        "            return WinterClothesFactory()\n",
        "        else:\n",
        "            raise ValueError(\"Invalid season\")\n",
        "\n",
        "\n",
        "# ======================\n",
        "# 클라이언트 코드\n",
        "# ======================\n",
        "if __name__ == \"__main__\":\n",
        "    provider = ClothesFactoryProvider()\n",
        "\n",
        "    # 추상화 팩토리 사용 예시\n",
        "    factory = provider.getFactory(\"여름\")\n",
        "    top = factory.createTop()\n",
        "    bottom = factory.createBottom()\n",
        "\n",
        "    # type(top).__name__: 생성된 객체의 클래스 이름(TShirts, Sweater 등)을 출력\n",
        "    print(f\"여름 상의: {type(top).__name__}, 색상: {top.color}, 사이즈: {top.size}\")\n",
        "    print(f\"여름 하의: {type(bottom).__name__}, 색상: {bottom.color}, 사이즈: {bottom.size}\")\n",
        "\n",
        "    # 빌더 사용 예시\n",
        "    builder = ClothesBuilder(TShirts)\n",
        "    tshirt = builder.setColor(\"빨강\").setSize(100).build()\n",
        "    print(f\"커스텀 티셔츠: 색상: {tshirt.color}, 사이즈: {tshirt.size}\")\n",
        "\n",
        "    # 프로토 타입 사용 예시\n",
        "    tshirt_clone = tshirt.clone()\n",
        "    print(f\"복사한 티셔츠: 색상: {tshirt_clone.color}, 사이즈: {tshirt_clone.size}\")"
      ],
      "metadata": {
        "id": "31rcGBgfqSW0",
        "colab": {
          "base_uri": "https://localhost:8080/"
        },
        "outputId": "c6fe8185-0080-45c9-d007-bb61f0aeb1cc"
      },
      "execution_count": 29,
      "outputs": [
        {
          "output_type": "stream",
          "name": "stdout",
          "text": [
            "여름 상의: TShirts, 색상: 흰색, 사이즈: 95\n",
            "여름 하의: Shorts, 색상: 파란색, 사이즈: 30\n",
            "커스텀 티셔츠: 색상: 빨강, 사이즈: 100\n",
            "복사한 티셔츠: 색상: 빨강, 사이즈: 100\n"
          ]
        }
      ]
    },
    {
      "cell_type": "markdown",
      "source": [
        "#### 리팩토링하는 코드"
      ],
      "metadata": {
        "id": "An8aJVCIPBWq"
      }
    },
    {
      "cell_type": "code",
      "source": [
        "from abc import ABC, abstractmethod\n",
        "import copy\n",
        "\n",
        "# ======================\n",
        "# 프로토타입\n",
        "# ======================\n",
        "class Clothes(ABC): # Clothes 클래스: 색상과 사이즈를 입력받고, 여름과 겨울을 구분하는 메서드가 존재함. 그리고 prototype 패턴에서 복사하기 위해 clone 메서드도 존재.\n",
        "    def __init__(self, color: str, size: int):\n",
        "        self.color = color\n",
        "        self.size = size\n",
        "\n",
        "    @abstractmethod\n",
        "    def isSummer(self) -> bool:\n",
        "        pass\n",
        "\n",
        "    @abstractmethod\n",
        "    def isWinter(self) -> bool:\n",
        "        pass\n",
        "\n",
        "    def clone(self):\n",
        "        return copy.deepcopy(self)\n",
        "\n",
        "    def __str__(self):\n",
        "        return f\"{type(self).__name__} (색상: {self.color}, 사이즈: {self.size})\"\n",
        "\n",
        "class Top(Clothes): # 상의를 위한 클래스\n",
        "    pass\n",
        "\n",
        "class Bottom(Clothes): # 하의를 위한 클래스\n",
        "    pass\n",
        "\n",
        "class Outer(Clothes): # 아우터를 위한 클래스\n",
        "    pass\n",
        "\n",
        "# 상의를 상속받은 클래스.\n",
        "# summer일땐 true를 반환하고, winter일땐 false를 반환\n",
        "class TShirts(Top):\n",
        "    def isSummer(self): return True\n",
        "    def isWinter(self): return False\n",
        "\n",
        "# summer일땐 false를 반환하고, winter일땐 true를 반환\n",
        "class Sweater(Top):\n",
        "    def isSummer(self): return False\n",
        "    def isWinter(self): return True\n",
        "\n",
        "# 하의를 상속받은 클래스.\n",
        "# summer일땐 true를 반환하고, winter일땐 false를 반환\n",
        "class Shorts(Bottom):\n",
        "    def isSummer(self): return True\n",
        "    def isWinter(self): return False\n",
        "\n",
        "# summer일땐 false를 반환하고, winter일땐 true를 반환\n",
        "class Jeans(Bottom):\n",
        "    def isSummer(self): return False\n",
        "    def isWinter(self): return True"
      ],
      "metadata": {
        "id": "cC6OX0HUGtLM"
      },
      "execution_count": 30,
      "outputs": []
    },
    {
      "cell_type": "code",
      "metadata": {
        "id": "1cf40d9f"
      },
      "source": [
        "# ======================\n",
        "# 추상화 팩토리\n",
        "# ======================\n",
        "from abc import ABC, abstractmethod\n",
        "\n",
        "class ClothesFactory(ABC):\n",
        "    @abstractmethod\n",
        "    def createTop(self) -> Top: # 상의를 생성하는 팩토리 클래스\n",
        "        pass\n",
        "\n",
        "    @abstractmethod\n",
        "    def createBottom(self) -> Bottom: # 하의를 생성하는 팩토리 클래스\n",
        "        pass\n",
        "\n",
        "\n",
        "class SummerClothesFactory(ClothesFactory): # 여름옷을 생성하는 팩토리\n",
        "    def createTop(self) -> Top: # 여름상의를 생성하는 메서드\n",
        "        return TShirts(\"흰색\", 95) # 티셔츠 클래스 반환\n",
        "\n",
        "    def createBottom(self) -> Bottom: # 여름하의를 생성하는 메서드\n",
        "        return Shorts(\"파란색\", 30) # 반바지 클래스 반환\n",
        "\n",
        "\n",
        "class WinterClothesFactory(ClothesFactory): # 겨울옷을 생성하는 팩토리\n",
        "    def createTop(self) -> Top:\n",
        "        return Sweater(\"검은색\", 100)\n",
        "\n",
        "    def createBottom(self) -> Bottom:\n",
        "        return Jeans(\"남색\", 32)"
      ],
      "execution_count": 31,
      "outputs": []
    },
    {
      "cell_type": "code",
      "metadata": {
        "id": "fa9f35e4"
      },
      "source": [
        "# ======================\n",
        "# 옷 관리 및 액션 클래스\n",
        "# ======================\n",
        "class WardrobeManager:\n",
        "    def __init__(self):\n",
        "        self._wardrobe = []  # 옷 보관을 위한 리스트\n",
        "\n",
        "    def wear_clothes(self, clothes: Clothes):\n",
        "        \"\"\"옷을 입는 행동\"\"\"\n",
        "        print(f\"{clothes}을(를) 입습니다.\")\n",
        "\n",
        "    def store_clothes(self, clothes: Clothes):\n",
        "        \"\"\"옷을 보관하는 행동\"\"\"\n",
        "        self._wardrobe.append(clothes)\n",
        "        print(f\"{clothes}을(를) 옷장에 보관했습니다.\")\n",
        "\n",
        "    def show_wardrobe(self):\n",
        "        \"\"\"옷장 안의 옷 목록 출력\"\"\"\n",
        "        print(\"\\n옷장 안의 옷:\")\n",
        "        if not self._wardrobe:\n",
        "            print(\"옷장이 비어있습니다.\")\n",
        "        else:\n",
        "            for item in self._wardrobe:\n",
        "                print(f\"- {item}\")"
      ],
      "execution_count": 32,
      "outputs": []
    },
    {
      "cell_type": "code",
      "metadata": {
        "id": "7b51ce4f"
      },
      "source": [
        "# ======================\n",
        "# 싱글톤\n",
        "# ======================\n",
        "from abc import ABC, abstractmethod\n",
        "\n",
        "class ClothesFactoryProvider: # 하나의 인스턴스만 가지는 Provider\n",
        "    __instance = None\n",
        "\n",
        "    def __new__(cls):\n",
        "        if cls.__instance is None: # 인스턴스가 없을때 인스턴스를 새로 만들고 있다면 기존걸 리턴함\n",
        "            cls.__instance = super(ClothesFactoryProvider, cls).__new__(cls)\n",
        "        return cls.__instance\n",
        "\n",
        "    # getFactory(season)으로 계절에 맞는 팩토리 반환\n",
        "    def getFactory(self, season: str) -> ClothesFactory:\n",
        "        if season == \"여름\":\n",
        "            return SummerClothesFactory()\n",
        "        elif season == \"겨율\":\n",
        "            return WinterClothesFactory()\n",
        "        else:\n",
        "            raise ValueError(\"Invalid season\")"
      ],
      "execution_count": 33,
      "outputs": []
    },
    {
      "cell_type": "code",
      "source": [
        "# ======================\n",
        "# 빌더\n",
        "# ======================\n",
        "class ClothesBuilder:\n",
        "    def __init__(self, clothes_type):\n",
        "        self.clothes_type = clothes_type # clothes_type에는 생성할 클래스(TShirts, Sweater 등)를 전달\n",
        "        self.color = None\n",
        "        self.size = None\n",
        "\n",
        "    def setColor(self, color: str):\n",
        "        self.color = color\n",
        "        return self\n",
        "\n",
        "    def setSize(self, size: int):\n",
        "        self.size = size\n",
        "        return self\n",
        "\n",
        "    def build(self):\n",
        "        return self.clothes_type(self.color, self.size)"
      ],
      "metadata": {
        "id": "3ymX1AzVNPEj"
      },
      "execution_count": 34,
      "outputs": []
    },
    {
      "cell_type": "code",
      "metadata": {
        "colab": {
          "base_uri": "https://localhost:8080/"
        },
        "id": "ff661763",
        "outputId": "7c3d2654-f4f7-460a-9940-dbf1b192abde"
      },
      "source": [
        "# ======================\n",
        "# 클라이언트 코드\n",
        "# ======================\n",
        "if __name__ == \"__main__\":\n",
        "    factory_provider = ClothesFactoryProvider() # provier 객체 생성\n",
        "    wardrobe_manager = WardrobeManager() # WardrobeManager 객체 생성\n",
        "\n",
        "    # 추상화 팩토리 사용 예시\n",
        "    factory = factory_provider.getFactory(\"여름\")\n",
        "    top = factory.createTop()\n",
        "    bottom = factory.createBottom()\n",
        "\n",
        "    # type(top).__name__: 생성된 객체의 클래스 이름(TShirts, Sweater 등)을 출력\n",
        "    print(f\"여름 상의: {type(top).__name__}, 색상: {top.color}, 사이즈: {top.size}\")\n",
        "    print(f\"여름 하의: {type(bottom).__name__}, 색상: {bottom.color}, 사이즈: {bottom.size}\")\n",
        "\n",
        "    # 빌더 사용 예시\n",
        "    builder = ClothesBuilder(TShirts)\n",
        "    tshirt = builder.setColor(\"빨강\").setSize(100).build()\n",
        "    print(f\"커스텀 티셔츠: 색상: {tshirt.color}, 사이즈: {tshirt.size}\")\n",
        "\n",
        "    # 프로토 타입 사용 예시\n",
        "    tshirt_clone = tshirt.clone()\n",
        "    print(f\"복사한 티셔츠: 색상: {tshirt_clone.color}, 사이즈: {tshirt_clone.size}\")\n",
        "\n",
        "\n",
        "    print(\"\\n옷 작업 선택:\")\n",
        "\n",
        "    def choose_action(item: Clothes):\n",
        "        \"\"\"사용자에게 옷 작업 선택을 요청 (간단한 시뮬레이션)\"\"\"\n",
        "        action = input(f\"'{item}'을(를) 어떻게 하시겠습니까? (입기/보관): \").lower()\n",
        "        if action == \"입기\":\n",
        "            wardrobe_manager.wear_clothes(item) # WardrobeManager의 wear_clothes 사용\n",
        "        elif action == \"보관\":\n",
        "            wardrobe_manager.store_clothes(item) # WardrobeManager의 store_clothes 사용\n",
        "        else:\n",
        "            print(\"잘못된 선택입니다.\")\n",
        "\n",
        "    # 옷 작업 선택 예시\n",
        "    choose_action(top)\n",
        "    choose_action(bottom)\n",
        "    choose_action(tshirt)\n",
        "\n",
        "    wardrobe_manager.show_wardrobe() # WardrobeManager의 show_wardrobe 사용"
      ],
      "execution_count": 35,
      "outputs": [
        {
          "output_type": "stream",
          "name": "stdout",
          "text": [
            "여름 상의: TShirts, 색상: 흰색, 사이즈: 95\n",
            "여름 하의: Shorts, 색상: 파란색, 사이즈: 30\n",
            "커스텀 티셔츠: 색상: 빨강, 사이즈: 100\n",
            "복사한 티셔츠: 색상: 빨강, 사이즈: 100\n",
            "\n",
            "옷 작업 선택:\n",
            "'TShirts (색상: 흰색, 사이즈: 95)'을(를) 어떻게 하시겠습니까? (입기/보관): 입기\n",
            "TShirts (색상: 흰색, 사이즈: 95)을(를) 입습니다.\n",
            "'Shorts (색상: 파란색, 사이즈: 30)'을(를) 어떻게 하시겠습니까? (입기/보관): 보관\n",
            "Shorts (색상: 파란색, 사이즈: 30)을(를) 옷장에 보관했습니다.\n",
            "'TShirts (색상: 빨강, 사이즈: 100)'을(를) 어떻게 하시겠습니까? (입기/보관): 입기\n",
            "TShirts (색상: 빨강, 사이즈: 100)을(를) 입습니다.\n",
            "\n",
            "옷장 안의 옷:\n",
            "- Shorts (색상: 파란색, 사이즈: 30)\n"
          ]
        }
      ]
    },
    {
      "cell_type": "markdown",
      "source": [
        "## Structual Patterns"
      ],
      "metadata": {
        "id": "2y1UhKzUMV2Y"
      }
    },
    {
      "cell_type": "markdown",
      "source": [
        "### Adpater Pattern\n",
        "- 서로 다른 인터페이스를 가진 클래스를 연결해, 클라이언트가 호환되지 않는 인터페이스를 신경 쓰지 않고 사용할 수 있게 해주는 패턴"
      ],
      "metadata": {
        "id": "f03h_TG0S5Ws"
      }
    },
    {
      "cell_type": "markdown",
      "source": [
        "#### 장점\n",
        "- 기존 코드를 변경하지 않고 새로운 클래스나 시스템과 호환 가능\n",
        "- 클라이언트 코드 수정 최소화\n",
        "- 라이브러리 통합 시 유용함\n",
        "\n",
        "#### 단점\n",
        "- Adapter 클래스가 많아지면 코드가 복잡해짐\n",
        "- 중간 매개체가 하나 더 생기므로 약간의 오버헤드 발생"
      ],
      "metadata": {
        "id": "jfAbb2ZGkeu9"
      }
    },
    {
      "cell_type": "markdown",
      "source": [
        "#### code 1"
      ],
      "metadata": {
        "id": "ZtkhRYZyTZcR"
      }
    },
    {
      "cell_type": "code",
      "source": [
        "from abc import ABC, abstractmethod\n",
        "\n",
        "class PaymentProcessor(ABC):\n",
        "  def pay(self, amount):\n",
        "    pass\n",
        "\n",
        "class CreditCardPayment(PaymentProcessor):\n",
        "  def __init__(self, card_number, card_password):\n",
        "    self.card_number = card_number\n",
        "    self.card_password = card_password\n",
        "\n",
        "  def pay(self, amount):\n",
        "    print(f\"카드로 {amount}원을 결제하겠습니다. 카드번호: {self.card_number}\")\n",
        "\n",
        "class KakaoPay:\n",
        "  def __init__(self, user_id, password):\n",
        "    self.user_id = user_id\n",
        "    self.password = password\n",
        "\n",
        "  def login_and_pay(self, amount):\n",
        "    print(f\"카카오페이로 {amount}원을 결제하겠습니다.\")\n",
        "\n",
        "class TossPay:\n",
        "  def __init__(self, user_id, password):\n",
        "    self.user_id = user_id\n",
        "    self.password = password\n",
        "\n",
        "  def login_and_pay(self, amount):\n",
        "    print(f\"토스페이로 {amount}원을 결제하겠습니다.\")\n",
        "\n",
        "class NaverPay:\n",
        "  def __init__(self, user_id, password):\n",
        "    self.user_id = user_id\n",
        "    self.password = password\n",
        "\n",
        "  def login_and_pay(self, amount):\n",
        "    print(f\"네이버페이로 {amount}원을 결제하겠습니다.\")\n",
        "\n",
        "class SimplePayAdapter(PaymentProcessor):\n",
        "  def __init__(self, simple_pay):\n",
        "    self.simple_pay = simple_pay\n",
        "\n",
        "  def pay(self, amount):\n",
        "    self.simple_pay.login_and_pay(amount)\n",
        "\n",
        "\n",
        "cardpay = CreditCardPayment(\"1234-5678-9012-3456\", \"1234\")\n",
        "cardpay.pay(1000)\n",
        "\n",
        "kakao = KakaoPay(\"user123\", \"password456\")\n",
        "kakaopay = SimplePayAdapter(kakao)\n",
        "kakaopay.pay(2000)"
      ],
      "metadata": {
        "colab": {
          "base_uri": "https://localhost:8080/"
        },
        "id": "flZjqfBtTdWa",
        "outputId": "c9fd66f5-15ba-4073-b67d-6c68a4854032"
      },
      "execution_count": 36,
      "outputs": [
        {
          "output_type": "stream",
          "name": "stdout",
          "text": [
            "카드로 1000원을 결제하겠습니다. 카드번호: 1234-5678-9012-3456\n",
            "카카오페이로 2000원을 결제하겠습니다.\n"
          ]
        }
      ]
    },
    {
      "cell_type": "code",
      "source": [
        "from abc import ABC, abstractmethod\n",
        "\n",
        "class MediaPlayer(ABC):\n",
        "    @abstractmethod\n",
        "    def play(self, audio_type: str, filename: str):\n",
        "        pass\n",
        "\n",
        "class Mp4Player: # mp4만 지원하는 클래스\n",
        "    def play_mp4(self, filename: str):\n",
        "        print(f\"Mp4Player: Playing mp4 file {filename}\")\n",
        "\n",
        "class VlcPlayer: # vlc만 지원하는 클래스\n",
        "    def play_vlc(self, filename: str):\n",
        "        print(f\"VlcPlayer: Playing vlc file {filename}\")\n",
        "\n",
        "class WavPlayer: # wav만 지원하는 클래스\n",
        "    def play_wav(self, filename: str):\n",
        "        print(f\"WavPlayer: Playing wav file {filename}\")\n",
        "\n",
        "class MediaAdapter: # 어댑터 클래스 생성\n",
        "    def __init__(self, audio_type: str):\n",
        "        self.audio_type = audio_type.lower()\n",
        "        # audio 타입에 따라 각각의 클래스 호츌\n",
        "        if self.audio_type == \"mp4\":\n",
        "            self.player = Mp4Player()\n",
        "        elif self.audio_type == \"vlc\":\n",
        "            self.player = VlcPlayer()\n",
        "        elif self.audio_type == \"wav\":\n",
        "            self.player = WavPlayer()\n",
        "        else:\n",
        "            self.player = None\n",
        "\n",
        "    # audio 타입에 따른 클래스 내의 play 메서드 호출\n",
        "    def play(self, audio_type: str, filename: str):\n",
        "        if self.audio_type == \"mp4\":\n",
        "            self.player.play_mp4(filename)\n",
        "        elif self.audio_type == \"vlc\":\n",
        "            self.player.play_vlc(filename)\n",
        "        elif self.audio_type == \"wav\":\n",
        "            self.player.play_wav(filename)\n",
        "\n",
        "class AudioPlayer(MediaPlayer):\n",
        "    def play(self, audio_type: str, filename: str):\n",
        "        audio_type = audio_type.lower()\n",
        "\n",
        "        # 기본적으로 지원하는 mp3일떄\n",
        "        if audio_type == \"mp3\":\n",
        "            print(f\"AudioPlayer: Playing mp3 file {filename}\")\n",
        "\n",
        "        # 어댑터를 통한 다른 타입 지원\n",
        "        elif audio_type in [\"mp4\", \"vlc\", \"wav\"]:\n",
        "            adapter = MediaAdapter(audio_type)\n",
        "            adapter.play(audio_type, filename)\n",
        "\n",
        "        # 그 외 타입일 떄\n",
        "        else:\n",
        "            print(f\"AudioPlayer: {audio_type} format not supported\")\n",
        "\n",
        "if __name__ == \"__main__\":\n",
        "    player = AudioPlayer()\n",
        "\n",
        "    # 기본 지원 타입\n",
        "    player.play(\"mp3\", \"song.mp3\")\n",
        "\n",
        "    # 어댑터를 통한 다른 타입들\n",
        "    player.play(\"mp4\", \"movie.mp4\")\n",
        "    player.play(\"vlc\", \"video.vlc\")\n",
        "    player.play(\"wav\", \"audio.wav\")\n",
        "\n",
        "    # 지원하지 않는 타입\n",
        "    player.play(\"avi\", \"video.avi\")"
      ],
      "metadata": {
        "colab": {
          "base_uri": "https://localhost:8080/"
        },
        "id": "L_NEq2hRS5Jz",
        "outputId": "2de8186d-186c-4d2d-e338-9c3900cd56a8"
      },
      "execution_count": 37,
      "outputs": [
        {
          "output_type": "stream",
          "name": "stdout",
          "text": [
            "AudioPlayer: Playing mp3 file song.mp3\n",
            "Mp4Player: Playing mp4 file movie.mp4\n",
            "VlcPlayer: Playing vlc file video.vlc\n",
            "WavPlayer: Playing wav file audio.wav\n",
            "AudioPlayer: avi format not supported\n"
          ]
        }
      ]
    },
    {
      "cell_type": "markdown",
      "source": [
        "#### code 2"
      ],
      "metadata": {
        "id": "Es0U2cfZ5wl5"
      }
    },
    {
      "cell_type": "code",
      "source": [
        "from abc import ABC, abstractmethod\n",
        "\n",
        "class SendMessage(ABC):\n",
        "  @abstractmethod\n",
        "  def send(self, message: str):\n",
        "    pass\n",
        "\n",
        "\n",
        "class SMS(SendMessage):\n",
        "  def __init__(self, phone_number: str):\n",
        "    self.phone_number = phone_number\n",
        "\n",
        "  def send(self, message: str):\n",
        "    print(f\"{self.phone_number}로 '{message}'를 보냈습니다.\")\n",
        "\n",
        "\n",
        "class EmailService:\n",
        "  def __init__(self, sender_email: str, password: str):\n",
        "    self.sender_email = sender_email\n",
        "    self.password = password\n",
        "\n",
        "  def send_email(self, receiver_email: str, message: str):\n",
        "    print(f\"{self.sender_email}가 {receiver_email}에게 이메일로 '{message}'를 보냈습니다.\")\n",
        "\n",
        "\n",
        "class KakaoTalkService:\n",
        "  def __init__(self, user_id: str, password: str):\n",
        "    self.user_id = user_id\n",
        "    self.password = password\n",
        "\n",
        "  def send_kakao(self, friend_id: str, message: str):\n",
        "    print(f\"{self.user_id}가 {friend_id}에게 카카오톡으로 '{message}'를 보냈습니다.\")\n",
        "\n",
        "\n",
        "class LineService:\n",
        "  def __init__(self, user_id: str, password: str):\n",
        "    self.user_id = user_id\n",
        "    self.password = password\n",
        "\n",
        "  def send_line(self, friend_id: str, message: str):\n",
        "    print(f\"{self.user_id}가 {friend_id}에게 라인으로 '{message}'를 보냈습니다.\")\n",
        "\n",
        "\n",
        "class MessageAdapter(SendMessage):\n",
        "  def __init__(self, service, receiver: str):\n",
        "    self.service = service\n",
        "    self.receiver = receiver\n",
        "\n",
        "  def send(self, message: str):\n",
        "    if isinstance(self.service, EmailService):\n",
        "      self.service.send_email(self.receiver, message)\n",
        "    elif isinstance(self.service, KakaoTalkService):\n",
        "      self.service.send_kakao(self.receiver, message)\n",
        "    elif isinstance(self.service, LineService):\n",
        "      self.service.send_line(self.receiver, message)\n",
        "    else:\n",
        "      raise TypeError(\"지원되지 않는 메시지 서비스입니다.\")\n",
        "\n",
        "\n",
        "sms = SMS(\"010-1234-5678\")\n",
        "sms.send(\"문자 메시지 테스트\")\n",
        "\n",
        "email = EmailService(\"user@example.com\", \"pw1234\")\n",
        "email_adapter = MessageAdapter(email, \"friend@example.com\")\n",
        "email_adapter.send(\"메일 테스트\")\n",
        "\n",
        "kakao = KakaoTalkService(\"user123\", \"pw4567\")\n",
        "kakao_adapter = MessageAdapter(kakao, \"friendABC\")\n",
        "kakao_adapter.send(\"카톡 테스트\")\n",
        "\n",
        "line = LineService(\"user987\", \"pw7890\")\n",
        "line_adapter = MessageAdapter(line, \"friendXYZ\")\n",
        "line_adapter.send(\"라인 테스트\")"
      ],
      "metadata": {
        "colab": {
          "base_uri": "https://localhost:8080/"
        },
        "id": "7rO1GxlapHJt",
        "outputId": "4ec50f77-c5e8-4bec-e814-2b4dbf1cb3f2"
      },
      "execution_count": 38,
      "outputs": [
        {
          "output_type": "stream",
          "name": "stdout",
          "text": [
            "010-1234-5678로 '문자 메시지 테스트'를 보냈습니다.\n",
            "user@example.com가 friend@example.com에게 이메일로 '메일 테스트'를 보냈습니다.\n",
            "user123가 friendABC에게 카카오톡으로 '카톡 테스트'를 보냈습니다.\n",
            "user987가 friendXYZ에게 라인으로 '라인 테스트'를 보냈습니다.\n"
          ]
        }
      ]
    },
    {
      "cell_type": "markdown",
      "source": [
        "### Proxy Pattern\n",
        "- 실제 객체에 대한 접근을 제어하거나, 객체 생성 비용을 지연시키는 대리자 역할을 하는 객체를 만드는 패턴"
      ],
      "metadata": {
        "id": "Ekl53gxITApW"
      }
    },
    {
      "cell_type": "markdown",
      "source": [
        "#### 장점\n",
        "- 실제 객체 접근을 제어할 수 있음\n",
        "- 객체 생성 비용 절감\n",
        "- 클라이언트 코드 변경 없이 부가 기능 추가 가능\n",
        "\n",
        "#### 단점\n",
        "- Proxy 객체로 인해 코드 구조가 복잡해질 수 있음\n",
        "- 실제 객체와 Proxy 간의 추가 레이어 -> 오버헤드 발생 가능"
      ],
      "metadata": {
        "id": "7YsNss2Mtid6"
      }
    },
    {
      "cell_type": "markdown",
      "source": [
        "#### code1"
      ],
      "metadata": {
        "id": "YYZ_77CXua9l"
      }
    },
    {
      "cell_type": "code",
      "source": [
        "from abc import ABC, abstractmethod\n",
        "import time\n",
        "\n",
        "class Image(ABC):\n",
        "    @abstractmethod\n",
        "    def display(self):\n",
        "        pass\n",
        "\n",
        "class RealImage(Image): # 실제 이미지 객체\n",
        "    def __init__(self, filename: str):\n",
        "        self.filename = filename\n",
        "        self.load_image()\n",
        "\n",
        "    def load_image(self): # 이미지 불러오는 메서드\n",
        "        print(f\"[RealImage] {self.filename} 로딩 중...\")\n",
        "        time.sleep(1)  # 로딩 시간 시뮬레이션\n",
        "        print(f\"[RealImage] {self.filename} 로딩 완료\")\n",
        "\n",
        "    def display(self): # 이미지 보여주는 메서드\n",
        "        print(f\"[RealImage] {self.filename} 화면에 표시\")\n",
        "\n",
        "class ImageProxy(Image): # 프록시 객체\n",
        "    def __init__(self, filename: str):\n",
        "        self.filename = filename\n",
        "        self.real_image = None\n",
        "\n",
        "    def display(self): # 이미지를 보여주는 메서드\n",
        "        if self.real_image is None:\n",
        "            # 로딩된 이미지가 없을 때 실제 이미지 로딩.\n",
        "            self.real_image = RealImage(self.filename)\n",
        "        else: # 있다면 저장해둔 이미지 보여주기\n",
        "            print(f\"[Proxy] {self.filename} 이미 캐시됨\")\n",
        "        self.real_image.display()\n",
        "\n",
        "if __name__ == \"__main__\":\n",
        "    image1 = ImageProxy(\"cat.png\")\n",
        "    image2 = ImageProxy(\"dzog.png\")\n",
        "\n",
        "    image1.display()  # 처음 호출 → 실제 로딩\n",
        "    image1.display()  # 두번째 호출 → 캐시 사용\n",
        "\n",
        "    print(\"\")\n",
        "\n",
        "    image2.display()  # 처음 호출 → 실제 로딩\n",
        "    image2.display()  # 두번째 호출 → 캐시 사용"
      ],
      "metadata": {
        "colab": {
          "base_uri": "https://localhost:8080/"
        },
        "id": "Ehb2U8zjTFZJ",
        "outputId": "d90bdf44-3198-4319-e939-3485057e95ce"
      },
      "execution_count": 39,
      "outputs": [
        {
          "output_type": "stream",
          "name": "stdout",
          "text": [
            "[RealImage] cat.png 로딩 중...\n",
            "[RealImage] cat.png 로딩 완료\n",
            "[RealImage] cat.png 화면에 표시\n",
            "[Proxy] cat.png 이미 캐시됨\n",
            "[RealImage] cat.png 화면에 표시\n",
            "\n",
            "[RealImage] dzog.png 로딩 중...\n",
            "[RealImage] dzog.png 로딩 완료\n",
            "[RealImage] dzog.png 화면에 표시\n",
            "[Proxy] dzog.png 이미 캐시됨\n",
            "[RealImage] dzog.png 화면에 표시\n"
          ]
        }
      ]
    },
    {
      "cell_type": "markdown",
      "source": [
        "#### code2"
      ],
      "metadata": {
        "id": "MR667g3sucVe"
      }
    },
    {
      "cell_type": "code",
      "source": [
        "import time\n",
        "import random\n",
        "from abc import ABC, abstractmethod\n",
        "\n",
        "class ServiceInterface(ABC):\n",
        "    @abstractmethod\n",
        "    def fetch_data(self, endpoint):\n",
        "        pass\n",
        "\n",
        "class APIService(ServiceInterface):\n",
        "    def fetch_data(self, endpoint):\n",
        "        print(f\"API 호출: {endpoint}\")\n",
        "        if random.random() < 0.3:\n",
        "            raise Exception(\"API 요청 실패!\")\n",
        "        return f\"데이터 from {endpoint}\"\n",
        "\n",
        "\n",
        "class APIServiceProxy(ServiceInterface):\n",
        "    def __init__(self, real_service, retry=3, rate_limit=2):\n",
        "        self._real_service = real_service\n",
        "        self._retry = retry\n",
        "        self._rate_limit = rate_limit\n",
        "        self._last_call = 0\n",
        "\n",
        "    def fetch_data(self, endpoint):\n",
        "        current_time = time.time()\n",
        "        if current_time - self._last_call < self._rate_limit:\n",
        "            wait_time = self._rate_limit - (current_time - self._last_call)\n",
        "            print(f\"호출 제한: {wait_time:.1f}초 대기\")\n",
        "            time.sleep(wait_time)\n",
        "        self._last_call = time.time()\n",
        "\n",
        "        for attempt in range(1, self._retry + 1):\n",
        "            try:\n",
        "                print(f\"[시도 {attempt}] Proxy가 APIService에 요청 위임...\")\n",
        "                result = self._real_service.fetch_data(endpoint)\n",
        "                print(\"API 호출 성공!\")\n",
        "                return result\n",
        "            except Exception as e:\n",
        "                print(f\"실패: {e}\")\n",
        "                if attempt == self._retry:\n",
        "                    print(\"모든 재시도 실패!\")\n",
        "                    return None\n",
        "                print(\"재시도 중...\")\n",
        "\n",
        "real_service = APIService()\n",
        "proxy = APIServiceProxy(real_service)\n",
        "\n",
        "print(proxy.fetch_data(\"/users\"))\n",
        "print(proxy.fetch_data(\"/posts\"))"
      ],
      "metadata": {
        "colab": {
          "base_uri": "https://localhost:8080/"
        },
        "id": "wmfe0xObufUW",
        "outputId": "534baca5-4cc2-467d-e498-26f844aeed57"
      },
      "execution_count": 40,
      "outputs": [
        {
          "output_type": "stream",
          "name": "stdout",
          "text": [
            "[시도 1] Proxy가 APIService에 요청 위임...\n",
            "API 호출: /users\n",
            "API 호출 성공!\n",
            "데이터 from /users\n",
            "호출 제한: 2.0초 대기\n",
            "[시도 1] Proxy가 APIService에 요청 위임...\n",
            "API 호출: /posts\n",
            "API 호출 성공!\n",
            "데이터 from /posts\n"
          ]
        }
      ]
    },
    {
      "cell_type": "markdown",
      "source": [
        "### Facade Pattern\n",
        "- 컴퓨터 부팅 과정"
      ],
      "metadata": {
        "id": "PP7ovL_1TFm7"
      }
    },
    {
      "cell_type": "markdown",
      "source": [
        "#### code1"
      ],
      "metadata": {
        "id": "ztJPAKJVGW82"
      }
    },
    {
      "cell_type": "code",
      "source": [
        "class Cpu: # CPU 클래스 생성\n",
        "  def power(self): # 전원 공급받기\n",
        "    print(\"power on\")\n",
        "\n",
        "  def readRom(self): # rom 읽기\n",
        "    print(\"read rom\")\n",
        "\n",
        "  def start(self): # cpu 준비완료\n",
        "    print(\"cpu ready\")\n",
        "\n",
        "class Memory:\n",
        "  def hardwareCheck(self): # 하드웨어 확인\n",
        "    print(\"hardware check\")\n",
        "\n",
        "  def loadOs(self): # OS 불러오기\n",
        "    print(\"load OS\")\n",
        "\n",
        "  def start(self): # memory 준비완료\n",
        "    print(\"memory ready\")\n",
        "\n",
        "class Disk:\n",
        "  def readMbr(self): # MBR 읽기\n",
        "    print(\"read MBR\")\n",
        "\n",
        "  def startBootcode(self): # Bootcode 실행\n",
        "    print(\"find Partition\")\n",
        "\n",
        "  def start(self):\n",
        "    print(\"disk ready\") # disk 준비 완료\n",
        "\n",
        "class ComputerFacade:\n",
        "  def __init__(self): # CPU, Memory, Disk 가져오기\n",
        "    self.cpu = Cpu()\n",
        "    self.memory = Memory()\n",
        "    self.disk = Disk()\n",
        "\n",
        "  def start(self): # 컴퓨터 시작하는 메서드\n",
        "    print(\"컴퓨터 전원을 키는중..\")\n",
        "    print(\"\")\n",
        "\n",
        "    # cpu 관련\n",
        "    self.cpu.power()\n",
        "    self.cpu.readRom()\n",
        "    self.cpu.start()\n",
        "\n",
        "    print(\"\")\n",
        "\n",
        "    # memory 관련\n",
        "    self.memory.hardwareCheck()\n",
        "    self.memory.loadOs()\n",
        "    self.memory.start()\n",
        "\n",
        "    print(\"\")\n",
        "\n",
        "    # disk 관련\n",
        "    self.disk.readMbr()\n",
        "    self.disk.startBootcode()\n",
        "    self.disk.start()\n",
        "\n",
        "    print(\"\")\n",
        "\n",
        "    print(\"컴퓨터가 시작되었습니다.\")"
      ],
      "metadata": {
        "id": "GvJthLhgTI8Z"
      },
      "execution_count": 41,
      "outputs": []
    },
    {
      "cell_type": "code",
      "source": [
        "# 컴퓨터 객체 생성\n",
        "computer = ComputerFacade()\n",
        "\n",
        "# 컴퓨터 시작\n",
        "computer.start()"
      ],
      "metadata": {
        "colab": {
          "base_uri": "https://localhost:8080/"
        },
        "id": "bGZ-lX5tcWur",
        "outputId": "13800119-bfe8-497d-c479-0bbcb61eff12"
      },
      "execution_count": 42,
      "outputs": [
        {
          "output_type": "stream",
          "name": "stdout",
          "text": [
            "컴퓨터 전원을 키는중..\n",
            "\n",
            "power on\n",
            "read rom\n",
            "cpu ready\n",
            "\n",
            "hardware check\n",
            "load OS\n",
            "memory ready\n",
            "\n",
            "read MBR\n",
            "find Partition\n",
            "disk ready\n",
            "\n",
            "컴퓨터가 시작되었습니다.\n"
          ]
        }
      ]
    },
    {
      "cell_type": "markdown",
      "source": [
        "#### Code2"
      ],
      "metadata": {
        "id": "Mtpp-MxNyVfr"
      }
    },
    {
      "cell_type": "code",
      "source": [
        "import time\n",
        "\n",
        "class Light:\n",
        "  def on(self):\n",
        "    print(\"조명 On\")\n",
        "  def off(self):\n",
        "    print('조명 Off')\n",
        "\n",
        "class Tv:\n",
        "  def on(self):\n",
        "    print(\"TV On\")\n",
        "  def off(self):\n",
        "    print(\"TV Off\")\n",
        "\n",
        "class Ac:\n",
        "  def on(self):\n",
        "    print(\"에어컨 On\")\n",
        "\n",
        "  def off(self):\n",
        "    print(\"에어컨 Off\")\n",
        "\n",
        "class HomeFacade:\n",
        "  def __init__(self):\n",
        "    self.light = Light()\n",
        "    self.tv = Tv()\n",
        "    self.ac = Ac()\n",
        "\n",
        "  def come(self):\n",
        "    print(\"집에 들어옴\")\n",
        "\n",
        "    time.sleep(1)\n",
        "\n",
        "    self.light.on()\n",
        "    self.tv.on()\n",
        "    self.ac.on()\n",
        "\n",
        "    print(\"\")\n",
        "\n",
        "    time.sleep(3)\n",
        "\n",
        "    print(\"외출모드\")\n",
        "\n",
        "    time.sleep(1)\n",
        "\n",
        "    self.light.off()\n",
        "    self.tv.off()\n",
        "    self.ac.off()"
      ],
      "metadata": {
        "id": "MipjkHWXyVNH"
      },
      "execution_count": 43,
      "outputs": []
    },
    {
      "cell_type": "code",
      "source": [
        "home = HomeFacade()\n",
        "\n",
        "\n",
        "home.come()"
      ],
      "metadata": {
        "colab": {
          "base_uri": "https://localhost:8080/"
        },
        "id": "DYSieVqgz9D0",
        "outputId": "83502449-50c7-4c4f-fefc-d48bdade76e4"
      },
      "execution_count": 44,
      "outputs": [
        {
          "output_type": "stream",
          "name": "stdout",
          "text": [
            "집에 들어옴\n",
            "조명 On\n",
            "TV On\n",
            "에어컨 On\n",
            "\n",
            "외출모드\n",
            "조명 Off\n",
            "TV Off\n",
            "에어컨 Off\n"
          ]
        }
      ]
    },
    {
      "cell_type": "markdown",
      "source": [
        "### Decorator Pattern\n",
        "- 객체의 기존 코드를 수정하지 않고, 동적으로 기능을 추가하는 패턴"
      ],
      "metadata": {
        "id": "VM8dQUy3TJJz"
      }
    },
    {
      "cell_type": "markdown",
      "source": [
        "#### 장점\n",
        "- 기존 코드를 수정 없이 기능 확장 가능 -> OCP 준수\n",
        "- 다양한 기능 조합이 가능 -> 코드 중복 감소\n",
        "- 런타임에 기능 추가 가능 -> 유연성 높음\n",
        "\n",
        "#### 단점\n",
        "- 데코레이터가 많아지면 구조가 복잡해짐\n",
        "- 객체가 여러 겹으로 호장되면 디버깅이 어려워질 수 있음\n",
        "- 남용 시 가독성 저하"
      ],
      "metadata": {
        "id": "9cIqhqoif0EM"
      }
    },
    {
      "cell_type": "markdown",
      "source": [
        "#### code1"
      ],
      "metadata": {
        "id": "OBqUeDBqf2TO"
      }
    },
    {
      "cell_type": "code",
      "source": [
        "from abc import ABC, abstractmethod\n",
        "\n",
        "class Desk(ABC):  # Desk - 추상 클래스\n",
        "    @abstractmethod\n",
        "    def info(self):\n",
        "      pass\n",
        "\n",
        "class EmptyDesk(Desk):  # 빈 데스크\n",
        "    def info(self):\n",
        "        print(\"비어있는 책상: \", end=\"\")\n",
        "\n",
        "class BasicDesk(Desk):  # 기본 데스크\n",
        "    def info(self):\n",
        "        print(\"기본 책상: 컴퓨터\", end=\"\")\n",
        "# -------------------\n",
        "# Decorator Pattern\n",
        "# -------------------\n",
        "\n",
        "class DeskDecorator(Desk):  # Decorator - 추상 데코레이터\n",
        "    def __init__(self, desk: Desk):\n",
        "        self.desk = desk\n",
        "\n",
        "    def info(self):\n",
        "        self.desk.info()\n",
        "\n",
        "# 구체적인 데코레이터들\n",
        "class MonitorDecorator(DeskDecorator):\n",
        "    def info(self):\n",
        "        self.desk.info()\n",
        "        print(\" & 모니터\", end=\"\")\n",
        "\n",
        "class KeyboardDecorator(DeskDecorator):\n",
        "    def info(self):\n",
        "        self.desk.info()\n",
        "        print(\" & 키보드\", end=\"\")\n",
        "\n",
        "class MouseDecorator(DeskDecorator):\n",
        "    def info(self):\n",
        "        self.desk.info()\n",
        "        print(\" & 마우스\", end=\"\")\n",
        "\n",
        "class SpeakerDecorator(DeskDecorator):\n",
        "    def info(self):\n",
        "        self.desk.info()\n",
        "        print(\" & 스피커\", end=\"\")\n",
        "\n",
        "def makeMyDesk(desk: Desk):\n",
        "    desk.info()\n",
        "    print(\"\")\n",
        "\n",
        "# 베이직 데스크\n",
        "myDesk = BasicDesk()\n",
        "makeMyDesk(myDesk)\n",
        "\n",
        "# 비어있는 데스크\n",
        "emptyDesk = EmptyDesk()\n",
        "makeMyDesk(emptyDesk)\n",
        "\n",
        "# 데코레이터 체이닝\n",
        "newDesk = EmptyDesk()\n",
        "\n",
        "newDesk = KeyboardDecorator(newDesk)\n",
        "makeMyDesk(newDesk)\n",
        "\n",
        "newDesk = MouseDecorator(newDesk)\n",
        "makeMyDesk(newDesk)\n",
        "\n",
        "\n",
        "officeDesk = BasicDesk()\n",
        "\n",
        "officeDesk = MonitorDecorator(officeDesk)\n",
        "makeMyDesk(officeDesk)\n",
        "\n",
        "officeDesk = SpeakerDecorator(officeDesk)\n",
        "makeMyDesk(officeDesk)"
      ],
      "metadata": {
        "colab": {
          "base_uri": "https://localhost:8080/"
        },
        "id": "-6s_y_8ETMSb",
        "outputId": "388864d4-c567-464e-b01b-de49df160d9e"
      },
      "execution_count": 45,
      "outputs": [
        {
          "output_type": "stream",
          "name": "stdout",
          "text": [
            "기본 책상: 컴퓨터\n",
            "비어있는 책상: \n",
            "비어있는 책상:  & 키보드\n",
            "비어있는 책상:  & 키보드 & 마우스\n",
            "기본 책상: 컴퓨터 & 모니터\n",
            "기본 책상: 컴퓨터 & 모니터 & 스피커\n"
          ]
        }
      ]
    },
    {
      "cell_type": "markdown",
      "source": [
        "#### code2"
      ],
      "metadata": {
        "id": "L4IYoimpf_Mj"
      }
    },
    {
      "cell_type": "code",
      "source": [
        "class Player:\n",
        "  def wear(self):\n",
        "    pass\n",
        "\n",
        "class Batter(Player):\n",
        "  def wear(self):\n",
        "    print(\"착용중인 장비: 야구 방망이, 헬멧\", end = \"\")\n",
        "\n",
        "class Catcher(Player):\n",
        "  def wear(self):\n",
        "    print(\"착용중인 장비: 포수 마스크\", end = \"\")\n",
        "\n",
        "class PlayerDecorator(Player):\n",
        "  def __init__(self, player: Player):\n",
        "    self.player = player\n",
        "\n",
        "  def wear(self):\n",
        "    self.player.wear()\n",
        "\n",
        "class ElbowGuard(PlayerDecorator):\n",
        "  def wear(self):\n",
        "    self.player.wear()\n",
        "    print(\", 팔꿈치 보호대\", end = \"\")\n",
        "\n",
        "class KneeGuard(PlayerDecorator):\n",
        "  def wear(self):\n",
        "    self.player.wear()\n",
        "    print(\", 무릎 보호대\", end = \"\")\n",
        "\n",
        "\n",
        "class AnkleGuard(PlayerDecorator):\n",
        "  def wear(self):\n",
        "    self.player.wear()\n",
        "    print(\", 다리 보호대\", end = \"\")\n",
        "\n",
        "class PelvicFloorGuard(PlayerDecorator):\n",
        "  def wear(self):\n",
        "    self.player.wear()\n",
        "    print(\", 낭심 보호대\", end = \"\")\n",
        "\n",
        "\n",
        "def makeMyPlayer(player: Player):\n",
        "    player.wear()\n",
        "    print(\"\")\n",
        "\n",
        "batter = Batter()\n",
        "makeMyPlayer(batter)\n",
        "\n",
        "batter = ElbowGuard(batter)\n",
        "\n",
        "batter = KneeGuard(batter)\n",
        "makeMyPlayer(batter)\n",
        "\n",
        "print(\"\")\n",
        "\n",
        "catcher = Catcher()\n",
        "makeMyPlayer(catcher)\n",
        "\n",
        "catcher = PelvicFloorGuard(catcher)\n",
        "makeMyPlayer(catcher)"
      ],
      "metadata": {
        "colab": {
          "base_uri": "https://localhost:8080/"
        },
        "id": "20zRiWSuga7W",
        "outputId": "6a5324f6-3ec4-4952-8064-8ca43bb70e13"
      },
      "execution_count": 46,
      "outputs": [
        {
          "output_type": "stream",
          "name": "stdout",
          "text": [
            "착용중인 장비: 야구 방망이, 헬멧\n",
            "착용중인 장비: 야구 방망이, 헬멧, 팔꿈치 보호대, 무릎 보호대\n",
            "\n",
            "착용중인 장비: 포수 마스크\n",
            "착용중인 장비: 포수 마스크, 낭심 보호대\n"
          ]
        }
      ]
    },
    {
      "cell_type": "markdown",
      "source": [
        "### Bridge Pattern\n",
        "- 기능과 구현을 분리하여, 서로 독립적으로 확장할 수 있게 하는 구조 패턴"
      ],
      "metadata": {
        "id": "i1kRw29xlFDk"
      }
    },
    {
      "cell_type": "markdown",
      "source": [
        "#### 장점\n",
        "- 기능과 구현을 독립적으로 확장할 수 있음\n",
        "- 클래스 수가 늘어나는 문제를 방지함\n",
        "- 유지보수가 쉬움\n",
        "\n",
        "#### 단점\n",
        "- 구조가 복잡해질 수 있음\n",
        "- 설계 단계에서 추상화와 구현 분리를 잘 해야함."
      ],
      "metadata": {
        "id": "2wAXiMm9lFDl"
      }
    },
    {
      "cell_type": "markdown",
      "source": [
        "#### code2\n"
      ],
      "metadata": {
        "id": "3GunZk8PlFDl"
      }
    },
    {
      "cell_type": "code",
      "source": [
        "from abc import ABC, abstractmethod\n",
        "\n",
        "class Player(ABC):\n",
        "  @abstractmethod\n",
        "  def play_style(self, style_input):\n",
        "    pass\n",
        "\n",
        "\n",
        "class Batter(Player):\n",
        "  def play_style(self, style_input):\n",
        "    print(f\"{style_input} 타자 스타일\")\n",
        "\n",
        "\n",
        "class Pitcher(Player):\n",
        "  def play_style(self, style_input):\n",
        "    print(f\"{style_input} 투수 스타일\")\n",
        "\n",
        "\n",
        "class PlayerControl:\n",
        "  def __init__(self, player: Player):\n",
        "    self.player = player\n",
        "\n",
        "  def show_style(self, style_input):\n",
        "    self.player.play_style(style_input)\n",
        "\n",
        "\n",
        "class PlayerMode(PlayerControl):\n",
        "  def __init__(self, player: Player, mode: str):\n",
        "    super().__init__(player)\n",
        "    self.mode = mode\n",
        "\n",
        "  def activate_mode(self):\n",
        "    print(f\"{self.mode} 모드가 활성화되었습니다.\")\n",
        "\n",
        "\n",
        "batter = PlayerMode(Batter(), \"공격\")\n",
        "batter.activate_mode()\n",
        "batter.show_style(\"밸런스\")\n",
        "\n",
        "print(\"\")\n",
        "\n",
        "pitcher = PlayerMode(Pitcher(), \"수비\")\n",
        "pitcher.activate_mode()\n",
        "pitcher.show_style(\"강속구\")"
      ],
      "metadata": {
        "colab": {
          "base_uri": "https://localhost:8080/"
        },
        "outputId": "31039e06-e98c-4931-d484-f4e55faa735a",
        "collapsed": true,
        "id": "5zfDKmfjlFDl"
      },
      "execution_count": 47,
      "outputs": [
        {
          "output_type": "stream",
          "name": "stdout",
          "text": [
            "공격 모드가 활성화되었습니다.\n",
            "밸런스 타자 스타일\n",
            "\n",
            "수비 모드가 활성화되었습니다.\n",
            "강속구 투수 스타일\n"
          ]
        }
      ]
    },
    {
      "cell_type": "markdown",
      "source": [
        "### Flyweight Pattern\n",
        "- 메모리를 절약하기 위해 객체를 공유하고, 공통 속성만 저장하며 개별 속성은 별도로 관리하는 패턴"
      ],
      "metadata": {
        "id": "NcUJ37hmsnwP"
      }
    },
    {
      "cell_type": "markdown",
      "source": [
        "#### 장점\n",
        "- 객체 수를 줄여 메모리 절약\n",
        "- 반복 객체 생성 비용 감소\n",
        "- 대량의 유사 객체 관리에 효율적\n",
        "\n",
        "#### 단점\n",
        "- 구현 구조가 다소 복잡함\n",
        "- 개별 속성을 따로 관리 해야함"
      ],
      "metadata": {
        "id": "RFBEKvvBsnwQ"
      }
    },
    {
      "cell_type": "markdown",
      "source": [
        "#### code2\n"
      ],
      "metadata": {
        "id": "zZMoLvKlsnwQ"
      }
    },
    {
      "cell_type": "code",
      "source": [
        "class CharacterStyle:\n",
        "    def __init__(self, font, size, color):\n",
        "        self.font = font\n",
        "        self.size = size\n",
        "        self.color = color\n",
        "\n",
        "class StyleFactory:\n",
        "    _styles = {}\n",
        "\n",
        "    @classmethod\n",
        "    def get_style(cls, font, size, color):\n",
        "        key = (font, size, color)\n",
        "        if key not in cls._styles:\n",
        "            cls._styles[key] = CharacterStyle(font, size, color)\n",
        "        return cls._styles[key]\n",
        "\n",
        "class Character:\n",
        "    def __init__(self, char, style):\n",
        "        self.char = char\n",
        "        self.style = style\n",
        "\n",
        "    def render(self):\n",
        "        print(f\"{self.char} [폰트:{self.style.font}, 크기:{self.style.size}, 색:{self.style.color}]\")\n",
        "\n",
        "\n",
        "factory = StyleFactory()\n",
        "\n",
        "chars = [\n",
        "    Character('H', factory.get_style(\"Arial\", 12, \"Black\")),\n",
        "    Character('e', factory.get_style(\"Arial\", 12, \"Black\")),\n",
        "    Character('l', factory.get_style(\"Arial\", 12, \"Black\")),\n",
        "    Character('l', factory.get_style(\"Arial\", 12, \"Black\")),\n",
        "    Character('o', factory.get_style(\"Arial\", 12, \"Black\")),\n",
        "    Character('!', factory.get_style(\"Arial\", 12, \"Red\")),\n",
        "]\n",
        "\n",
        "for c in chars:\n",
        "    c.render()"
      ],
      "metadata": {
        "colab": {
          "base_uri": "https://localhost:8080/"
        },
        "outputId": "54bda2e5-45e5-47a1-ad3e-32822f534cf6",
        "collapsed": true,
        "id": "Fn9gFXAdsnwQ"
      },
      "execution_count": 48,
      "outputs": [
        {
          "output_type": "stream",
          "name": "stdout",
          "text": [
            "H [폰트:Arial, 크기:12, 색:Black]\n",
            "e [폰트:Arial, 크기:12, 색:Black]\n",
            "l [폰트:Arial, 크기:12, 색:Black]\n",
            "l [폰트:Arial, 크기:12, 색:Black]\n",
            "o [폰트:Arial, 크기:12, 색:Black]\n",
            "! [폰트:Arial, 크기:12, 색:Red]\n"
          ]
        }
      ]
    },
    {
      "cell_type": "markdown",
      "source": [
        "### Composite Pattern\n",
        "-"
      ],
      "metadata": {
        "id": "yGk4UUwE2hUa"
      }
    },
    {
      "cell_type": "code",
      "source": [
        "from abc import ABC, abstractmethod\n",
        "\n",
        "class EmployeeComponent(ABC):\n",
        "    @abstractmethod\n",
        "    def show_info(self, indent=0):\n",
        "        pass\n",
        "\n",
        "class Employee(EmployeeComponent):\n",
        "    def __init__(self, name, position):\n",
        "        self.name = name\n",
        "        self.position = position\n",
        "\n",
        "    def show_info(self, indent=0):\n",
        "        print(\" \" * indent + f\"{self.position}: {self.name}\")\n",
        "\n",
        "class Team(EmployeeComponent):\n",
        "    def __init__(self, name):\n",
        "        self.name = name\n",
        "        self.members = []\n",
        "\n",
        "    def add_member(self, member: EmployeeComponent):\n",
        "        self.members.append(member)\n",
        "\n",
        "    def remove_member(self, member: EmployeeComponent):\n",
        "        self.members.remove(member)\n",
        "\n",
        "    def show_info(self, indent=0):\n",
        "        print(\" \" * indent + self.name)\n",
        "        for member in self.members:\n",
        "            member.show_info(indent + 4)\n",
        "\n",
        "emp1 = Employee(\"박종현\", \"개발자\")\n",
        "emp2 = Employee(\"김철수\", \"디자이너\")\n",
        "emp3 = Employee(\"이영희\", \"기획자\")\n",
        "emp4 = Employee(\"김희영\", \"재정관리\")\n",
        "emp5 = Employee(\"김동균\", \"개발자\")\n",
        "\n",
        "dev_team = Team(\"개발팀\")\n",
        "design_team = Team(\"디자인팀\")\n",
        "product_team = Team(\"기획팀\")\n",
        "money_team = Team(\"재정관리팀\")\n",
        "\n",
        "dev_team.add_member(emp1)\n",
        "design_team.add_member(emp2)\n",
        "product_team.add_member(emp3)\n",
        "money_team.add_member(emp4)\n",
        "dev_team.add_member(emp5)\n",
        "\n",
        "company = Team(\"회사\")\n",
        "company.add_member(dev_team)\n",
        "company.add_member(design_team)\n",
        "company.add_member(product_team)\n",
        "company.add_member(money_team)\n",
        "\n",
        "company.show_info()"
      ],
      "metadata": {
        "colab": {
          "base_uri": "https://localhost:8080/"
        },
        "id": "PmE5fEXZ2l4p",
        "outputId": "cfa9bb1a-7a5e-4a40-9f35-03d3888dc27b"
      },
      "execution_count": 49,
      "outputs": [
        {
          "output_type": "stream",
          "name": "stdout",
          "text": [
            "회사\n",
            "    개발팀\n",
            "        개발자: 박종현\n",
            "        개발자: 김동균\n",
            "    디자인팀\n",
            "        디자이너: 김철수\n",
            "    기획팀\n",
            "        기획자: 이영희\n",
            "    재정관리팀\n",
            "        재정관리: 김희영\n"
          ]
        }
      ]
    },
    {
      "cell_type": "markdown",
      "source": [
        "## Behavioral Patterns"
      ],
      "metadata": {
        "id": "tzR0Pg0ebNZ0"
      }
    },
    {
      "cell_type": "markdown",
      "source": [
        "### Strategy Pattern\n",
        "- 실행(런타임) 중에 알고리즘 전략을 선택하여 객체 동작을 실시간으로 바뀌도록 할 수 있게 하는 행위 디자인 패턴.\n"
      ],
      "metadata": {
        "id": "0uSv_ePNbXMH"
      }
    },
    {
      "cell_type": "markdown",
      "source": [
        "#### 장점\n",
        "- 런타임에 알고리즘을 동적으로 변경할 수 있음\n",
        "- 알고리즘을 독립적으로 관리하고 테스트할 수 있음\n",
        "- 복잡한 조건문을 제거하여 코드 가독성 향상\n",
        "- 새로운 전략을 추가해도 기존 코드 수정이 불필요함 -> OCP 준수\n",
        "\n",
        "\n",
        "#### 단점\n",
        "- 전략 클래스가 많아지면 관리해야 할 객체 수가 증가함\n",
        "- 클라이언트가 적절한 전략을 선택하기 위해 전략들의 차이를 알아야 함\n",
        "- 간단한 알고리즘의 경우 오히려 코드가 복잡해질 수 있음\n"
      ],
      "metadata": {
        "id": "oYKACCm1cl0j"
      }
    },
    {
      "cell_type": "code",
      "source": [
        "from abc import ABC, abstractmethod\n",
        "\n",
        "class Compression(ABC): # 추상 전략\n",
        "  @abstractmethod\n",
        "  def compress(self, filename):\n",
        "    pass\n",
        "\n",
        "# 압축확장자 3개 클래스 - 구체 전략\n",
        "class Zip(Compression):\n",
        "  def compress(self, filename):\n",
        "    print(f'{filename}.zip 으로 압축했습니다.')\n",
        "\n",
        "class Rar(Compression):\n",
        "  def compress(self, filename):\n",
        "    print(f'{filename}.rar로 압축했습니다.')\n",
        "\n",
        "class Tar(Compression):\n",
        "  def compress(self, filename):\n",
        "    print(f'{filename}.tar로 압축했습니다.')"
      ],
      "metadata": {
        "id": "4duClT_ObiPB"
      },
      "execution_count": 50,
      "outputs": []
    },
    {
      "cell_type": "code",
      "source": [
        "# Context - 전략 보관 및 실행 & 교체 가능\n",
        "class FileCompressor:\n",
        "  def __init__(self, strategy: Compression): # 확장자 클래스를 받음\n",
        "      self.strategy = strategy\n",
        "\n",
        "  def setStrategy(self, strategy: Compression): # set을 통해 확장자 변경도 가능\n",
        "      self.strategy = strategy\n",
        "\n",
        "  def compress(self, filename): # 출력\n",
        "      self.strategy.compress(filename)"
      ],
      "metadata": {
        "id": "GtfuxMuEOa-4"
      },
      "execution_count": 51,
      "outputs": []
    },
    {
      "cell_type": "code",
      "source": [
        "# 사용예시\n",
        "input_ext = input(\"압축 방식을 입력해주세요 (zip/rar/tar): \")\n",
        "filename = input(\"파일명을 입력해주세요: \")\n",
        "\n",
        "# 확장자에 따라 실행\n",
        "if input_ext == \"zip\":\n",
        "    strategy = Zip()\n",
        "elif input_ext == \"rar\":\n",
        "    strategy = Rar()\n",
        "elif input_ext == \"tar\":\n",
        "    strategy = Tar()\n",
        "else:\n",
        "    raise ValueError(f\"지원하지 않는 압축 형식입니다. {input_ext}\")\n",
        "\n",
        "context = FileCompressor(strategy)\n",
        "context.compress(filename)"
      ],
      "metadata": {
        "colab": {
          "base_uri": "https://localhost:8080/"
        },
        "id": "lnrAhMfoOcvk",
        "outputId": "884475da-1789-4bfa-fe9c-ab167f4842b7"
      },
      "execution_count": 52,
      "outputs": [
        {
          "output_type": "stream",
          "name": "stdout",
          "text": [
            "압축 방식을 입력해주세요 (zip/rar/tar): zip\n",
            "파일명을 입력해주세요: asdasd\n",
            "asdasd.zip 으로 압축했습니다.\n"
          ]
        }
      ]
    },
    {
      "cell_type": "markdown",
      "source": [
        "### State Pattern\n",
        "- 객체가 특정 상태에 따라 행위를 달리하는 상황에서, 조건문으로 검사하는 것이 아닌 상태를 객체화하여 상태가 행동을 할 수 있도록 위임하는 패턴.\n"
      ],
      "metadata": {
        "id": "h1yRHKdubbbO"
      }
    },
    {
      "cell_type": "markdown",
      "source": [
        "\n",
        "#### 장점\n",
        "- 상태에 따른 행동을 개별 클래스로 분리하여 관리가 용이함\n",
        "- 새로운 상태를 추가해도 기존 코드 수정이 최소화됨 -> OCP 준수\n",
        "- 각 상태가 독립적이므로 SRP 준수\n",
        "- 복잡한 조건문을 제거하여 코드 가독성 향상\n",
        "\n",
        "#### 단점\n",
        "\n",
        "- 상태가 적을 경우 오히려 코드가 복잡해질 수 있음\n",
        "- 상태 클래스가 많아지면 클래스 수가 증가함\n",
        "- 상태 전환 로직이 여러 클래스에 분산될 수 있어 전체 흐름 파악이 어려울 수 있음\n"
      ],
      "metadata": {
        "id": "XV-X8QnGcpA0"
      }
    },
    {
      "cell_type": "code",
      "source": [
        "class Door:\n",
        "    def __init__(self):\n",
        "        self.state = ClosedState()\n",
        "\n",
        "    def setState(self, state):\n",
        "        self.state = state\n",
        "\n",
        "    def open(self):\n",
        "        self.state.open(self)\n",
        "\n",
        "    def close(self):\n",
        "        self.state.close(self)\n",
        "\n",
        "    def lock(self):\n",
        "        self.state.lock(self)\n",
        "\n",
        "    def unlock(self):\n",
        "        self.state.unlock(self)"
      ],
      "metadata": {
        "id": "tA-M0t9RbfBB"
      },
      "execution_count": 53,
      "outputs": []
    },
    {
      "cell_type": "code",
      "source": [
        "class State:\n",
        "    def open(self, door: Door):\n",
        "        pass\n",
        "\n",
        "    def close(self, door: Door):\n",
        "        pass\n",
        "\n",
        "    def lock(self, door: Door):\n",
        "        pass\n",
        "\n",
        "    def unlock(self, door: Door):\n",
        "        pass\n",
        "\n",
        "class OpenState(State):\n",
        "    def open(self, door: Door):\n",
        "        print(\"문은 이미 열려 있습니다.\")\n",
        "\n",
        "    def close(self, door: Door):\n",
        "        print(\"문이 닫힙니다.\")\n",
        "        door.setState(ClosedState())\n",
        "\n",
        "    def lock(self, door: Door):\n",
        "        print(\"문이 열려 있어 잠글 수 없습니다.\")\n",
        "\n",
        "    def unlock(self, door: Door):\n",
        "        print(\"문이 열려 있어 잠금 상태가 아닙니다.\")\n",
        "\n",
        "\n",
        "class ClosedState(State):\n",
        "    def open(self, door: Door):\n",
        "        print(\"문이 열립니다.\")\n",
        "        door.setState(OpenState())\n",
        "\n",
        "    def close(self, door: Door):\n",
        "        print(\"문은 이미 닫혀 있습니다.\")\n",
        "\n",
        "    def lock(self, door: Door):\n",
        "        print(\"문이 잠깁니다.\")\n",
        "        door.setState(LockedState())\n",
        "\n",
        "    def unlock(self, door: Door):\n",
        "        print(\"문은 잠겨 있지 않습니다.\")\n",
        "\n",
        "\n",
        "class LockedState(State):\n",
        "    def open(self, door: Door):\n",
        "        print(\"문이 잠겨 있어 열 수 없습니다.\")\n",
        "\n",
        "    def close(self, door: Door):\n",
        "        print(\"문은 이미 닫혀 있습니다.\")\n",
        "\n",
        "    def lock(self, door: Door):\n",
        "        print(\"문은 이미 잠겨 있습니다.\")\n",
        "\n",
        "    def unlock(self, door: Door):\n",
        "        print(\"문이 잠금 해제됩니다.\")\n",
        "        door.setState(ClosedState())"
      ],
      "metadata": {
        "id": "m6-O8k95OQsK"
      },
      "execution_count": 54,
      "outputs": []
    },
    {
      "cell_type": "code",
      "source": [
        "myRoom = Door()\n",
        "myRoom.open()\n",
        "myRoom.lock()\n",
        "myRoom.close()\n",
        "myRoom.lock()\n",
        "myRoom.unlock()"
      ],
      "metadata": {
        "colab": {
          "base_uri": "https://localhost:8080/"
        },
        "id": "p6cC4SLPAzOr",
        "outputId": "8415866a-127d-4d2b-b3a2-2f9e58a390c6"
      },
      "execution_count": 55,
      "outputs": [
        {
          "output_type": "stream",
          "name": "stdout",
          "text": [
            "문이 열립니다.\n",
            "문이 열려 있어 잠글 수 없습니다.\n",
            "문이 닫힙니다.\n",
            "문이 잠깁니다.\n",
            "문이 잠금 해제됩니다.\n"
          ]
        }
      ]
    },
    {
      "cell_type": "markdown",
      "source": [
        "### Template Method Pattern\n",
        "- 여러 클래스에서 공통으로 사용하는 메서드를 템플릿화 하여 상위 클래스에서 정의하고, 하위 클래스마다 세부 동작 사항을 다르게 구현하는 패턴.\n"
      ],
      "metadata": {
        "id": "ydZPDHeqbbhr"
      }
    },
    {
      "cell_type": "markdown",
      "source": [
        "#### 장점\n",
        "\n",
        "- 중복 코드를 줄이고 공통 로직을 재사용할 수 있음\n",
        "- 전체 알고리즘 구조를 유지하면서 특정 단계만 재정의 가능\n",
        "- 코드 변경이 필요한 부분을 명확히 정의하여 유지보수가 용이함\n",
        "- 자식 클래스가 알고리즘의 특정 단계만 구현하면 되므로 개발이 편리함\n",
        "\n",
        "#### 단점\n",
        "\n",
        "- 상속을 사용하므로 유연성이 떨어짐\n",
        "- 알고리즘 구조가 변경되면 모든 하위 클래스에 영향을 줄 수 있음\n",
        "- 리스코프 치환 원칙을 위반할 수 있음\n",
        "- 템플릿 메서드의 단계가 많아지면 관리가 어려워질 수 있음\n"
      ],
      "metadata": {
        "id": "qFPiaRH371ak"
      }
    },
    {
      "cell_type": "code",
      "source": [
        "class BasicUniform:\n",
        "  def makeUniform(self):\n",
        "    self.addTeam()\n",
        "    self.addName()\n",
        "    self.addBackNum()\n",
        "    self.addSize()\n",
        "\n",
        "  def addTeam(self):\n",
        "    print(\"팀: 삼성 라이온즈\")\n",
        "\n",
        "  def addName(self):\n",
        "    print(\"이름: 오승환\")\n",
        "\n",
        "  def addBackNum(self):\n",
        "    print(\"등번호: 21\")\n",
        "\n",
        "  def addSize(self):\n",
        "    pass"
      ],
      "metadata": {
        "id": "hXS_StU1bipU"
      },
      "execution_count": 56,
      "outputs": []
    },
    {
      "cell_type": "code",
      "source": [
        "class JongHyunUniform(BasicUniform):\n",
        "  def addSize(self):\n",
        "    print(\"사이즈: 110\")\n",
        "\n",
        "class LgUniform(BasicUniform):\n",
        "  def addTeam(self):\n",
        "    print(\"팀: LG 트윈스\")\n",
        "\n",
        "  def addName(self):\n",
        "    print(\"이름: 이병규\")\n",
        "\n",
        "  def addBackNum(self):\n",
        "    print(\"등번호: 99\")\n",
        "\n",
        "  def addSize(self):\n",
        "    print(\"사이즈: 95\")\n",
        "\n",
        "class KiaUniform(BasicUniform):\n",
        "  def addTeam(self):\n",
        "    print(\"팀: 기아 타이거즈\")\n",
        "\n",
        "  def addName(self):\n",
        "    print(\"이름: 이종범\")\n",
        "\n",
        "  def addBackNum(self):\n",
        "    print(\"등번호: 7\")\n",
        "\n",
        "  def addSize(self):\n",
        "    print(\"사이즈: 100\")"
      ],
      "metadata": {
        "id": "_GqPkSQzKaO_"
      },
      "execution_count": 57,
      "outputs": []
    },
    {
      "cell_type": "code",
      "source": [
        "jonghyun = JongHyunUniform()\n",
        "jonghyun.makeUniform()\n",
        "\n",
        "print(\"---------------------\")\n",
        "\n",
        "lgFan = LgUniform()\n",
        "lgFan.makeUniform()"
      ],
      "metadata": {
        "colab": {
          "base_uri": "https://localhost:8080/"
        },
        "id": "jURF_GQhKbjn",
        "outputId": "7e077ea7-c7b0-4c05-bd5c-cc4bca9b4239"
      },
      "execution_count": 58,
      "outputs": [
        {
          "output_type": "stream",
          "name": "stdout",
          "text": [
            "팀: 삼성 라이온즈\n",
            "이름: 오승환\n",
            "등번호: 21\n",
            "사이즈: 110\n",
            "---------------------\n",
            "팀: LG 트윈스\n",
            "이름: 이병규\n",
            "등번호: 99\n",
            "사이즈: 95\n"
          ]
        }
      ]
    },
    {
      "cell_type": "markdown",
      "source": [
        "### Command Pattern\n",
        "- 요청을 객체로 캡슐화하여 매개변수화하고, 요청을 큐에 저장하거나 로그로 기록하며, 실행 취소 기능을 지원하는 패턴\n"
      ],
      "metadata": {
        "id": "OIrE-lUiyNIh"
      }
    },
    {
      "cell_type": "markdown",
      "source": [
        "#### 장점\n",
        "- 객체 수를 줄여 메모리 절약\n",
        "- 반복 객체 생성 비용 감소\n",
        "- 대량의 유사 객체 관리에 효율적\n",
        "\n",
        "#### 단점\n",
        "- 구현 구조가 다소 복잡함\n",
        "- 개별 속성을 따로 관리 해야함"
      ],
      "metadata": {
        "id": "3ZAP9LzvyXJd"
      }
    },
    {
      "cell_type": "code",
      "source": [
        "from abc import ABC, abstractmethod\n",
        "\n",
        "class Command(ABC):\n",
        "    @abstractmethod\n",
        "    def execute(self):\n",
        "        pass\n",
        "\n",
        "    @abstractmethod\n",
        "    def undo(self):\n",
        "        pass\n",
        "\n",
        "class TextEditor:\n",
        "    def __init__(self):\n",
        "        self.text = \"\"\n",
        "\n",
        "    def write(self, content):\n",
        "        self.text += content\n",
        "\n",
        "    def delete(self, count):\n",
        "        removed = self.text[-count:]\n",
        "        self.text = self.text[:-count]\n",
        "        return removed\n",
        "\n",
        "    def __str__(self):\n",
        "        return self.text\n",
        "\n",
        "class WriteCommand(Command):\n",
        "    def __init__(self, editor, content):\n",
        "        self.editor = editor\n",
        "        self.content = content\n",
        "\n",
        "    def execute(self):\n",
        "        self.editor.write(self.content)\n",
        "\n",
        "    def undo(self):\n",
        "        self.editor.delete(len(self.content))\n",
        "\n",
        "class DeleteCommand(Command):\n",
        "    def __init__(self, editor, count):\n",
        "        self.editor = editor\n",
        "        self.count = count\n",
        "        self.deleted_text = \"\"\n",
        "\n",
        "    def execute(self):\n",
        "        self.deleted_text = self.editor.delete(self.count)\n",
        "\n",
        "    def undo(self):\n",
        "        self.editor.write(self.deleted_text)\n",
        "\n",
        "class CommandManager:\n",
        "    def __init__(self):\n",
        "        self.history = []\n",
        "        self.redo_stack = []\n",
        "\n",
        "    def execute_command(self, command):\n",
        "        command.execute()\n",
        "        self.history.append(command)\n",
        "        self.redo_stack.clear()\n",
        "\n",
        "    def undo(self):\n",
        "        if not self.history:\n",
        "            return\n",
        "        command = self.history.pop()\n",
        "        command.undo()\n",
        "        self.redo_stack.append(command)\n",
        "\n",
        "    def redo(self):\n",
        "        if not self.redo_stack:\n",
        "            return\n",
        "        command = self.redo_stack.pop()\n",
        "        command.execute()\n",
        "        self.history.append(command)\n",
        "\n",
        "editor = TextEditor()\n",
        "manager = CommandManager()\n",
        "\n",
        "manager.execute_command(WriteCommand(editor, \"Hello \"))\n",
        "manager.execute_command(WriteCommand(editor, \"World\"))\n",
        "\n",
        "print(editor)\n",
        "\n",
        "manager.undo()\n",
        "manager.undo()\n",
        "print(editor)\n",
        "\n",
        "manager.redo()\n",
        "print(editor)\n",
        "\n",
        "manager.redo()\n",
        "print(editor)"
      ],
      "metadata": {
        "id": "mEJRgRpayYRA",
        "colab": {
          "base_uri": "https://localhost:8080/"
        },
        "outputId": "8822f3fa-69cc-43e0-f693-e5092efbf020"
      },
      "execution_count": 59,
      "outputs": [
        {
          "output_type": "stream",
          "name": "stdout",
          "text": [
            "Hello World\n",
            "\n",
            "Hello \n",
            "Hello World\n"
          ]
        }
      ]
    },
    {
      "cell_type": "markdown",
      "source": [
        "### Chain of Responsibility Pattern\n",
        "- 요청을 처리할 수 있는 객체들을 체인으로 연결하고, 요청이 처리될 때까지 체인을 따라 전달하는 패턴\n"
      ],
      "metadata": {
        "id": "rvf5BQwLyheK"
      }
    },
    {
      "cell_type": "markdown",
      "source": [
        "#### 장점\n",
        "\n",
        "- 요청의 발신자와 수신자를 분리시켜 결합도를 낮춤\n",
        "- 체인에 새로운 핸들러를 추가하거나 순서를 변경하기 쉬움 -> OCP 준수\n",
        "- 각 핸들러가 단일 책임만 가지므로 코드 관리가 용이함\n",
        "\n",
        "#### 단점\n",
        "\n",
        "- 요청이 처리되지 않을 수 있음 (체인의 끝까지 전달되어도 처리되지 않는 경우)\n",
        "- 체인이 길어지면 성능 저하 발생 가능\n",
        "- 디버깅이 어려워질 수 있음 (어느 핸들러에서 처리되는지 추적 필요)"
      ],
      "metadata": {
        "id": "U-1kwgtdyheL"
      }
    },
    {
      "cell_type": "code",
      "source": [
        "from abc import ABC, abstractmethod\n",
        "\n",
        "class SupportTicket:\n",
        "    def __init__(self, level, description, priority=\"normal\"):\n",
        "        self.level = level\n",
        "        self.description = description\n",
        "        self.priority = priority\n",
        "\n",
        "class SupportHandler(ABC):\n",
        "    LEVEL_1 = 1\n",
        "    LEVEL_2 = 2\n",
        "    LEVEL_3 = 3\n",
        "\n",
        "    def __init__(self):\n",
        "        self.level = 0\n",
        "        self.next_handler = None\n",
        "\n",
        "    def set_next(self, handler):\n",
        "        self.next_handler = handler\n",
        "        return handler\n",
        "\n",
        "    def handle(self, ticket: SupportTicket):\n",
        "        if self.can_handle(ticket):\n",
        "            self.process(ticket)\n",
        "        elif self.next_handler:\n",
        "            print(f\"  → {self.__class__.__name__}에서 처리할 수 없어 다음 레벨로 전달합니다.\")\n",
        "            self.next_handler.handle(ticket)\n",
        "        else:\n",
        "            print(f\"어떤 팀도 이 문의를 처리할 수 없습니다.\")\n",
        "\n",
        "    @abstractmethod\n",
        "    def can_handle(self, ticket: SupportTicket):\n",
        "        pass\n",
        "\n",
        "    @abstractmethod\n",
        "    def process(self, ticket: SupportTicket):\n",
        "        pass\n",
        "\n",
        "class Level1Support(SupportHandler):\n",
        "    def __init__(self):\n",
        "        super().__init__()\n",
        "        self.level = SupportHandler.LEVEL_1\n",
        "\n",
        "    def can_handle(self, ticket: SupportTicket):\n",
        "        return ticket.level == self.level\n",
        "\n",
        "    def process(self, ticket: SupportTicket):\n",
        "        print(f\"Level 1 Support에서 처리: {ticket.description}\")\n",
        "        print(\"    → 일반 상담원이 FAQ를 안내했습니다.\")\n",
        "\n",
        "class Level2Support(SupportHandler):\n",
        "    def __init__(self):\n",
        "        super().__init__()\n",
        "        self.level = SupportHandler.LEVEL_2\n",
        "\n",
        "    def can_handle(self, ticket: SupportTicket):\n",
        "        return ticket.level == self.level\n",
        "\n",
        "    def process(self, ticket: SupportTicket):\n",
        "        print(f\"Level 2 Support에서 처리: {ticket.description}\")\n",
        "        print(\"    → 기술 지원팀이 문제를 해결했습니다.\")\n",
        "\n",
        "class Level3Support(SupportHandler):\n",
        "    def __init__(self):\n",
        "        super().__init__()\n",
        "        self.level = SupportHandler.LEVEL_3\n",
        "\n",
        "    def can_handle(self, ticket: SupportTicket):\n",
        "        return ticket.level == self.level\n",
        "\n",
        "    def process(self, ticket: SupportTicket):\n",
        "        print(f\"Level 3 Support에서 처리: {ticket.description}\")\n",
        "        print(\"    → 전문가가 심층 분석을 진행했습니다.\")\n",
        "\n",
        "class ChainPatternDemo:\n",
        "    def main(self):\n",
        "        level1 = Level1Support()\n",
        "        level2 = Level2Support()\n",
        "        level3 = Level3Support()\n",
        "\n",
        "        level1.set_next(level2).set_next(level3)\n",
        "\n",
        "        tickets = [\n",
        "            SupportTicket(SupportHandler.LEVEL_1, \"비밀번호를 어떻게 재설정하나요?\"),\n",
        "            SupportTicket(SupportHandler.LEVEL_2, \"앱이 계속 크래시가 발생합니다.\"),\n",
        "            SupportTicket(SupportHandler.LEVEL_3, \"서버 아키텍처 마이그레이션 문의\"),\n",
        "            SupportTicket(4, \"처리할 수 없는 레벨의 요청\")\n",
        "        ]\n",
        "\n",
        "        print(\"=== 고객 지원 티켓 시스템 ===\\n\")\n",
        "        for i, ticket in enumerate(tickets, 1):\n",
        "            print(f\"[티켓 {i}] {ticket.description}\")\n",
        "            level1.handle(ticket)\n",
        "            print()\n",
        "\n",
        "demo = ChainPatternDemo()\n",
        "demo.main()"
      ],
      "metadata": {
        "id": "Ipsayy6qyheL",
        "colab": {
          "base_uri": "https://localhost:8080/"
        },
        "outputId": "63889b17-53a4-435c-fc7f-fe01db918f29"
      },
      "execution_count": 60,
      "outputs": [
        {
          "output_type": "stream",
          "name": "stdout",
          "text": [
            "=== 고객 지원 티켓 시스템 ===\n",
            "\n",
            "[티켓 1] 비밀번호를 어떻게 재설정하나요?\n",
            "Level 1 Support에서 처리: 비밀번호를 어떻게 재설정하나요?\n",
            "    → 일반 상담원이 FAQ를 안내했습니다.\n",
            "\n",
            "[티켓 2] 앱이 계속 크래시가 발생합니다.\n",
            "  → Level1Support에서 처리할 수 없어 다음 레벨로 전달합니다.\n",
            "Level 2 Support에서 처리: 앱이 계속 크래시가 발생합니다.\n",
            "    → 기술 지원팀이 문제를 해결했습니다.\n",
            "\n",
            "[티켓 3] 서버 아키텍처 마이그레이션 문의\n",
            "  → Level1Support에서 처리할 수 없어 다음 레벨로 전달합니다.\n",
            "  → Level2Support에서 처리할 수 없어 다음 레벨로 전달합니다.\n",
            "Level 3 Support에서 처리: 서버 아키텍처 마이그레이션 문의\n",
            "    → 전문가가 심층 분석을 진행했습니다.\n",
            "\n",
            "[티켓 4] 처리할 수 없는 레벨의 요청\n",
            "  → Level1Support에서 처리할 수 없어 다음 레벨로 전달합니다.\n",
            "  → Level2Support에서 처리할 수 없어 다음 레벨로 전달합니다.\n",
            "어떤 팀도 이 문의를 처리할 수 없습니다.\n",
            "\n"
          ]
        }
      ]
    },
    {
      "cell_type": "markdown",
      "source": [
        "### Observer Pattern\n",
        "- 객체의 상태 변화를 관찰하는 관찰자들에게 자동으로 알림을 보내는 패턴\n"
      ],
      "metadata": {
        "id": "r0cPc9XwyiAB"
      }
    },
    {
      "cell_type": "markdown",
      "source": [
        "\n",
        "#### 장점\n",
        "\n",
        "- 상태 변화를 실시간으로 전파할 수 있음\n",
        "- Subject와 Observer 간의 느슨한 결합을 유지함\n",
        "- 런타임에 Observer를 추가/제거할 수 있어 유연함\n",
        "- 새로운 Observer 추가 시 Subject 코드 수정이 불필요함 -> OCP 준수\n",
        "\n",
        "#### 단점\n",
        "\n",
        "- Observer들에게 알림이 전달되는 순서를 보장할 수 없음\n",
        "- Observer가 많아지면 성능 저하 발생 가능\n",
        "- 메모리 누수 위험 (Observer 제거를 잊어버릴 경우)\n",
        "- 복잡한 의존 관계로 인해 예상치 못한 업데이트가 발생할 수 있음\n"
      ],
      "metadata": {
        "id": "OP4xXEKGyiAC"
      }
    },
    {
      "cell_type": "code",
      "source": [
        "from abc import ABC, abstractmethod\n",
        "\n",
        "class Observer(ABC):\n",
        "    @abstractmethod\n",
        "    def update(self, channel_name, video_title):\n",
        "        pass\n",
        "\n",
        "class Subscriber(Observer):\n",
        "    def __init__(self, name):\n",
        "        self.name = name\n",
        "\n",
        "    def update(self, channel_name, video_title):\n",
        "        print(f\"[알림] {self.name}님, '{channel_name}' 채널에 새 영상이 올라왔습니다: {video_title}\")\n",
        "\n",
        "class YoutubeChannel:\n",
        "    def __init__(self, channel_name):\n",
        "        self.channel_name = channel_name\n",
        "        self.subscribers = []\n",
        "\n",
        "    def subscribe(self, subscriber):\n",
        "        self.subscribers.append(subscriber)\n",
        "        print(f\"✓ {subscriber.name}님이 '{self.channel_name}' 채널을 구독했습니다.\")\n",
        "\n",
        "    def unsubscribe(self, subscriber):\n",
        "        self.subscribers.remove(subscriber)\n",
        "        print(f\"✗ {subscriber.name}님이 '{self.channel_name}' 채널을 구독 취소했습니다.\")\n",
        "\n",
        "    def upload_video(self, video_title):\n",
        "        print(f\"\\n📹 [{self.channel_name}] 새 영상 업로드: {video_title}\\n\")\n",
        "        self.notify_subscribers(video_title)\n",
        "\n",
        "    def notify_subscribers(self, video_title):\n",
        "        for subscriber in self.subscribers:\n",
        "            subscriber.update(self.channel_name, video_title)\n",
        "\n",
        "channel = YoutubeChannel(\"코딩 마스터\")\n",
        "\n",
        "user1 = Subscriber(\"철수\")\n",
        "user2 = Subscriber(\"영희\")\n",
        "user3 = Subscriber(\"민수\")\n",
        "\n",
        "channel.subscribe(user1)\n",
        "channel.subscribe(user2)\n",
        "channel.subscribe(user3)\n",
        "\n",
        "channel.upload_video(\"디자인 패턴 완벽 가이드\")\n",
        "\n",
        "print(\"\\n\" + \"-\" * 50)\n",
        "\n",
        "channel.unsubscribe(user2)\n",
        "\n",
        "channel.upload_video(\"파이썬 고급 테크닉 10가지\")"
      ],
      "metadata": {
        "id": "LWPFnQoNyiAC",
        "colab": {
          "base_uri": "https://localhost:8080/"
        },
        "outputId": "f081e946-aabf-4361-8b19-926bb1438236"
      },
      "execution_count": 61,
      "outputs": [
        {
          "output_type": "stream",
          "name": "stdout",
          "text": [
            "✓ 철수님이 '코딩 마스터' 채널을 구독했습니다.\n",
            "✓ 영희님이 '코딩 마스터' 채널을 구독했습니다.\n",
            "✓ 민수님이 '코딩 마스터' 채널을 구독했습니다.\n",
            "\n",
            "📹 [코딩 마스터] 새 영상 업로드: 디자인 패턴 완벽 가이드\n",
            "\n",
            "[알림] 철수님, '코딩 마스터' 채널에 새 영상이 올라왔습니다: 디자인 패턴 완벽 가이드\n",
            "[알림] 영희님, '코딩 마스터' 채널에 새 영상이 올라왔습니다: 디자인 패턴 완벽 가이드\n",
            "[알림] 민수님, '코딩 마스터' 채널에 새 영상이 올라왔습니다: 디자인 패턴 완벽 가이드\n",
            "\n",
            "--------------------------------------------------\n",
            "✗ 영희님이 '코딩 마스터' 채널을 구독 취소했습니다.\n",
            "\n",
            "📹 [코딩 마스터] 새 영상 업로드: 파이썬 고급 테크닉 10가지\n",
            "\n",
            "[알림] 철수님, '코딩 마스터' 채널에 새 영상이 올라왔습니다: 파이썬 고급 테크닉 10가지\n",
            "[알림] 민수님, '코딩 마스터' 채널에 새 영상이 올라왔습니다: 파이썬 고급 테크닉 10가지\n"
          ]
        }
      ]
    },
    {
      "cell_type": "markdown",
      "source": [
        "### Memonto Pattern\n",
        "- 객체의 상태를 저장하고 이전 상태로 복원할 수 있게 하는 패턴으로, 캡슐화를 유지하면서 상태를 외부에 저장하는 패턴\n",
        "\n"
      ],
      "metadata": {
        "id": "-ac1sBXUyjRB"
      }
    },
    {
      "cell_type": "markdown",
      "source": [
        "#### 장점\n",
        "\n",
        "- 객체의 내부 상태를 외부에 저장하면서도 캡슐화를 유지함\n",
        "- Undo/Redo 기능 구현이 용이함\n",
        "- 상태 저장과 복원 로직을 분리하여 SRP 준수\n",
        "- 객체의 상태를 언제든지 복원할 수 있음\n",
        "\n",
        "#### 단점\n",
        "\n",
        "- 상태를 자주 저장하면 메모리 사용량이 증가함\n",
        "- 큰 객체의 상태를 저장할 경우 성능 저하 발생 가능\n",
        "- 메멘토 객체의 생명주기를 관리해야 함"
      ],
      "metadata": {
        "id": "ia9U4-Z0yjRB"
      }
    },
    {
      "cell_type": "code",
      "source": [
        "class SettingsMemento:\n",
        "    def __init__(self, audio_settings, display_settings, app_settings):\n",
        "        self.audio_settings = audio_settings\n",
        "        self.display_settings = display_settings\n",
        "        self.app_settings = app_settings\n",
        "\n",
        "    def __str__(self):\n",
        "        return f\"설정(오디오:{self.audio_settings}, 디스플레이:{self.display_settings}, 앱:{self.app_settings})\"\n",
        "\n",
        "class AudioSettings:\n",
        "    def __init__(self):\n",
        "        self.volume = 50\n",
        "\n",
        "    def set_volume(self, volume):\n",
        "        self.volume = volume\n",
        "        print(f\"🔊 볼륨이 {volume}%로 변경되었습니다.\")\n",
        "\n",
        "    def __str__(self):\n",
        "        return f\"볼륨:{self.volume}%\"\n",
        "\n",
        "class DisplaySettings:\n",
        "    def __init__(self):\n",
        "        self.brightness = 80\n",
        "        self.theme = \"라이트\"\n",
        "\n",
        "    def set_brightness(self, brightness):\n",
        "        self.brightness = brightness\n",
        "        print(f\"💡 밝기가 {brightness}%로 변경되었습니다.\")\n",
        "\n",
        "    def set_theme(self, theme):\n",
        "        self.theme = theme\n",
        "        print(f\"🎨 테마가 '{theme}'로 변경되었습니다.\")\n",
        "\n",
        "    def __str__(self):\n",
        "        return f\"밝기:{self.brightness}%, 테마:{self.theme}\"\n",
        "\n",
        "class AppSettings:\n",
        "    def __init__(self):\n",
        "        self.language = \"한국어\"\n",
        "        self.notifications = True\n",
        "\n",
        "    def set_language(self, language):\n",
        "        self.language = language\n",
        "        print(f\"🌐 언어가 '{language}'로 변경되었습니다.\")\n",
        "\n",
        "    def toggle_notifications(self):\n",
        "        self.notifications = not self.notifications\n",
        "        status = \"켜짐\" if self.notifications else \"꺼짐\"\n",
        "        print(f\"🔔 알림이 {status}으로 변경되었습니다.\")\n",
        "\n",
        "    def __str__(self):\n",
        "        return f\"언어:{self.language}, 알림:{'켜짐' if self.notifications else '꺼짐'}\"\n",
        "\n",
        "class SettingsManager:\n",
        "    def __init__(self):\n",
        "        self.audio = AudioSettings()\n",
        "        self.display = DisplaySettings()\n",
        "        self.app = AppSettings()\n",
        "\n",
        "    def show_current_settings(self):\n",
        "        print(f\"\\n📱 현재 설정:\")\n",
        "        print(f\"   🔊 {self.audio}\")\n",
        "        print(f\"   💡 {self.display}\")\n",
        "        print(f\"   🌐 {self.app}\")\n",
        "\n",
        "    def save_settings(self):\n",
        "        print(\"💾 설정이 저장되었습니다!\")\n",
        "        audio_copy = AudioSettings()\n",
        "        audio_copy.volume = self.audio.volume\n",
        "\n",
        "        display_copy = DisplaySettings()\n",
        "        display_copy.brightness = self.display.brightness\n",
        "        display_copy.theme = self.display.theme\n",
        "\n",
        "        app_copy = AppSettings()\n",
        "        app_copy.language = self.app.language\n",
        "        app_copy.notifications = self.app.notifications\n",
        "\n",
        "        return SettingsMemento(audio_copy, display_copy, app_copy)\n",
        "\n",
        "    def restore_settings(self, memento):\n",
        "        self.audio.volume = memento.audio_settings.volume\n",
        "        self.display.brightness = memento.display_settings.brightness\n",
        "        self.display.theme = memento.display_settings.theme\n",
        "        self.app.language = memento.app_settings.language\n",
        "        self.app.notifications = memento.app_settings.notifications\n",
        "        print(f\"📂 설정이 복원되었습니다: {memento}\")\n",
        "\n",
        "settings_manager = SettingsManager()\n",
        "\n",
        "print(\"=== 앱 설정 변경 및 저장 테스트 ===\\n\")\n",
        "\n",
        "settings_manager.show_current_settings()\n",
        "save1 = settings_manager.save_settings()\n",
        "\n",
        "print(\"\\n설정 변경 중...\")\n",
        "settings_manager.audio.set_volume(75)\n",
        "settings_manager.display.set_brightness(90)\n",
        "settings_manager.display.set_theme(\"다크\")\n",
        "settings_manager.show_current_settings()\n",
        "save2 = settings_manager.save_settings()\n",
        "\n",
        "print(\"\\n더 많은 설정 변경...\")\n",
        "settings_manager.audio.set_volume(100)\n",
        "settings_manager.app.set_language(\"English\")\n",
        "settings_manager.app.toggle_notifications()\n",
        "settings_manager.show_current_settings()\n",
        "\n",
        "print(\"\\n\" + \"=\"*50)\n",
        "print(\"첫 번째 저장으로 되돌리기:\")\n",
        "settings_manager.restore_settings(save1)\n",
        "settings_manager.show_current_settings()\n",
        "\n",
        "print(\"\\n\" + \"=\"*50)\n",
        "print(\"두 번째 저장으로 되돌리기:\")\n",
        "settings_manager.restore_settings(save2)\n",
        "settings_manager.show_current_settings()"
      ],
      "metadata": {
        "id": "xfd38aGpyjRC",
        "colab": {
          "base_uri": "https://localhost:8080/"
        },
        "outputId": "da9759bc-95b9-4ffa-a711-a1f7f9498901"
      },
      "execution_count": 62,
      "outputs": [
        {
          "output_type": "stream",
          "name": "stdout",
          "text": [
            "=== 앱 설정 변경 및 저장 테스트 ===\n",
            "\n",
            "\n",
            "📱 현재 설정:\n",
            "   🔊 볼륨:50%\n",
            "   💡 밝기:80%, 테마:라이트\n",
            "   🌐 언어:한국어, 알림:켜짐\n",
            "💾 설정이 저장되었습니다!\n",
            "\n",
            "설정 변경 중...\n",
            "🔊 볼륨이 75%로 변경되었습니다.\n",
            "💡 밝기가 90%로 변경되었습니다.\n",
            "🎨 테마가 '다크'로 변경되었습니다.\n",
            "\n",
            "📱 현재 설정:\n",
            "   🔊 볼륨:75%\n",
            "   💡 밝기:90%, 테마:다크\n",
            "   🌐 언어:한국어, 알림:켜짐\n",
            "💾 설정이 저장되었습니다!\n",
            "\n",
            "더 많은 설정 변경...\n",
            "🔊 볼륨이 100%로 변경되었습니다.\n",
            "🌐 언어가 'English'로 변경되었습니다.\n",
            "🔔 알림이 꺼짐으로 변경되었습니다.\n",
            "\n",
            "📱 현재 설정:\n",
            "   🔊 볼륨:100%\n",
            "   💡 밝기:90%, 테마:다크\n",
            "   🌐 언어:English, 알림:꺼짐\n",
            "\n",
            "==================================================\n",
            "첫 번째 저장으로 되돌리기:\n",
            "📂 설정이 복원되었습니다: 설정(오디오:볼륨:50%, 디스플레이:밝기:80%, 테마:라이트, 앱:언어:한국어, 알림:켜짐)\n",
            "\n",
            "📱 현재 설정:\n",
            "   🔊 볼륨:50%\n",
            "   💡 밝기:80%, 테마:라이트\n",
            "   🌐 언어:한국어, 알림:켜짐\n",
            "\n",
            "==================================================\n",
            "두 번째 저장으로 되돌리기:\n",
            "📂 설정이 복원되었습니다: 설정(오디오:볼륨:75%, 디스플레이:밝기:90%, 테마:다크, 앱:언어:한국어, 알림:켜짐)\n",
            "\n",
            "📱 현재 설정:\n",
            "   🔊 볼륨:75%\n",
            "   💡 밝기:90%, 테마:다크\n",
            "   🌐 언어:한국어, 알림:켜짐\n"
          ]
        }
      ]
    },
    {
      "cell_type": "markdown",
      "source": [
        "### Mediator Pattern\n",
        "\n",
        "- 객체들 간의 복잡한 상호작용을 캡슐화하여 중재자 객체를 통해 통신하게 하는 패턴\n"
      ],
      "metadata": {
        "id": "Q5KRYP4W8mKe"
      }
    },
    {
      "cell_type": "markdown",
      "source": [
        "\n",
        "#### 장점\n",
        "\n",
        "- 객체들 간의 직접적인 의존성을 제거하여 결합도를 낮춤\n",
        "- 객체 간 통신 로직을 한 곳에 집중시켜 관리가 용이함\n",
        "- 객체의 재사용성이 높아짐\n",
        "- 새로운 중재자를 추가하여 객체 간 상호작용 방식을 쉽게 변경 가능\n",
        "\n",
        "#### 단점\n",
        "\n",
        "- 중재자 객체가 복잡해지고 비대해질 수 있음\n",
        "- 중재자가 God Object가 될 위험이 있음\n",
        "- 시스템이 커질수록 중재자의 유지보수가 어려워질 수 있음"
      ],
      "metadata": {
        "id": "m55Tcf4o8mKe"
      }
    },
    {
      "cell_type": "code",
      "source": [
        "class ChatRoom:\n",
        "    def __init__(self, name):\n",
        "        self.name = name\n",
        "        self.users = []\n",
        "\n",
        "    def add_user(self, user):\n",
        "        self.users.append(user)\n",
        "        print(f\"✓ {user.name}님이 '{self.name}' 채팅방에 입장했습니다.\")\n",
        "\n",
        "    def send_message(self, message, sender):\n",
        "        print(f\"\\n[{self.name}] {sender.name}: {message}\")\n",
        "        for user in self.users:\n",
        "            if user != sender:\n",
        "                user.receive(message, sender)\n",
        "\n",
        "class User:\n",
        "    def __init__(self, name, chatroom):\n",
        "        self.name = name\n",
        "        self.chatroom = chatroom\n",
        "\n",
        "    def send(self, message):\n",
        "        self.chatroom.send_message(message, self)\n",
        "\n",
        "    def receive(self, message, sender):\n",
        "        print(f\"  → {self.name}님이 받음\")\n",
        "\n",
        "chatroom = ChatRoom(\"개발자 모임\")\n",
        "\n",
        "user1 = User(\"철수\", chatroom)\n",
        "user2 = User(\"영희\", chatroom)\n",
        "user3 = User(\"민수\", chatroom)\n",
        "\n",
        "chatroom.add_user(user1)\n",
        "chatroom.add_user(user2)\n",
        "chatroom.add_user(user3)\n",
        "\n",
        "print(\"\\n\" + \"=\" * 50)\n",
        "\n",
        "user1.send(\"안녕하세요! 처음 뵙겠습니다.\")\n",
        "\n",
        "print(\"\\n\" + \"-\" * 50)\n",
        "\n",
        "user2.send(\"반갑습니다~ 잘 부탁드려요!\")\n",
        "\n",
        "print(\"\\n\" + \"-\" * 50)\n",
        "\n",
        "user3.send(\"다들 반가워요 ㅎㅎ\")"
      ],
      "metadata": {
        "colab": {
          "base_uri": "https://localhost:8080/"
        },
        "id": "dtxpDUXe8mKe",
        "outputId": "149540e9-f69d-4c1a-cd92-e889b1fc8092"
      },
      "execution_count": 63,
      "outputs": [
        {
          "output_type": "stream",
          "name": "stdout",
          "text": [
            "✓ 철수님이 '개발자 모임' 채팅방에 입장했습니다.\n",
            "✓ 영희님이 '개발자 모임' 채팅방에 입장했습니다.\n",
            "✓ 민수님이 '개발자 모임' 채팅방에 입장했습니다.\n",
            "\n",
            "==================================================\n",
            "\n",
            "[개발자 모임] 철수: 안녕하세요! 처음 뵙겠습니다.\n",
            "  → 영희님이 받음\n",
            "  → 민수님이 받음\n",
            "\n",
            "--------------------------------------------------\n",
            "\n",
            "[개발자 모임] 영희: 반갑습니다~ 잘 부탁드려요!\n",
            "  → 철수님이 받음\n",
            "  → 민수님이 받음\n",
            "\n",
            "--------------------------------------------------\n",
            "\n",
            "[개발자 모임] 민수: 다들 반가워요 ㅎㅎ\n",
            "  → 철수님이 받음\n",
            "  → 영희님이 받음\n"
          ]
        }
      ]
    },
    {
      "cell_type": "markdown",
      "source": [
        "### Visiter Pattern\n",
        "- 객체 구조를 변경하지 않고 새로운 연산을 추가할 수 있게 하는 패턴\n"
      ],
      "metadata": {
        "id": "Nhco4BnTyjY0"
      }
    },
    {
      "cell_type": "markdown",
      "source": [
        "\n",
        "#### 장점\n",
        "\n",
        "- 새로운 연산을 쉽게 추가할 수 있음 -> OCP 준수\n",
        "- 관련된 연산들을 하나의 클래스에 모을 수 있음\n",
        "- 각 연산 로직을 분리하여 SRP 준수\n",
        "- 복잡한 객체 구조를 순회하면서 작업을 수행할 수 있음\n",
        "\n",
        "#### 단점\n",
        "\n",
        "- 새로운 Element 클래스를 추가하기 어려움 (모든 Visitor를 수정해야 함)\n",
        "- Element의 내부 상태를 외부로 노출해야 할 수 있어 캡슐화가 깨질 수 있음\n",
        "- 구조가 복잡하여 이해하기 어려울 수 있음\n"
      ],
      "metadata": {
        "id": "o7oam1ckyjY0"
      }
    },
    {
      "cell_type": "code",
      "source": [
        "from abc import ABC, abstractmethod\n",
        "\n",
        "class Product(ABC):\n",
        "    def __init__(self, name, price):\n",
        "        self.name = name\n",
        "        self.price = price\n",
        "\n",
        "    @abstractmethod\n",
        "    def accept(self, visitor):\n",
        "        pass\n",
        "\n",
        "class Book(Product):\n",
        "    def accept(self, visitor):\n",
        "        return visitor.visit_book(self)\n",
        "\n",
        "class Electronic(Product):\n",
        "    def accept(self, visitor):\n",
        "        return visitor.visit_electronic(self)\n",
        "\n",
        "class Food(Product):\n",
        "    def accept(self, visitor):\n",
        "        return visitor.visit_food(self)\n",
        "\n",
        "class PriceVisitor(ABC):\n",
        "    @abstractmethod\n",
        "    def visit_book(self, book):\n",
        "        pass\n",
        "\n",
        "    @abstractmethod\n",
        "    def visit_electronic(self, electronic):\n",
        "        pass\n",
        "\n",
        "    @abstractmethod\n",
        "    def visit_food(self, food):\n",
        "        pass\n",
        "\n",
        "class DiscountVisitor(PriceVisitor):\n",
        "    def visit_book(self, book):\n",
        "        discount = book.price * 0.1\n",
        "        print(f\"📚 {book.name}: {book.price}원 → 10% 할인 = {book.price - discount}원\")\n",
        "        return book.price - discount\n",
        "\n",
        "    def visit_electronic(self, electronic):\n",
        "        discount = electronic.price * 0.15\n",
        "        print(f\"💻 {electronic.name}: {electronic.price}원 → 15% 할인 = {electronic.price - discount}원\")\n",
        "        return electronic.price - discount\n",
        "\n",
        "    def visit_food(self, food):\n",
        "        discount = food.price * 0.05\n",
        "        print(f\"🍔 {food.name}: {food.price}원 → 5% 할인 = {food.price - discount}원\")\n",
        "        return food.price - discount\n",
        "\n",
        "class TaxVisitor(PriceVisitor):\n",
        "    def visit_book(self, book):\n",
        "        tax = book.price * 0.0\n",
        "        print(f\"📚 {book.name}: {book.price}원 + 세금 0% = {book.price + tax}원\")\n",
        "        return book.price + tax\n",
        "\n",
        "    def visit_electronic(self, electronic):\n",
        "        tax = electronic.price * 0.1\n",
        "        print(f\"💻 {electronic.name}: {electronic.price}원 + 세금 10% = {electronic.price + tax}원\")\n",
        "        return electronic.price + tax\n",
        "\n",
        "    def visit_food(self, food):\n",
        "        tax = food.price * 0.08\n",
        "        print(f\"🍔 {food.name}: {food.price}원 + 세금 8% = {food.price + tax}원\")\n",
        "        return food.price + tax\n",
        "\n",
        "products = [\n",
        "    Book(\"디자인 패턴\", 30000),\n",
        "    Electronic(\"노트북\", 1500000),\n",
        "    Food(\"피자\", 25000)\n",
        "]\n",
        "\n",
        "print(\"=== 할인 가격 계산 ===\\n\")\n",
        "discount_visitor = DiscountVisitor()\n",
        "total_discount = sum(product.accept(discount_visitor) for product in products)\n",
        "print(f\"\\n총 할인가: {total_discount}원\\n\")\n",
        "\n",
        "print(\"=\" * 50 + \"\\n\")\n",
        "\n",
        "print(\"=== 세금 포함 가격 계산 ===\\n\")\n",
        "tax_visitor = TaxVisitor()\n",
        "total_tax = sum(product.accept(tax_visitor) for product in products)\n",
        "print(f\"\\n총 세금 포함가: {total_tax}원\")"
      ],
      "metadata": {
        "id": "i3xS6G9iyjY0",
        "colab": {
          "base_uri": "https://localhost:8080/"
        },
        "outputId": "a1073537-5c1d-47a9-9e62-fee87d38d186"
      },
      "execution_count": 64,
      "outputs": [
        {
          "output_type": "stream",
          "name": "stdout",
          "text": [
            "=== 할인 가격 계산 ===\n",
            "\n",
            "📚 디자인 패턴: 30000원 → 10% 할인 = 27000.0원\n",
            "💻 노트북: 1500000원 → 15% 할인 = 1275000.0원\n",
            "🍔 피자: 25000원 → 5% 할인 = 23750.0원\n",
            "\n",
            "총 할인가: 1325750.0원\n",
            "\n",
            "==================================================\n",
            "\n",
            "=== 세금 포함 가격 계산 ===\n",
            "\n",
            "📚 디자인 패턴: 30000원 + 세금 0% = 30000.0원\n",
            "💻 노트북: 1500000원 + 세금 10% = 1650000.0원\n",
            "🍔 피자: 25000원 + 세금 8% = 27000.0원\n",
            "\n",
            "총 세금 포함가: 1707000.0원\n"
          ]
        }
      ]
    },
    {
      "cell_type": "markdown",
      "source": [
        "### Iterator Pattern\n",
        "- 컬렉션의 내부 구조를 노출하지 않고 순차적으로 요소에 접근할 수 있게 하는 패턴\n",
        "\n"
      ],
      "metadata": {
        "id": "nsrs8KW8yjfF"
      }
    },
    {
      "cell_type": "markdown",
      "source": [
        "\n",
        "\n",
        "#### 장점\n",
        "\n",
        "- 컬렉션의 내부 구조를 숨기고 일관된 인터페이스로 접근 가능\n",
        "- 동일한 컬렉션에 대해 여러 개의 순회가 동시에 진행 가능\n",
        "- 새로운 컬렉션이나 반복자를 추가해도 기존 코드 수정이 불필요함 -> OCP 준수\n",
        "- 컬렉션 순회 로직을 분리하여 SRP 준수\n",
        "\n",
        "#### 단점\n",
        "\n",
        "- 단순한 컬렉션의 경우 오히려 코드가 복잡해질 수 있음\n",
        "- 직접 접근보다 성능이 떨어질 수 있음"
      ],
      "metadata": {
        "id": "iqPj1_uGyjfF"
      }
    },
    {
      "cell_type": "code",
      "source": [
        "from abc import ABC, abstractmethod\n",
        "\n",
        "class Song:\n",
        "    def __init__(self, title, artist):\n",
        "        self.title = title\n",
        "        self.artist = artist\n",
        "\n",
        "    def __str__(self):\n",
        "        return f\"{self.title} - {self.artist}\"\n",
        "\n",
        "class Iterator(ABC):\n",
        "    @abstractmethod\n",
        "    def has_next(self):\n",
        "        pass\n",
        "\n",
        "    @abstractmethod\n",
        "    def next(self):\n",
        "        pass\n",
        "\n",
        "class PlaylistIterator(Iterator):\n",
        "    def __init__(self, songs):\n",
        "        self.songs = songs\n",
        "        self.position = 0\n",
        "\n",
        "    def has_next(self):\n",
        "        return self.position < len(self.songs)\n",
        "\n",
        "    def next(self):\n",
        "        if self.has_next():\n",
        "            song = self.songs[self.position]\n",
        "            self.position += 1\n",
        "            return song\n",
        "        return None\n",
        "\n",
        "class Playlist:\n",
        "    def __init__(self, name):\n",
        "        self.name = name\n",
        "        self.songs = []\n",
        "\n",
        "    def add_song(self, song):\n",
        "        self.songs.append(song)\n",
        "\n",
        "    def create_iterator(self):\n",
        "        return PlaylistIterator(self.songs)\n",
        "\n",
        "playlist = Playlist(\"내가 좋아하는 노래\")\n",
        "\n",
        "playlist.add_song(Song(\"Dynamite\", \"BTS\"))\n",
        "playlist.add_song(Song(\"Butter\", \"BTS\"))\n",
        "playlist.add_song(Song(\"봄날\", \"BTS\"))\n",
        "playlist.add_song(Song(\"Love Dive\", \"IVE\"))\n",
        "\n",
        "print(f\"🎵 '{playlist.name}' 재생 중...\\n\")\n",
        "\n",
        "iterator = playlist.create_iterator()\n",
        "\n",
        "track_number = 1\n",
        "while iterator.has_next():\n",
        "    song = iterator.next()\n",
        "    print(f\"{track_number}. ♪ {song}\")\n",
        "    track_number += 1\n",
        "\n",
        "print(\"\\n재생 완료! 🎧\")"
      ],
      "metadata": {
        "id": "GpBr5VadyjfF",
        "colab": {
          "base_uri": "https://localhost:8080/"
        },
        "outputId": "715f36e9-e7c7-4c8a-df28-180a5785444b"
      },
      "execution_count": 65,
      "outputs": [
        {
          "output_type": "stream",
          "name": "stdout",
          "text": [
            "🎵 '내가 좋아하는 노래' 재생 중...\n",
            "\n",
            "1. ♪ Dynamite - BTS\n",
            "2. ♪ Butter - BTS\n",
            "3. ♪ 봄날 - BTS\n",
            "4. ♪ Love Dive - IVE\n",
            "\n",
            "재생 완료! 🎧\n"
          ]
        }
      ]
    }
  ]
}