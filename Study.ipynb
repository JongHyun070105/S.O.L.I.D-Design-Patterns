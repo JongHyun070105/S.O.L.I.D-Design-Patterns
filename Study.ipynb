{
  "nbformat": 4,
  "nbformat_minor": 0,
  "metadata": {
    "colab": {
      "provenance": [],
      "collapsed_sections": [
        "MZO35zWRerdX",
        "p3YhNY6xkNEY",
        "ID3TtS3B9ebK",
        "weKOSGCN0PlR",
        "j3L6mFi_0Wp7",
        "jRUxVJE89fky",
        "bOTAe-lEG54R",
        "E9GpxPRYG54R",
        "w5YJMJDrG54S",
        "JuzES-FeqLBI",
        "An8aJVCIPBWq",
        "Ekl53gxITApW",
        "PP7ovL_1TFm7",
        "VM8dQUy3TJJz",
        "XpYsd0ynYw9x"
      ],
      "authorship_tag": "ABX9TyM9bUdG6+ou0QaHBfUF92un",
      "include_colab_link": true
    },
    "kernelspec": {
      "name": "python3",
      "display_name": "Python 3"
    },
    "language_info": {
      "name": "python"
    }
  },
  "cells": [
    {
      "cell_type": "markdown",
      "metadata": {
        "id": "view-in-github",
        "colab_type": "text"
      },
      "source": [
        "<a href=\"https://colab.research.google.com/github/JongHyun070105/S.O.L.I.D-Design-Patterns/blob/main/Study.ipynb\" target=\"_parent\"><img src=\"https://colab.research.google.com/assets/colab-badge.svg\" alt=\"Open In Colab\"/></a>"
      ]
    },
    {
      "cell_type": "markdown",
      "source": [
        "# SOLID"
      ],
      "metadata": {
        "id": "MZO35zWRerdX"
      }
    },
    {
      "cell_type": "markdown",
      "source": [
        "## SRP(Single Responsibility Principle, 단일 책임 원칙)\n",
        "- 모든 클래스는 단 하나의 책임(기능)을 가져야 함.\n",
        "\n",
        "### exma code\n",
        "```\n",
        "from datetime import datetime\n",
        "import logging\n",
        "\n",
        "class Cat:\n",
        "  def __init__(self,age,name):\n",
        "    self.age = age\n",
        "    self.name = name\n",
        "\n",
        "  def eat(self):\n",
        "    print(\"eating..\")\n",
        "\n",
        "  def walk(self):\n",
        "    print(\"walking..\")\n",
        "\n",
        "  def speak(self):\n",
        "    print(\"meow~\")\n",
        "\n",
        "  def print(self):\n",
        "    print(f\"name:{self.name}, age:{self.age}\")\n",
        "\n",
        "  def log(self,logger):\n",
        "    logger.info(f\"name:{self.name}, age:{self.age}\")\n",
        "    logger.info(datetime.now())\n",
        "\n",
        "\n",
        "kitty = Cat(3,\"kitty\")\n",
        "kitty.eat()\n",
        "kitty.walk()\n",
        "kitty.speak()\n",
        "kitty.print()\n",
        "\n",
        "# 콘솔 출력\n",
        "logger = logging.getLogger(\"mylog\")\n",
        "logger.setLevel(logging.DEBUG)\n",
        "\n",
        "kitty.log(logger)\n",
        "```"
      ],
      "metadata": {
        "id": "zhiJ2OvDj-SR"
      }
    },
    {
      "cell_type": "code",
      "source": [
        "class Human: # class 선언\n",
        "  def __init__(self, name, age, gender, ):\n",
        "    # 이름\n",
        "    self.name = name\n",
        "\n",
        "    # 나이\n",
        "    self.age = age\n",
        "\n",
        "    # 성별\n",
        "    self.gender = gender\n",
        "\n",
        "  def sing(self):\n",
        "    print(f\"{self.name}이 노래를 부른다\")\n",
        "\n",
        "  def dance(self):\n",
        "    print(f\"{self.name}이 춤을 춘다\")\n",
        "\n",
        "  def study(self):\n",
        "    print(f\"{self.name}이 공부를 한다\")\n",
        "\n",
        "  # 정보 출력하는 메서드\n",
        "  def info(self):\n",
        "    print(f\"{self.name}은/는 {self.gender}이고, 나이는 {self.age}살이다.\")\n",
        "\n",
        "# human1이라는 Human 객체 생성\n",
        "human1 = Human(\"구자욱\", 31, \"남성\")\n",
        "\n",
        "# human1의 행동 출력\n",
        "human1.sing()\n",
        "human1.dance()\n",
        "human1.study()\n",
        "\n",
        "\n",
        "# human1 정보 출력\n",
        "human1.info()"
      ],
      "metadata": {
        "colab": {
          "base_uri": "https://localhost:8080/"
        },
        "id": "h4lC9UPrvOqi",
        "outputId": "ea4cd784-a229-42de-f7ab-1ceb65f44aa9"
      },
      "execution_count": null,
      "outputs": [
        {
          "output_type": "stream",
          "name": "stdout",
          "text": [
            "구자욱이 노래를 부른다\n",
            "구자욱이 춤을 춘다\n",
            "구자욱이 공부를 한다\n",
            "구자욱은/는 남성이고, 나이는 31살이다.\n"
          ]
        }
      ]
    },
    {
      "cell_type": "markdown",
      "source": [
        "## OCP(Open-Closed Principle, 개방-폐쇄 원칙)\n",
        "- 클래스는 확장에 대해서는 열려 있어야 하고, 기존 코드 변경에는 닫혀 있어야 한다.\n",
        "### exam code\n",
        "```\n",
        "class Animal:\n",
        "  def speak(self):  #interface method\n",
        "    pass\n",
        "\n",
        "class Cat(Animal):\n",
        "  def speak(self):\n",
        "    print(\"meow\")\n",
        "\n",
        "class Dog(Animal):\n",
        "  def speak(self):\n",
        "    print(\"bark\")\n",
        "\n",
        "class Sheep(Animal):\n",
        "  def speak(self):\n",
        "    print(\"meh\")\n",
        "\n",
        "class Cow(Animal):\n",
        "  def speak(self):\n",
        "    print(\"moo\")\n",
        "\n",
        "def hey(animal):\n",
        "  animal.speak();\n",
        "\n",
        "\n",
        "bingo = Dog()\n",
        "kitty = Cat()\n",
        "sheep = Sheep()\n",
        "cow = Cow()\n",
        "\n",
        "hey(bingo)\n",
        "hey(kitty)\n",
        "hey(sheep)\n",
        "hey(cow)\n",
        "```"
      ],
      "metadata": {
        "id": "p3YhNY6xkNEY"
      }
    },
    {
      "cell_type": "code",
      "execution_count": null,
      "metadata": {
        "id": "zTF8TSCFjupw"
      },
      "outputs": [],
      "source": [
        "class BaseballPlayer: # class 선언\n",
        "  def __init__(self, name): # 이름을 입력 받는다\n",
        "    self.name = name\n",
        "\n",
        "  def hit(self): # hit 메서드 선언\n",
        "    pass\n",
        "\n",
        "  def out(self): # out 메서드 선언\n",
        "    pass\n",
        "\n",
        "  def run(self): # run 메서드 선언\n",
        "    pass\n",
        "\n",
        "  def fourball(self): # fourball 메서드 선언\n",
        "    pass"
      ]
    },
    {
      "cell_type": "code",
      "source": [
        "class Pitcher(BaseballPlayer): # 투수 클래스 생성. BaseballPlayer를 상속 받음\n",
        "  def hit(self):\n",
        "    print(f\"{self.name}: 안타를 허용했다.\")\n",
        "\n",
        "  def out(self):\n",
        "    print(f\"{self.name}: 상대 타자를 아웃 시켰다.\")\n",
        "\n",
        "  def run(self):\n",
        "    print(f\"{self.name}: 도루를 허용했다.\")\n",
        "\n",
        "  def fourball(self):\n",
        "    print(f\"{self.name}: 상대 타자를 볼넷으로 내보냈다.\")\n",
        "\n",
        "class Batter(BaseballPlayer): # 타자 클래스 생성. BaseballPlayer를 상속 받음\n",
        "  def hit(self):\n",
        "    print(f\"{self.name}: 안타를 쳤다.\")\n",
        "\n",
        "  def out(self):\n",
        "    print(f\"{self.name}: 아웃을 당했다.\")\n",
        "\n",
        "  def run(self):\n",
        "    print(f\"{self.name}: 도루를 성공했다.\")\n",
        "\n",
        "  def fourball(self):\n",
        "    print(f\"{self.name}: 볼넷으로 출루했다.\")\n",
        "\n",
        "# 확장 가능성 + 기존 코드 수정 X\n",
        "# class Judgment(BaseballPlayer):\n",
        "#   def hit(self):\n",
        "#     print(\"플레이어가 안타를 쳤다.\")\n",
        "\n",
        "#   def out(self):\n",
        "#     print(\"플레이어가 아웃을 당했다.\")\n",
        "\n",
        "#   def run(self):\n",
        "#     print(\"플레이어가 도루를 했다.\")\n",
        "\n",
        "#   def fourball(self):\n",
        "#     print(\"플레이어가 볼넷으로 나갔다.\")"
      ],
      "metadata": {
        "id": "_WVYotXF3nVR"
      },
      "execution_count": null,
      "outputs": []
    },
    {
      "cell_type": "code",
      "source": [
        "# 객체 생성\n",
        "player1 = Batter(\"구자욱\")\n",
        "player2 = Pitcher(\"원태인\")\n",
        "player3 = Batter(\"이대호\")\n",
        "player4 = Pitcher(\"오승환\")\n",
        "player5 = Batter(\"김지찬\")\n",
        "\n",
        "# 출력\n",
        "player1.hit()\n",
        "player2.out()\n",
        "player3.run()\n",
        "player4.fourball()\n",
        "player5.out()"
      ],
      "metadata": {
        "colab": {
          "base_uri": "https://localhost:8080/"
        },
        "id": "yz35aUQOx2i6",
        "outputId": "1a15e3a9-7f3a-4323-e39a-c76780a1e980"
      },
      "execution_count": null,
      "outputs": [
        {
          "output_type": "stream",
          "name": "stdout",
          "text": [
            "구자욱: 안타를 쳤다.\n",
            "원태인: 상대 타자를 아웃 시켰다.\n",
            "이대호: 도루를 성공했다.\n",
            "오승환: 상대 타자를 볼넷으로 내보냈다\n",
            "김지찬: 아웃을 당했다.\n"
          ]
        }
      ]
    },
    {
      "cell_type": "code",
      "source": [
        "# class Hit(BaseballPlayer): # Hit이라는 클래스를 생성. BaseballPlayer를 상속 받는다.\n",
        "#   def result(self):\n",
        "#     if(self.postion == \"타자\"): # 포지션이 타자라면 안타를 쳤다고 출력.\n",
        "#       print(f\"{self.name}: 안타를 쳤다.\")\n",
        "\n",
        "#     else: # 포지션이 투수라면 안타를 허용했다고 출력.\n",
        "#       print(f\"{self.name}: 안타를 허용했다\")\n",
        "\n",
        "# class Out(BaseballPlayer): # Out이라는 클래스를 생성. BaseballPlayer를 상속 받는다.\n",
        "#   def result(self):\n",
        "#     if(self.postion == \"타자\"):# 포지션이 타자라면 아웃을 당했다고 출력.\n",
        "#       print(f\"{self.name}: 아웃을 당했다.\")\n",
        "\n",
        "#     else: # 포지션이 투수라면 아웃 시켰다고 출력.\n",
        "#       print(f\"{self.name}: 상대 타자를 아웃 시켰다.\")\n",
        "\n",
        "# class Run(BaseballPlayer): # Run이라는 클래스를 생성. BaseballPlayer를 상속 받는다.\n",
        "#   def result(self):\n",
        "#     if(self.postion == \"타자\"): # 포지션이 타자라면 도루를 성공했다고 출력.\n",
        "#       print(f\"{self.name}: 도루를 성공했다.\")\n",
        "\n",
        "#     else: # 포지션이 투수라면 도루를 허용했다고 출력.\n",
        "#       print(f\"{self.name}: 도루를 허용했다\")\n",
        "\n",
        "# class FourBall(BaseballPlayer): # FourBall이라는 클래스를 생성. BaseballPlayer를 상속 받는다.\n",
        "#   def result(self):\n",
        "#     if(self.postion == \"투수\"): # 포지션이 투수라면 상대 타자를 볼넷으로 내보냈다고 출력.\n",
        "#       print(f\"{self.name}: 상대 타자를 볼넷으로 내보냈다\")\n",
        "\n",
        "#     else: # 포지션이 타자라면 볼넷으로 출루했다고 출력.\n",
        "#       print(f\"{self.name}: 볼넷으로 출루했다\")"
      ],
      "metadata": {
        "id": "_Nd4Vmgdxjra"
      },
      "execution_count": null,
      "outputs": []
    },
    {
      "cell_type": "markdown",
      "source": [
        "## LSP(Liskov Substitution Principle, 리스코프 치환 원칙)\n",
        "- 자식 클래스는 언제나 부모 클래스를 대체할 수 있어야 한다.\n",
        "### exam code\n",
        "```\n",
        "class Bird:\n",
        "    def eat(self):\n",
        "        print(\"Bird is eating\")\n",
        "\n",
        "class FlyingBird(Bird):\n",
        "    def fly(self):\n",
        "        print(\"Flying bird is flying\")\n",
        "\n",
        "class Sparrow(FlyingBird):\n",
        "    def fly(self):\n",
        "        print(\"Sparrow flies high\")\n",
        "\n",
        "class Penguin(Bird):\n",
        "    def swim(self):\n",
        "        print(\"Penguin swims fast\")\n",
        "\n",
        "\n",
        "def let_bird_eat(bird: Bird):\n",
        "    bird.eat()\n",
        "\n",
        "def let_bird_fly(flying_bird: FlyingBird):\n",
        "    flying_bird.fly()\n",
        "\n",
        "\n",
        "# 실행\n",
        "let_bird_eat(Sparrow())   # 가능\n",
        "let_bird_eat(Penguin())   # 가능 (먹을 수 있음)\n",
        "let_bird_fly(Sparrow())   # 가능\n",
        "# let_bird_fly(Penguin()) # 타입상 애초에 불가능 -> 계약 지켜짐\n",
        "```"
      ],
      "metadata": {
        "id": "HxXXmO7xdt5-"
      }
    },
    {
      "cell_type": "code",
      "source": [],
      "metadata": {
        "id": "8TcjMBK8eFVT"
      },
      "execution_count": null,
      "outputs": []
    },
    {
      "cell_type": "markdown",
      "source": [
        "## ISP(Interface Segregation Principle, 인터페이스 분리 원칙)\n",
        "- 클라이언트는 자신이 사용하지 않는 메서드에 의존 관계를 맺으면 안된다.\n",
        "### exam code\n",
        "```\n",
        "```"
      ],
      "metadata": {
        "id": "_Oe6uyZfeFjW"
      }
    },
    {
      "cell_type": "code",
      "source": [],
      "metadata": {
        "id": "NEjZQUf5eNiM"
      },
      "execution_count": null,
      "outputs": []
    },
    {
      "cell_type": "markdown",
      "source": [
        "## DIP(Dependency Inversion Principle, 의존관계 역전 원칙)\n",
        "- A. 상위 모듈은 하위 모듈에 의존하면 안된다.    B. 추상화는 구체적인 것에 의존하면 안된다.\n",
        "### exam code\n",
        "```\n",
        "```"
      ],
      "metadata": {
        "id": "3Z7SxEtAeNut"
      }
    },
    {
      "cell_type": "code",
      "source": [],
      "metadata": {
        "id": "cnkdRJi1eYiw"
      },
      "execution_count": null,
      "outputs": []
    },
    {
      "cell_type": "markdown",
      "source": [
        "## SOLID 모두 적용한 코드 짜보기\n",
        "- 주제는 House"
      ],
      "metadata": {
        "id": "KR73LKLXUwTb"
      }
    },
    {
      "cell_type": "code",
      "source": [
        "# LSP - Room의 자식 클래스인 MyRoom, MomRoom등이 부모의 describe를 대체할 수 있음\n",
        "class Room:\n",
        "  def describe(self):\n",
        "    pass\n",
        "\n",
        "class MyRoom(Room):\n",
        "  def describe(self):\n",
        "    print(\"내 방이야!\")\n",
        "\n",
        "class MomRoom(Room):\n",
        "  def describe(self):\n",
        "    print(\"우리 엄마방이야!\")\n",
        "\n",
        "class DadRoom(Room):\n",
        "  def describe(self):\n",
        "    print(\"우리 아빠방이야!\")\n",
        "\n",
        "class SisterRoom(Room):\n",
        "  def describe(self):\n",
        "    print(\"우리 여동생방이야!\")\n",
        "\n",
        "# OCP - 기존 코드 수정없이 확장 가능\n",
        "# class BathRoom(Room):\n",
        "#   def decribe(self):\n",
        "#     print(\"우리집 화장실이야!\")\n",
        "\n",
        "# SRP - 하나의 클래스에는 하나의 책임만 있어라: House: 집의 관리를 담당함 Room: 방의 설명을 출력하는 것을 담당함\n",
        "# ISP - 자신이 사용하지 않는 메서드 (MyRoom, MomRoom 등등)에 의존 관계를 맺지 않고, Room과의 의존 관계만 있음\n",
        "# DIP - House는 하위 모듈인 MyRoom, MomRoom에 의존하지 않음\n",
        "class House:\n",
        "  def __init__(self):\n",
        "    # 방을 담는 rooms 리스트\n",
        "    self.rooms = []\n",
        "\n",
        "  # 방을 추가하는 메서드\n",
        "  def addRoom(self, room):\n",
        "    self.rooms.append(room) # rooms 리스트에 room을 추가하는 코드\n",
        "\n",
        "  # 방을 보여주는 메서드\n",
        "  def showRoom(self):\n",
        "    for room in self.rooms:\n",
        "      room.describe() # Room class의 생성자가 가지고 있는 describe 메서드를 사용해서 방의 설명을 출력\n",
        "\n",
        "house = House() # House 객체 생성\n",
        "\n",
        "house.addRoom(MyRoom()) # house 객체에 addRoom을 사용하여 방을 추가함\n",
        "house.addRoom(MomRoom())\n",
        "house.addRoom(DadRoom())\n",
        "house.addRoom(SisterRoom())\n",
        "\n",
        "house.showRoom() # house 객체에 추가된 room의 설명을 전부 보여줌"
      ],
      "metadata": {
        "colab": {
          "base_uri": "https://localhost:8080/"
        },
        "id": "YyG9A4VIU3Sc",
        "outputId": "9db6c0f8-4668-411b-e377-302b6e685cbc"
      },
      "execution_count": null,
      "outputs": [
        {
          "output_type": "stream",
          "name": "stdout",
          "text": [
            "내 방이야!\n",
            "우리 엄마방이야!\n",
            "우리 아빠방이야!\n",
            "우리 여동생방이야!\n"
          ]
        }
      ]
    },
    {
      "cell_type": "markdown",
      "source": [
        "# Design Patterns"
      ],
      "metadata": {
        "id": "X6qvvA5Tez8i"
      }
    },
    {
      "cell_type": "markdown",
      "source": [
        "## Factory Method Pattern"
      ],
      "metadata": {
        "id": "ID3TtS3B9ebK"
      }
    },
    {
      "cell_type": "markdown",
      "source": [
        "### exam code"
      ],
      "metadata": {
        "id": "ig0UmHN19p3U"
      }
    },
    {
      "cell_type": "markdown",
      "source": [
        "##### v1"
      ],
      "metadata": {
        "id": "weKOSGCN0PlR"
      }
    },
    {
      "cell_type": "code",
      "source": [
        "from __future__ import annotations\n",
        "from abc import ABC, abstractmethod\n",
        "\n",
        "\n",
        "class Creator(ABC):\n",
        "    \"\"\"\n",
        "    The Creator class declares the factory method that is supposed to return an\n",
        "    object of a Product class. The Creator's subclasses usually provide the\n",
        "    implementation of this method.\n",
        "    \"\"\"\n",
        "\n",
        "    @abstractmethod\n",
        "    def factory_method(self):\n",
        "        \"\"\"\n",
        "        Note that the Creator may also provide some default implementation of\n",
        "        the factory method.\n",
        "        \"\"\"\n",
        "        pass\n",
        "\n",
        "    def some_operation(self) -> str:\n",
        "        \"\"\"\n",
        "        Also note that, despite its name, the Creator's primary responsibility\n",
        "        is not creating products. Usually, it contains some core business logic\n",
        "        that relies on Product objects, returned by the factory method.\n",
        "        Subclasses can indirectly change that business logic by overriding the\n",
        "        factory method and returning a different type of product from it.\n",
        "        \"\"\"\n",
        "\n",
        "        # Call the factory method to create a Product object.\n",
        "        product = self.factory_method()\n",
        "\n",
        "        # Now, use the product.\n",
        "        result = f\"Creator: The same creator's code has just worked with {product.operation()}\"\n",
        "\n",
        "        return result\n",
        "\n",
        "\n",
        "\"\"\"\n",
        "Concrete Creators override the factory method in order to change the resulting\n",
        "product's type.\n",
        "\"\"\"\n",
        "\n",
        "\n",
        "class ConcreteCreator1(Creator):\n",
        "    \"\"\"\n",
        "    Note that the signature of the method still uses the abstract product type,\n",
        "    even though the concrete product is actually returned from the method. This\n",
        "    way the Creator can stay independent of concrete product classes.\n",
        "    \"\"\"\n",
        "\n",
        "    def factory_method(self) -> Product:\n",
        "        return ConcreteProduct1()\n",
        "\n",
        "\n",
        "class ConcreteCreator2(Creator):\n",
        "    def factory_method(self) -> Product:\n",
        "        return ConcreteProduct2()\n",
        "\n",
        "\n",
        "class Product(ABC):\n",
        "    \"\"\"\n",
        "    The Product interface declares the operations that all concrete products\n",
        "    must implement.\n",
        "    \"\"\"\n",
        "\n",
        "    @abstractmethod\n",
        "    def operation(self) -> str:\n",
        "        pass\n",
        "\n",
        "\n",
        "\"\"\"\n",
        "Concrete Products provide various implementations of the Product interface.\n",
        "\"\"\"\n",
        "\n",
        "\n",
        "class ConcreteProduct1(Product):\n",
        "    def operation(self) -> str:\n",
        "        return \"{Result of the ConcreteProduct1}\"\n",
        "\n",
        "\n",
        "class ConcreteProduct2(Product):\n",
        "    def operation(self) -> str:\n",
        "        return \"{Result of the ConcreteProduct2}\"\n",
        "\n",
        "\n",
        "def client_code(creator: Creator) -> None:\n",
        "    \"\"\"\n",
        "    The client code works with an instance of a concrete creator, albeit through\n",
        "    its base interface. As long as the client keeps working with the creator via\n",
        "    the base interface, you can pass it any creator's subclass.\n",
        "    \"\"\"\n",
        "\n",
        "    print(f\"Client: I'm not aware of the creator's class, but it still works.\\n\"\n",
        "          f\"{creator.some_operation()}\", end=\"\")\n",
        "\n",
        "\n",
        "if __name__ == \"__main__\":\n",
        "    print(\"App: Launched with the ConcreteCreator1.\")\n",
        "    client_code(ConcreteCreator1())\n",
        "    print(\"\\n\")\n",
        "\n",
        "    print(\"App: Launched with the ConcreteCreator2.\")\n",
        "    client_code(ConcreteCreator2())"
      ],
      "metadata": {
        "colab": {
          "base_uri": "https://localhost:8080/"
        },
        "id": "a4UfxDXQ0Tsn",
        "outputId": "aa0db1b3-59e5-4028-cbc8-faa0db5546bf"
      },
      "execution_count": null,
      "outputs": [
        {
          "output_type": "stream",
          "name": "stdout",
          "text": [
            "App: Launched with the ConcreteCreator1.\n",
            "Client: I'm not aware of the creator's class, but it still works.\n",
            "Creator: The same creator's code has just worked with {Result of the ConcreteProduct1}\n",
            "\n",
            "App: Launched with the ConcreteCreator2.\n",
            "Client: I'm not aware of the creator's class, but it still works.\n",
            "Creator: The same creator's code has just worked with {Result of the ConcreteProduct2}"
          ]
        }
      ]
    },
    {
      "cell_type": "markdown",
      "source": [
        "#### v2"
      ],
      "metadata": {
        "id": "j3L6mFi_0Wp7"
      }
    },
    {
      "cell_type": "code",
      "source": [
        "class Animal():\n",
        "  def speak(self):\n",
        "    pass\n",
        "\n",
        "class Cat(Animal):\n",
        "  def speak(self):\n",
        "    print(\"meow\")\n",
        "\n",
        "class Dog(Animal):\n",
        "  def speak(self):\n",
        "    print(\"bark\")"
      ],
      "metadata": {
        "id": "ZOWA4EW-nHCI"
      },
      "execution_count": null,
      "outputs": []
    },
    {
      "cell_type": "code",
      "source": [
        "class AnimalFactory():\n",
        "  def createAnimal(self):\n",
        "    pass\n",
        "\n",
        "class CatFactory(AnimalFactory):\n",
        "  def __init__(self):\n",
        "    self.cat_count = 0\n",
        "  def createAnimal(self):\n",
        "    self.cat_count += 1\n",
        "    return Cat()\n",
        "  def catCount(self):\n",
        "    return self.cat_count\n",
        "\n",
        "\n",
        "class DogManager(AnimalFactory):\n",
        "  def haveDog(self):\n",
        "    self.dog = self.createAnimal()\n",
        "  def createAnimal(self):\n",
        "    return Dog()\n",
        "  def makeWings(self,dog:Dog):\n",
        "    print(\"dog wings added\")\n",
        "    return dog\n",
        "\n",
        "\n",
        "cat_factory = CatFactory()\n",
        "cat = cat_factory.createAnimal()\n",
        "print(f\"{cat_factory.catCount()} cats are created\")\n",
        "\n",
        "dog_manager = DogManager()\n",
        "dog = dog_manager.haveDog()\n",
        "wing_dog = dog_manager.makeWings(dog)"
      ],
      "metadata": {
        "colab": {
          "base_uri": "https://localhost:8080/"
        },
        "id": "3Lc_K8Sv7K_Y",
        "outputId": "7f63b0c3-b198-46a3-abd1-7725b94ecb3d"
      },
      "execution_count": null,
      "outputs": [
        {
          "output_type": "stream",
          "name": "stdout",
          "text": [
            "1 cats are created\n",
            "dog wings added\n"
          ]
        }
      ]
    },
    {
      "cell_type": "markdown",
      "source": [
        "### My code"
      ],
      "metadata": {
        "id": "jRUxVJE89fky"
      }
    },
    {
      "cell_type": "code",
      "source": [
        "class Drink():\n",
        "  def review(self):\n",
        "    pass\n",
        "\n",
        "class Coke(Drink):\n",
        "  def review(self):\n",
        "    print(\"톡 쏘는 탄산\")\n",
        "\n",
        "class Coffee(Drink):\n",
        "  def review(self):\n",
        "    print(\"좋은 커피향\")"
      ],
      "metadata": {
        "id": "Bsskzbwl_lat"
      },
      "execution_count": null,
      "outputs": []
    },
    {
      "cell_type": "code",
      "source": [
        "class DrinkMachine():  # DrinkMachine 클래스 생성\n",
        "  def createDrink(self): # createDrink라는 메서드 생성\n",
        "    pass\n",
        "\n",
        "class CokeMachine(DrinkMachine): # CokeMachine이라는 DrinkMachine을 상속 받은 클래스 생성\n",
        "  def __init__(self): # coke의 갯수를 넣는 매개변수 추가\n",
        "    self.coke_count = 0\n",
        "\n",
        "  def createDrink(self): # coke를 만들었을때 갯수를 추가하고 Coke 클래스에 리턴\n",
        "    self.coke_count += 1\n",
        "    return Coke()\n",
        "\n",
        "  def cokeCount(self): # coke의 갯수를 출력하는 cokeCount 메서드 생성\n",
        "    return f\"콜라 {self.coke_count}개 나왔습니다!\"\n",
        "\n",
        "class CoffeeMachine(DrinkMachine): # CoffeeMachine이라는 DrinkMachine을 상속 받은 클래스 생성\n",
        "  def __init__(self, name): # 커피의 종류가 다양하므로 이름을 받는 매개변수 추가\n",
        "    self.name = name\n",
        "    self.coffee = self.createDrink() # coffee에 createDrink 메서드를 호출하여 Coffee 클래스의 인스턴스를 생성하여 반환\n",
        "\n",
        "  def createDrink(self):\n",
        "    return Coffee()\n",
        "\n",
        "  def sumSyrup(self,coffee:Coffee): # Coffee 클래스를 입력받고, 입력받은 이름에 시럽을 추가했다는 메시지를 출력 후 coffee를 반환\n",
        "    print(f\"{self.name}에 시럽 추가했습니다\")\n",
        "    return coffee\n",
        "\n",
        "\n",
        "coke_machine = CokeMachine() # CokeMachine 객체 생성\n",
        "coke = coke_machine.createDrink() # coke 생성\n",
        "print(coke_machine.cokeCount()) # coke 갯수 출력\n",
        "\n",
        "coffee_machine = CoffeeMachine(\"카페라뗴\") # CoffeeMachine 객체 생성\n",
        "coffee = coffee_machine.createDrink() # coffee 생성\n",
        "syrup_coffee = coffee_machine.sumSyrup(coffee) # coffee에 시럽을 추가"
      ],
      "metadata": {
        "colab": {
          "base_uri": "https://localhost:8080/"
        },
        "id": "IT8Mo5E6AOcp",
        "outputId": "dccb8f52-e7a4-43a1-aa90-8b3aa375c096"
      },
      "execution_count": null,
      "outputs": [
        {
          "output_type": "stream",
          "name": "stdout",
          "text": [
            "콜라 1개 나왔습니다!\n",
            "카페라뗴에 시럽 추가했습니다\n"
          ]
        }
      ]
    },
    {
      "cell_type": "code",
      "source": [],
      "metadata": {
        "id": "-yiuuh8RDTyz"
      },
      "execution_count": null,
      "outputs": []
    },
    {
      "cell_type": "markdown",
      "source": [
        "## Abstract Factory Pattern"
      ],
      "metadata": {
        "id": "bOTAe-lEG54R"
      }
    },
    {
      "cell_type": "markdown",
      "source": [
        "### exam code"
      ],
      "metadata": {
        "id": "E9GpxPRYG54R"
      }
    },
    {
      "cell_type": "code",
      "source": [
        "#Button abstract(interface) and its implementations\n",
        "class Button:\n",
        "  def click(self):\n",
        "    pass\n",
        "\n",
        "class DarkButton(Button):\n",
        "  def click(self):\n",
        "    print(\"dark click\")\n",
        "\n",
        "class LightButton(Button):\n",
        "  def click(self):\n",
        "    print(\"light click\")\n"
      ],
      "metadata": {
        "id": "TqWVbvjIOJPt"
      },
      "execution_count": null,
      "outputs": []
    },
    {
      "cell_type": "code",
      "source": [
        "#Checkbox abstract(interface) and its implementations\n",
        "class CheckBox:\n",
        "  def check(self):\n",
        "    pass\n",
        "\n",
        "class DarkCheckBox(CheckBox):\n",
        "  def check(self):\n",
        "    print(\"dark check\")\n",
        "\n",
        "class LightCheckBox(CheckBox):\n",
        "  def check(self):\n",
        "    print(\"light check\")"
      ],
      "metadata": {
        "id": "ifWQzhAkOJPu"
      },
      "execution_count": null,
      "outputs": []
    },
    {
      "cell_type": "code",
      "source": [
        "#Scrollbar abstract(interface) and its implementations\n",
        "class ScrollBar:\n",
        "  def scroll(self):\n",
        "    pass\n",
        "\n",
        "class DarkScrollBar(ScrollBar):\n",
        "  def scroll(self):\n",
        "    print(\"dark scroll\")\n",
        "\n",
        "class LightScrollBar(ScrollBar):\n",
        "  def scroll(self):\n",
        "    print(\"light scroll\")"
      ],
      "metadata": {
        "id": "fkAJHHyJOJPu"
      },
      "execution_count": null,
      "outputs": []
    },
    {
      "cell_type": "code",
      "source": [
        "#UIFactory Abstract(interface) and its implementations\n",
        "class UIFactory:\n",
        "  def getButton(self):\n",
        "    pass\n",
        "\n",
        "  def getCheckBox(self):\n",
        "    pass\n",
        "\n",
        "  def getScrollBar(self):\n",
        "    pass\n",
        "\n",
        "class DarkUIFactory(UIFactory):\n",
        "  def getButton(self):\n",
        "    return DarkButton()\n",
        "\n",
        "  def getCheckBox(self):\n",
        "    return DarkCheckBox()\n",
        "\n",
        "  def getScrollBar(self):\n",
        "    return DarkScrollBar()\n",
        "\n",
        "class LightUIFactory(UIFactory):\n",
        "  def getButton(self):\n",
        "    return LightButton()\n",
        "\n",
        "  def getCheckBox(self):\n",
        "    return LightCheckBox()\n",
        "\n",
        "  def getScrollBar(self):\n",
        "    return LightScrollBar()"
      ],
      "metadata": {
        "id": "GTF-bTGyOJPu"
      },
      "execution_count": null,
      "outputs": []
    },
    {
      "cell_type": "code",
      "source": [
        "#get darkTheme UI components\n",
        "dark_factory = DarkUIFactory()\n",
        "dark_btn = dark_factory.getButton()\n",
        "dark_checkBx = dark_factory.getCheckBox()\n",
        "dark_scrollBar = dark_factory.getScrollBar()\n",
        "\n",
        "dark_btn.click()\n",
        "dark_checkBx.check()\n",
        "dark_scrollBar.scroll()"
      ],
      "metadata": {
        "colab": {
          "base_uri": "https://localhost:8080/"
        },
        "outputId": "f27f7330-6aeb-4f31-ad2f-a173f18a0818",
        "id": "IAexPsOJOJPu"
      },
      "execution_count": null,
      "outputs": [
        {
          "output_type": "stream",
          "name": "stdout",
          "text": [
            "dark click\n",
            "dark check\n",
            "dark scroll\n"
          ]
        }
      ]
    },
    {
      "cell_type": "code",
      "source": [
        "#get lightTheme UI components\n",
        "light_factory = LightUIFactory()\n",
        "light_btn = light_factory.getButton()\n",
        "light_checkBx = light_factory.getCheckBox()\n",
        "light_scrollBar = light_factory.getScrollBar()\n",
        "\n",
        "light_btn.click()\n",
        "light_checkBx.check()\n",
        "light_scrollBar.scroll()"
      ],
      "metadata": {
        "colab": {
          "base_uri": "https://localhost:8080/"
        },
        "outputId": "f9529620-eee2-4d8e-9106-9d5baa585d31",
        "id": "IqA2WU0POJPu"
      },
      "execution_count": null,
      "outputs": [
        {
          "output_type": "stream",
          "name": "stdout",
          "text": [
            "light click\n",
            "light check\n",
            "light scroll\n"
          ]
        }
      ]
    },
    {
      "cell_type": "markdown",
      "source": [
        "### My code"
      ],
      "metadata": {
        "id": "w5YJMJDrG54S"
      }
    },
    {
      "cell_type": "code",
      "source": [
        "class Laptop: # Laptop 클래스 생성\n",
        "  def start(self): # start 메서드 생성\n",
        "    pass\n",
        "\n",
        "class WindowLaptop(Laptop): # Laptop을 상속 받는다\n",
        "  def start(self):\n",
        "    print(\"Window\")\n",
        "\n",
        "class Macbook(Laptop):\n",
        "  def start(self):\n",
        "    print(\"Mac\")"
      ],
      "metadata": {
        "id": "bRRiUDuR_ySu"
      },
      "execution_count": null,
      "outputs": []
    },
    {
      "cell_type": "code",
      "source": [
        "class Phone: # Phone 클래스 생성\n",
        "  def start(self): # start 메서드 생성\n",
        "    pass\n",
        "\n",
        "class Android(Phone): # Phone을 상속 받는다\n",
        "  def start(self):\n",
        "    print(\"Android\")\n",
        "\n",
        "class IOS(Phone):\n",
        "  def start(self):\n",
        "    print(\"iOS\")"
      ],
      "metadata": {
        "id": "jEPUSu_P_2u2"
      },
      "execution_count": null,
      "outputs": []
    },
    {
      "cell_type": "code",
      "source": [
        "class Watch: # Watch 클래스 생성\n",
        "  def time(self): # time 메서드 생성\n",
        "    pass\n",
        "\n",
        "class GalxyWatch(Watch): # Watch를 상속 받는다\n",
        "  def time(self):\n",
        "    print(\"10:08\")\n",
        "\n",
        "class AppleWatch(Watch):\n",
        "  def time(self):\n",
        "    print(\"10:09\")"
      ],
      "metadata": {
        "id": "4w9L-4OP_3eQ"
      },
      "execution_count": null,
      "outputs": []
    },
    {
      "cell_type": "code",
      "source": [
        "class DigitalFactory: # DigitalFactory를 생성\n",
        "  def getLaptop(self): # laptop과 phone, watch를 가져오는 메서드 생성\n",
        "    pass\n",
        "\n",
        "  def getPhone(self):\n",
        "    pass\n",
        "\n",
        "  def getWatch(self):\n",
        "    pass\n",
        "\n",
        "class NotIOSIFactory(DigitalFactory): # iOS가 아닌 laptop과 phone, watch를 가져옴\n",
        "  def getLaptop(self):\n",
        "    return WindowLaptop()\n",
        "\n",
        "  def getPhone(self):\n",
        "    return Android()\n",
        "\n",
        "  def getWatch(self):\n",
        "    return GalxyWatch()\n",
        "\n",
        "class IOSFactory(DigitalFactory): # iOS의 laptop과 phone, watch를 가져옴\n",
        "  def getLaptop(self):\n",
        "    return Macbook()\n",
        "\n",
        "  def getPhone(self):\n",
        "    return IOS()\n",
        "\n",
        "  def getWatch(self):\n",
        "    return AppleWatch()"
      ],
      "metadata": {
        "id": "OAVqQCMq_7A5"
      },
      "execution_count": null,
      "outputs": []
    },
    {
      "cell_type": "code",
      "source": [
        "notIOS = NotIOSIFactory() # 객체 생성\n",
        "\n",
        "# get 메서드로 가져오기\n",
        "notios_laptop = notIOS.getLaptop()\n",
        "notios_phone = notIOS.getPhone()\n",
        "notios_watch = notIOS.getWatch()\n",
        "\n",
        "# 출력하기\n",
        "notios_laptop.start()\n",
        "notios_phone.start()\n",
        "notios_watch.time()"
      ],
      "metadata": {
        "colab": {
          "base_uri": "https://localhost:8080/"
        },
        "id": "BC0S2wsYAAom",
        "outputId": "f428206d-ac7a-4764-9d7e-fcbf072d69cc"
      },
      "execution_count": null,
      "outputs": [
        {
          "output_type": "stream",
          "name": "stdout",
          "text": [
            "Window\n",
            "Android\n",
            "10:08\n"
          ]
        }
      ]
    },
    {
      "cell_type": "code",
      "source": [
        "ios_factory = IOSFactory() # 객체 생성\n",
        "\n",
        "# get 메서드로 가져오기\n",
        "ios_laptop = ios_factory.getLaptop()\n",
        "ios_phone = ios_factory.getPhone()\n",
        "ios_watch = ios_factory.getWatch()\n",
        "\n",
        "# 출력하기\n",
        "ios_laptop.start()\n",
        "ios_phone.start()\n",
        "ios_watch.time()"
      ],
      "metadata": {
        "colab": {
          "base_uri": "https://localhost:8080/"
        },
        "id": "KERX-IxpAEIc",
        "outputId": "b571174e-ee2c-493c-cb44-3e47d89427f7"
      },
      "execution_count": null,
      "outputs": [
        {
          "output_type": "stream",
          "name": "stdout",
          "text": [
            "Mac\n",
            "iOS\n",
            "10:09\n"
          ]
        }
      ]
    },
    {
      "cell_type": "markdown",
      "source": [
        "## All Creational Patterns\n",
        "### 주제: 의류"
      ],
      "metadata": {
        "id": "JuzES-FeqLBI"
      }
    },
    {
      "cell_type": "markdown",
      "source": [
        "##### 기존 코드"
      ],
      "metadata": {
        "id": "RSs3iCKdO9AS"
      }
    },
    {
      "cell_type": "code",
      "source": [
        "from abc import ABC, abstractmethod\n",
        "import copy\n",
        "\n",
        "# ======================\n",
        "# 프로토타입\n",
        "# ======================\n",
        "class Clothes(ABC): # Clothes 클래스: 색상과 사이즈를 입력받고, 여름과 겨울을 구분하는 메서드가 존재함. 그리고 prototype 패턴에서 복사하기 위해 clone 메서드도 존재.\n",
        "    def __init__(self, color: str, size: int):\n",
        "        self.color = color\n",
        "        self.size = size\n",
        "\n",
        "    @abstractmethod\n",
        "    def isSummer(self) -> bool:\n",
        "        pass\n",
        "\n",
        "    @abstractmethod\n",
        "    def isWinter(self) -> bool:\n",
        "        pass\n",
        "\n",
        "    def clone(self):\n",
        "        return copy.deepcopy(self)\n",
        "\n",
        "class Top(Clothes): # 상의를 위한 클래스\n",
        "    pass\n",
        "\n",
        "class Bottom(Clothes): # 하의를 위한 클래스\n",
        "    pass\n",
        "\n",
        "class Outer(Clothes): # 아우터를 위한 클래스\n",
        "    pass\n",
        "\n",
        "# 상의를 상속받은 클래스.\n",
        "# summer일땐 true를 반환하고, winter일땐 false를 반환\n",
        "class TShirts(Top):\n",
        "    def isSummer(self): return True\n",
        "    def isWinter(self): return False\n",
        "\n",
        "# summer일땐 false를 반환하고, winter일땐 true를 반환\n",
        "class Sweater(Top):\n",
        "    def isSummer(self): return False\n",
        "    def isWinter(self): return True\n",
        "\n",
        "# 하의를 상속받은 클래스.\n",
        "# summer일땐 true를 반환하고, winter일땐 false를 반환\n",
        "class Shorts(Bottom):\n",
        "    def isSummer(self): return True\n",
        "    def isWinter(self): return False\n",
        "\n",
        "# summer일땐 false를 반환하고, winter일땐 true를 반환\n",
        "class Jeans(Bottom):\n",
        "    def isSummer(self): return False\n",
        "    def isWinter(self): return True\n",
        "\n",
        "\n",
        "# ======================\n",
        "# 추상화 팩토리\n",
        "# ======================\n",
        "class ClothesFactory(ABC):\n",
        "    @abstractmethod\n",
        "    def createTop(self) -> Top: # 상의를 생성하는 팩토리 클래스\n",
        "        pass\n",
        "\n",
        "    @abstractmethod\n",
        "    def createBottom(self) -> Bottom: # 하의를 생성하는 팩토리 클래스\n",
        "        pass\n",
        "\n",
        "\n",
        "class SummerClothesFactory(ClothesFactory): # 여름옷을 생성하는 팩토리\n",
        "    def createTop(self) -> Top: # 여름상의를 생성하는 메서드\n",
        "        return TShirts(\"흰색\", 95) # 티셔츠 클래스 반환\n",
        "\n",
        "    def createBottom(self) -> Bottom: # 여름하의를 생성하는 메서드\n",
        "        return Shorts(\"파란색\", 30) # 반바지 클래스 반환\n",
        "\n",
        "\n",
        "class WinterClothesFactory(ClothesFactory): # 겨울옷을 생성하는 팩토리\n",
        "    def createTop(self) -> Top:\n",
        "        return Sweater(\"black\", 100)\n",
        "\n",
        "    def createBottom(self) -> Bottom:\n",
        "        return Jeans(\"navy\", 32)\n",
        "\n",
        "\n",
        "# ======================\n",
        "# 빌더\n",
        "# ======================\n",
        "class ClothesBuilder:\n",
        "    def __init__(self, clothes_type):\n",
        "        self.clothes_type = clothes_type # clothes_type에는 생성할 클래스(TShirts, Sweater 등)를 전달\n",
        "        self.color = None\n",
        "        self.size = None\n",
        "\n",
        "    def setColor(self, color: str):\n",
        "        self.color = color\n",
        "        return self\n",
        "\n",
        "    def setSize(self, size: int):\n",
        "        self.size = size\n",
        "        return self\n",
        "\n",
        "    def build(self):\n",
        "        return self.clothes_type(self.color, self.size)\n",
        "\n",
        "\n",
        "# ======================\n",
        "# 싱글톤\n",
        "# ======================\n",
        "class ClothesFactoryProvider: # 하나의 인스턴스만 가지는 Provider\n",
        "    __instance = None\n",
        "\n",
        "    def __new__(cls):\n",
        "        if cls.__instance is None: # 인스턴스가 없을때 인스턴스를 새로 만들고 있다면 기존걸 리턴함\n",
        "            cls.__instance = super(ClothesFactoryProvider, cls).__new__(cls)\n",
        "        return cls.__instance\n",
        "\n",
        "    # getFactory(season)으로 계절에 맞는 팩토리 반환\n",
        "    def getFactory(self, season: str) -> ClothesFactory:\n",
        "        if season == \"여름\":\n",
        "            return SummerClothesFactory()\n",
        "        elif season == \"겨율\":\n",
        "            return WinterClothesFactory()\n",
        "        else:\n",
        "            raise ValueError(\"Invalid season\")\n",
        "\n",
        "\n",
        "# ======================\n",
        "# 클라이언트 코드\n",
        "# ======================\n",
        "if __name__ == \"__main__\":\n",
        "    provider = ClothesFactoryProvider()\n",
        "\n",
        "    # 추상화 팩토리 사용 예시\n",
        "    factory = provider.getFactory(\"여름\")\n",
        "    top = factory.createTop()\n",
        "    bottom = factory.createBottom()\n",
        "\n",
        "    # type(top).__name__: 생성된 객체의 클래스 이름(TShirts, Sweater 등)을 출력\n",
        "    print(f\"여름 상의: {type(top).__name__}, 색상: {top.color}, 사이즈: {top.size}\")\n",
        "    print(f\"여름 하의: {type(bottom).__name__}, 색상: {bottom.color}, 사이즈: {bottom.size}\")\n",
        "\n",
        "    # 빌더 사용 예시\n",
        "    builder = ClothesBuilder(TShirts)\n",
        "    tshirt = builder.setColor(\"빨강\").setSize(100).build()\n",
        "    print(f\"커스텀 티셔츠: 색상: {tshirt.color}, 사이즈: {tshirt.size}\")\n",
        "\n",
        "    # 프로토 타입 사용 예시\n",
        "    tshirt_clone = tshirt.clone()\n",
        "    print(f\"복사한 티셔츠: 색상: {tshirt_clone.color}, 사이즈: {tshirt_clone.size}\")"
      ],
      "metadata": {
        "id": "31rcGBgfqSW0",
        "colab": {
          "base_uri": "https://localhost:8080/"
        },
        "outputId": "0bdadb2e-688e-4f9c-e1df-0e49a63a7658"
      },
      "execution_count": null,
      "outputs": [
        {
          "output_type": "stream",
          "name": "stdout",
          "text": [
            "여름 상의: TShirts, 색상: 흰색, 사이즈: 95\n",
            "여름 하의: Shorts, 색상: 파란색, 사이즈: 30\n",
            "커스텀 티셔츠: 색상: 빨강, 사이즈: 100\n",
            "복사한 티셔츠: 색상: 빨강, 사이즈: 100\n"
          ]
        }
      ]
    },
    {
      "cell_type": "markdown",
      "source": [
        "#### 리팩토링하는 코드"
      ],
      "metadata": {
        "id": "An8aJVCIPBWq"
      }
    },
    {
      "cell_type": "code",
      "source": [
        "from abc import ABC, abstractmethod\n",
        "import copy\n",
        "\n",
        "# ======================\n",
        "# 프로토타입\n",
        "# ======================\n",
        "class Clothes(ABC): # Clothes 클래스: 색상과 사이즈를 입력받고, 여름과 겨울을 구분하는 메서드가 존재함. 그리고 prototype 패턴에서 복사하기 위해 clone 메서드도 존재.\n",
        "    def __init__(self, color: str, size: int):\n",
        "        self.color = color\n",
        "        self.size = size\n",
        "\n",
        "    @abstractmethod\n",
        "    def isSummer(self) -> bool:\n",
        "        pass\n",
        "\n",
        "    @abstractmethod\n",
        "    def isWinter(self) -> bool:\n",
        "        pass\n",
        "\n",
        "    def clone(self):\n",
        "        return copy.deepcopy(self)\n",
        "\n",
        "    def __str__(self):\n",
        "        return f\"{type(self).__name__} (색상: {self.color}, 사이즈: {self.size})\"\n",
        "\n",
        "class Top(Clothes): # 상의를 위한 클래스\n",
        "    pass\n",
        "\n",
        "class Bottom(Clothes): # 하의를 위한 클래스\n",
        "    pass\n",
        "\n",
        "class Outer(Clothes): # 아우터를 위한 클래스\n",
        "    pass\n",
        "\n",
        "# 상의를 상속받은 클래스.\n",
        "# summer일땐 true를 반환하고, winter일땐 false를 반환\n",
        "class TShirts(Top):\n",
        "    def isSummer(self): return True\n",
        "    def isWinter(self): return False\n",
        "\n",
        "# summer일땐 false를 반환하고, winter일땐 true를 반환\n",
        "class Sweater(Top):\n",
        "    def isSummer(self): return False\n",
        "    def isWinter(self): return True\n",
        "\n",
        "# 하의를 상속받은 클래스.\n",
        "# summer일땐 true를 반환하고, winter일땐 false를 반환\n",
        "class Shorts(Bottom):\n",
        "    def isSummer(self): return True\n",
        "    def isWinter(self): return False\n",
        "\n",
        "# summer일땐 false를 반환하고, winter일땐 true를 반환\n",
        "class Jeans(Bottom):\n",
        "    def isSummer(self): return False\n",
        "    def isWinter(self): return True"
      ],
      "metadata": {
        "id": "cC6OX0HUGtLM"
      },
      "execution_count": null,
      "outputs": []
    },
    {
      "cell_type": "code",
      "metadata": {
        "id": "1cf40d9f"
      },
      "source": [
        "# ======================\n",
        "# 추상화 팩토리\n",
        "# ======================\n",
        "from abc import ABC, abstractmethod\n",
        "\n",
        "class ClothesFactory(ABC):\n",
        "    @abstractmethod\n",
        "    def createTop(self) -> Top: # 상의를 생성하는 팩토리 클래스\n",
        "        pass\n",
        "\n",
        "    @abstractmethod\n",
        "    def createBottom(self) -> Bottom: # 하의를 생성하는 팩토리 클래스\n",
        "        pass\n",
        "\n",
        "\n",
        "class SummerClothesFactory(ClothesFactory): # 여름옷을 생성하는 팩토리\n",
        "    def createTop(self) -> Top: # 여름상의를 생성하는 메서드\n",
        "        return TShirts(\"흰색\", 95) # 티셔츠 클래스 반환\n",
        "\n",
        "    def createBottom(self) -> Bottom: # 여름하의를 생성하는 메서드\n",
        "        return Shorts(\"파란색\", 30) # 반바지 클래스 반환\n",
        "\n",
        "\n",
        "class WinterClothesFactory(ClothesFactory): # 겨울옷을 생성하는 팩토리\n",
        "    def createTop(self) -> Top:\n",
        "        return Sweater(\"검은색\", 100)\n",
        "\n",
        "    def createBottom(self) -> Bottom:\n",
        "        return Jeans(\"남색\", 32)"
      ],
      "execution_count": null,
      "outputs": []
    },
    {
      "cell_type": "code",
      "metadata": {
        "id": "fa9f35e4"
      },
      "source": [
        "# ======================\n",
        "# 옷 관리 및 액션 클래스\n",
        "# ======================\n",
        "class WardrobeManager:\n",
        "    def __init__(self):\n",
        "        self._wardrobe = []  # 옷 보관을 위한 리스트\n",
        "\n",
        "    def wear_clothes(self, clothes: Clothes):\n",
        "        \"\"\"옷을 입는 행동\"\"\"\n",
        "        print(f\"{clothes}을(를) 입습니다.\")\n",
        "\n",
        "    def store_clothes(self, clothes: Clothes):\n",
        "        \"\"\"옷을 보관하는 행동\"\"\"\n",
        "        self._wardrobe.append(clothes)\n",
        "        print(f\"{clothes}을(를) 옷장에 보관했습니다.\")\n",
        "\n",
        "    def show_wardrobe(self):\n",
        "        \"\"\"옷장 안의 옷 목록 출력\"\"\"\n",
        "        print(\"\\n옷장 안의 옷:\")\n",
        "        if not self._wardrobe:\n",
        "            print(\"옷장이 비어있습니다.\")\n",
        "        else:\n",
        "            for item in self._wardrobe:\n",
        "                print(f\"- {item}\")"
      ],
      "execution_count": null,
      "outputs": []
    },
    {
      "cell_type": "code",
      "metadata": {
        "id": "7b51ce4f"
      },
      "source": [
        "# ======================\n",
        "# 싱글톤\n",
        "# ======================\n",
        "from abc import ABC, abstractmethod\n",
        "\n",
        "class ClothesFactoryProvider: # 하나의 인스턴스만 가지는 Provider\n",
        "    __instance = None\n",
        "\n",
        "    def __new__(cls):\n",
        "        if cls.__instance is None: # 인스턴스가 없을때 인스턴스를 새로 만들고 있다면 기존걸 리턴함\n",
        "            cls.__instance = super(ClothesFactoryProvider, cls).__new__(cls)\n",
        "        return cls.__instance\n",
        "\n",
        "    # getFactory(season)으로 계절에 맞는 팩토리 반환\n",
        "    def getFactory(self, season: str) -> ClothesFactory:\n",
        "        if season == \"여름\":\n",
        "            return SummerClothesFactory()\n",
        "        elif season == \"겨율\":\n",
        "            return WinterClothesFactory()\n",
        "        else:\n",
        "            raise ValueError(\"Invalid season\")"
      ],
      "execution_count": null,
      "outputs": []
    },
    {
      "cell_type": "code",
      "source": [
        "# ======================\n",
        "# 빌더\n",
        "# ======================\n",
        "class ClothesBuilder:\n",
        "    def __init__(self, clothes_type):\n",
        "        self.clothes_type = clothes_type # clothes_type에는 생성할 클래스(TShirts, Sweater 등)를 전달\n",
        "        self.color = None\n",
        "        self.size = None\n",
        "\n",
        "    def setColor(self, color: str):\n",
        "        self.color = color\n",
        "        return self\n",
        "\n",
        "    def setSize(self, size: int):\n",
        "        self.size = size\n",
        "        return self\n",
        "\n",
        "    def build(self):\n",
        "        return self.clothes_type(self.color, self.size)"
      ],
      "metadata": {
        "id": "3ymX1AzVNPEj"
      },
      "execution_count": null,
      "outputs": []
    },
    {
      "cell_type": "code",
      "metadata": {
        "colab": {
          "base_uri": "https://localhost:8080/"
        },
        "id": "ff661763",
        "outputId": "b1694872-bc25-4f6b-d856-717a42bba905"
      },
      "source": [
        "# ======================\n",
        "# 클라이언트 코드\n",
        "# ======================\n",
        "if __name__ == \"__main__\":\n",
        "    factory_provider = ClothesFactoryProvider() # provier 객체 생성\n",
        "    wardrobe_manager = WardrobeManager() # WardrobeManager 객체 생성\n",
        "\n",
        "    # 추상화 팩토리 사용 예시\n",
        "    factory = factory_provider.getFactory(\"여름\")\n",
        "    top = factory.createTop()\n",
        "    bottom = factory.createBottom()\n",
        "\n",
        "    # type(top).__name__: 생성된 객체의 클래스 이름(TShirts, Sweater 등)을 출력\n",
        "    print(f\"여름 상의: {type(top).__name__}, 색상: {top.color}, 사이즈: {top.size}\")\n",
        "    print(f\"여름 하의: {type(bottom).__name__}, 색상: {bottom.color}, 사이즈: {bottom.size}\")\n",
        "\n",
        "    # 빌더 사용 예시\n",
        "    builder = ClothesBuilder(TShirts)\n",
        "    tshirt = builder.setColor(\"빨강\").setSize(100).build()\n",
        "    print(f\"커스텀 티셔츠: 색상: {tshirt.color}, 사이즈: {tshirt.size}\")\n",
        "\n",
        "    # 프로토 타입 사용 예시\n",
        "    tshirt_clone = tshirt.clone()\n",
        "    print(f\"복사한 티셔츠: 색상: {tshirt_clone.color}, 사이즈: {tshirt_clone.size}\")\n",
        "\n",
        "\n",
        "    print(\"\\n옷 작업 선택:\")\n",
        "\n",
        "    def choose_action(item: Clothes):\n",
        "        \"\"\"사용자에게 옷 작업 선택을 요청 (간단한 시뮬레이션)\"\"\"\n",
        "        action = input(f\"'{item}'을(를) 어떻게 하시겠습니까? (입기/보관): \").lower()\n",
        "        if action == \"입기\":\n",
        "            wardrobe_manager.wear_clothes(item) # WardrobeManager의 wear_clothes 사용\n",
        "        elif action == \"보관\":\n",
        "            wardrobe_manager.store_clothes(item) # WardrobeManager의 store_clothes 사용\n",
        "        else:\n",
        "            print(\"잘못된 선택입니다.\")\n",
        "\n",
        "    # 옷 작업 선택 예시\n",
        "    choose_action(top)\n",
        "    choose_action(bottom)\n",
        "    choose_action(tshirt)\n",
        "\n",
        "    wardrobe_manager.show_wardrobe() # WardrobeManager의 show_wardrobe 사용"
      ],
      "execution_count": null,
      "outputs": [
        {
          "output_type": "stream",
          "name": "stdout",
          "text": [
            "여름 상의: TShirts, 색상: 흰색, 사이즈: 95\n",
            "여름 하의: Shorts, 색상: 파란색, 사이즈: 30\n",
            "커스텀 티셔츠: 색상: 빨강, 사이즈: 100\n",
            "복사한 티셔츠: 색상: 빨강, 사이즈: 100\n",
            "\n",
            "옷 작업 선택:\n",
            "'TShirts (색상: 흰색, 사이즈: 95)'을(를) 어떻게 하시겠습니까? (입기/보관): 입기\n",
            "TShirts (색상: 흰색, 사이즈: 95)을(를) 입습니다.\n",
            "'Shorts (색상: 파란색, 사이즈: 30)'을(를) 어떻게 하시겠습니까? (입기/보관): 보관\n",
            "Shorts (색상: 파란색, 사이즈: 30)을(를) 옷장에 보관했습니다.\n",
            "'TShirts (색상: 빨강, 사이즈: 100)'을(를) 어떻게 하시겠습니까? (입기/보관): 보관\n",
            "TShirts (색상: 빨강, 사이즈: 100)을(를) 옷장에 보관했습니다.\n",
            "\n",
            "옷장 안의 옷:\n",
            "- Shorts (색상: 파란색, 사이즈: 30)\n",
            "- TShirts (색상: 빨강, 사이즈: 100)\n"
          ]
        }
      ]
    },
    {
      "cell_type": "markdown",
      "source": [
        "## Structual Patterns"
      ],
      "metadata": {
        "id": "2y1UhKzUMV2Y"
      }
    },
    {
      "cell_type": "markdown",
      "source": [
        "### Adpater Pattern\n"
      ],
      "metadata": {
        "id": "f03h_TG0S5Ws"
      }
    },
    {
      "cell_type": "markdown",
      "source": [
        "#### 결제 시스템"
      ],
      "metadata": {
        "id": "ZtkhRYZyTZcR"
      }
    },
    {
      "cell_type": "code",
      "source": [
        "from abc import ABC, abstractmethod\n",
        "\n",
        "class PaymentProcessor(ABC):\n",
        "  def pay(self, amount):\n",
        "    pass\n",
        "\n",
        "class CreditCardPayment(PaymentProcessor):\n",
        "  def __init__(self, card_number, card_password):\n",
        "    self.card_number = card_number\n",
        "    self.card_password = card_password\n",
        "\n",
        "  def pay(self, amount):\n",
        "    print(f\"카드로 {amount}원을 결제하겠습니다. 카드번호: {self.card_number}\")\n",
        "\n",
        "class KakaoPay:\n",
        "  def __init__(self, user_id, password):\n",
        "    self.user_id = user_id\n",
        "    self.password = password\n",
        "\n",
        "  def login_and_pay(self, amount):\n",
        "    print(f\"카카오페이로 {amount}원을 결제하겠습니다.\")\n",
        "\n",
        "class TossPay:\n",
        "  def __init__(self, user_id, password):\n",
        "    self.user_id = user_id\n",
        "    self.password = password\n",
        "\n",
        "  def login_and_pay(self, amount):\n",
        "    print(f\"토스페이로 {amount}원을 결제하겠습니다.\")\n",
        "\n",
        "class NaverPay:\n",
        "  def __init__(self, user_id, password):\n",
        "    self.user_id = user_id\n",
        "    self.password = password\n",
        "\n",
        "  def login_and_pay(self, amount):\n",
        "    print(f\"네이버페이로 {amount}원을 결제하겠습니다.\")\n",
        "\n",
        "class SimplePayAdapter(PaymentProcessor):\n",
        "  def __init__(self, simple_pay):\n",
        "    self.simple_pay = simple_pay\n",
        "\n",
        "  def pay(self, amount):\n",
        "    self.simple_pay.login_and_pay(amount)\n",
        "\n",
        "\n",
        "cardpay = CreditCardPayment(\"1234-5678-9012-3456\", \"1234\")\n",
        "cardpay.pay(1000)\n",
        "\n",
        "kakao = KakaoPay(\"user123\", \"password456\")\n",
        "kakaopay = SimplePayAdapter(kakao)\n",
        "kakaopay.pay(2000)"
      ],
      "metadata": {
        "colab": {
          "base_uri": "https://localhost:8080/"
        },
        "id": "flZjqfBtTdWa",
        "outputId": "58942556-17fe-425d-b721-0cc2d1931138"
      },
      "execution_count": 3,
      "outputs": [
        {
          "output_type": "stream",
          "name": "stdout",
          "text": [
            "카드로 1000원을 결제하겠습니다. 카드번호: 1234-5678-9012-3456\n",
            "카카오페이로 2000원을 결제하겠습니다.\n"
          ]
        }
      ]
    },
    {
      "cell_type": "code",
      "source": [
        "from abc import ABC, abstractmethod\n",
        "\n",
        "class MediaPlayer(ABC):\n",
        "    @abstractmethod\n",
        "    def play(self, audio_type: str, filename: str):\n",
        "        pass\n",
        "\n",
        "class Mp4Player: # mp4만 지원하는 클래스\n",
        "    def play_mp4(self, filename: str):\n",
        "        print(f\"Mp4Player: Playing mp4 file {filename}\")\n",
        "\n",
        "class VlcPlayer: # vlc만 지원하는 클래스\n",
        "    def play_vlc(self, filename: str):\n",
        "        print(f\"VlcPlayer: Playing vlc file {filename}\")\n",
        "\n",
        "class WavPlayer: # wav만 지원하는 클래스\n",
        "    def play_wav(self, filename: str):\n",
        "        print(f\"WavPlayer: Playing wav file {filename}\")\n",
        "\n",
        "class MediaAdapter: # 어댑터 클래스 생성\n",
        "    def __init__(self, audio_type: str):\n",
        "        self.audio_type = audio_type.lower()\n",
        "        # audio 타입에 따라 각각의 클래스 호츌\n",
        "        if self.audio_type == \"mp4\":\n",
        "            self.player = Mp4Player()\n",
        "        elif self.audio_type == \"vlc\":\n",
        "            self.player = VlcPlayer()\n",
        "        elif self.audio_type == \"wav\":\n",
        "            self.player = WavPlayer()\n",
        "        else:\n",
        "            self.player = None\n",
        "\n",
        "    # audio 타입에 따른 클래스 내의 play 메서드 호출\n",
        "    def play(self, audio_type: str, filename: str):\n",
        "        if self.audio_type == \"mp4\":\n",
        "            self.player.play_mp4(filename)\n",
        "        elif self.audio_type == \"vlc\":\n",
        "            self.player.play_vlc(filename)\n",
        "        elif self.audio_type == \"wav\":\n",
        "            self.player.play_wav(filename)\n",
        "\n",
        "class AudioPlayer(MediaPlayer):\n",
        "    def play(self, audio_type: str, filename: str):\n",
        "        audio_type = audio_type.lower()\n",
        "\n",
        "        # 기본적으로 지원하는 mp3일떄\n",
        "        if audio_type == \"mp3\":\n",
        "            print(f\"AudioPlayer: Playing mp3 file {filename}\")\n",
        "\n",
        "        # 어댑터를 통한 다른 타입 지원\n",
        "        elif audio_type in [\"mp4\", \"vlc\", \"wav\"]:\n",
        "            adapter = MediaAdapter(audio_type)\n",
        "            adapter.play(audio_type, filename)\n",
        "\n",
        "        # 그 외 타입일 떄\n",
        "        else:\n",
        "            print(f\"AudioPlayer: {audio_type} format not supported\")\n",
        "\n",
        "if __name__ == \"__main__\":\n",
        "    player = AudioPlayer()\n",
        "\n",
        "    # 기본 지원 타입\n",
        "    player.play(\"mp3\", \"song.mp3\")\n",
        "\n",
        "    # 어댑터를 통한 다른 타입들\n",
        "    player.play(\"mp4\", \"movie.mp4\")\n",
        "    player.play(\"vlc\", \"video.vlc\")\n",
        "    player.play(\"wav\", \"audio.wav\")\n",
        "\n",
        "    # 지원하지 않는 타입\n",
        "    player.play(\"avi\", \"video.avi\")"
      ],
      "metadata": {
        "colab": {
          "base_uri": "https://localhost:8080/"
        },
        "id": "L_NEq2hRS5Jz",
        "outputId": "58806a03-6a9c-46ea-a037-1a12514f88e8"
      },
      "execution_count": null,
      "outputs": [
        {
          "output_type": "stream",
          "name": "stdout",
          "text": [
            "AudioPlayer: Playing mp3 file song.mp3\n",
            "Mp4Player: Playing mp4 file movie.mp4\n",
            "VlcPlayer: Playing vlc file video.vlc\n",
            "WavPlayer: Playing wav file audio.wav\n",
            "AudioPlayer: avi format not supported\n"
          ]
        }
      ]
    },
    {
      "cell_type": "markdown",
      "source": [
        "### Proxy Pattern\n",
        "- 이미지 로딩"
      ],
      "metadata": {
        "id": "Ekl53gxITApW"
      }
    },
    {
      "cell_type": "code",
      "source": [
        "from abc import ABC, abstractmethod\n",
        "import time\n",
        "\n",
        "class Image(ABC):\n",
        "    @abstractmethod\n",
        "    def display(self):\n",
        "        pass\n",
        "\n",
        "class RealImage(Image): # 실제 이미지 객체\n",
        "    def __init__(self, filename: str):\n",
        "        self.filename = filename\n",
        "        self.load_image()\n",
        "\n",
        "    def load_image(self): # 이미지 불러오는 메서드\n",
        "        print(f\"[RealImage] {self.filename} 로딩 중...\")\n",
        "        time.sleep(1)  # 로딩 시간 시뮬레이션\n",
        "        print(f\"[RealImage] {self.filename} 로딩 완료\")\n",
        "\n",
        "    def display(self): # 이미지 보여주는 메서드\n",
        "        print(f\"[RealImage] {self.filename} 화면에 표시\")\n",
        "\n",
        "class ImageProxy(Image): # 프록시 객체\n",
        "    def __init__(self, filename: str):\n",
        "        self.filename = filename\n",
        "        self.real_image = None\n",
        "\n",
        "    def display(self): # 이미지를 보여주는 메서드\n",
        "        if self.real_image is None:\n",
        "            # 로딩된 이미지가 없을 때 실제 이미지 로딩.\n",
        "            self.real_image = RealImage(self.filename)\n",
        "        else: # 있다면 저장해둔 이미지 보여주기\n",
        "            print(f\"[Proxy] {self.filename} 이미 캐시됨\")\n",
        "        self.real_image.display()\n",
        "\n",
        "if __name__ == \"__main__\":\n",
        "    image1 = ImageProxy(\"cat.png\")\n",
        "    image2 = ImageProxy(\"dzog.png\")\n",
        "\n",
        "    image1.display()  # 처음 호출 → 실제 로딩\n",
        "    image1.display()  # 두번째 호출 → 캐시 사용\n",
        "\n",
        "    print(\"\")\n",
        "\n",
        "    image2.display()  # 처음 호출 → 실제 로딩\n",
        "    image2.display()  # 두번째 호출 → 캐시 사용"
      ],
      "metadata": {
        "colab": {
          "base_uri": "https://localhost:8080/"
        },
        "id": "Ehb2U8zjTFZJ",
        "outputId": "786cd8c9-369b-47d1-eb68-4ad1c6c0a7b8"
      },
      "execution_count": null,
      "outputs": [
        {
          "output_type": "stream",
          "name": "stdout",
          "text": [
            "[RealImage] cat.png 로딩 중...\n",
            "[RealImage] cat.png 로딩 완료\n",
            "[RealImage] cat.png 화면에 표시\n",
            "[Proxy] cat.png 이미 캐시됨\n",
            "[RealImage] cat.png 화면에 표시\n",
            "\n",
            "[RealImage] dog.png 로딩 중...\n",
            "[RealImage] dog.png 로딩 완료\n",
            "[RealImage] dog.png 화면에 표시\n",
            "[Proxy] dog.png 이미 캐시됨\n",
            "[RealImage] dog.png 화면에 표시\n"
          ]
        }
      ]
    },
    {
      "cell_type": "markdown",
      "source": [
        "### Facade Pattern\n",
        "- 컴퓨터 부팅 과정"
      ],
      "metadata": {
        "id": "PP7ovL_1TFm7"
      }
    },
    {
      "cell_type": "code",
      "source": [
        "class Cpu: # CPU 클래스 생성\n",
        "  def power(self): # 전원 공급받기\n",
        "    print(\"power on\")\n",
        "\n",
        "  def readRom(self): # rom 읽기\n",
        "    print(\"read rom\")\n",
        "\n",
        "  def start(self): # cpu 준비완료\n",
        "    print(\"cpu ready\")\n",
        "\n",
        "class Memory:\n",
        "  def hardwareCheck(self): # 하드웨어 확인\n",
        "    print(\"hardware check\")\n",
        "\n",
        "  def loadOs(self): # OS 불러오기\n",
        "    print(\"load OS\")\n",
        "\n",
        "  def start(self): # memory 준비완료\n",
        "    print(\"memory ready\")\n",
        "\n",
        "class Disk:\n",
        "  def readMbr(self): # MBR 읽기\n",
        "    print(\"read MBR\")\n",
        "\n",
        "  def startBootcode(self): # Bootcode 실행\n",
        "    print(\"find Partition\")\n",
        "\n",
        "  def start(self):\n",
        "    print(\"disk ready\") # disk 준비 완료\n",
        "\n",
        "class ComputerFacade:\n",
        "  def __init__(self): # CPU, Memory, Disk 가져오기\n",
        "    self.cpu = Cpu()\n",
        "    self.memory = Memory()\n",
        "    self.disk = Disk()\n",
        "\n",
        "  def start(self): # 컴퓨터 시작하는 메서드\n",
        "    print(\"컴퓨터 전원을 키는중..\")\n",
        "    print(\"\")\n",
        "\n",
        "    # cpu 관련\n",
        "    self.cpu.power()\n",
        "    self.cpu.readRom()\n",
        "    self.cpu.start()\n",
        "\n",
        "    print(\"\")\n",
        "\n",
        "    # memory 관련\n",
        "    self.memory.hardwareCheck()\n",
        "    self.memory.loadOs()\n",
        "    self.memory.start()\n",
        "\n",
        "    print(\"\")\n",
        "\n",
        "    # disk 관련\n",
        "    self.disk.readMbr()\n",
        "    self.disk.startBootcode()\n",
        "    self.disk.start()\n",
        "\n",
        "    print(\"\")\n",
        "\n",
        "    print(\"컴퓨터가 시작되었습니다.\")"
      ],
      "metadata": {
        "id": "GvJthLhgTI8Z"
      },
      "execution_count": 29,
      "outputs": []
    },
    {
      "cell_type": "code",
      "source": [
        "# 컴퓨터 객체 생성\n",
        "computer = ComputerFacade()\n",
        "\n",
        "# 컴퓨터 시작\n",
        "computer.start()"
      ],
      "metadata": {
        "colab": {
          "base_uri": "https://localhost:8080/"
        },
        "id": "bGZ-lX5tcWur",
        "outputId": "a2d2fb34-81e2-4618-9d33-510ea3d58c41"
      },
      "execution_count": 30,
      "outputs": [
        {
          "output_type": "stream",
          "name": "stdout",
          "text": [
            "컴퓨터 전원을 키는중..\n",
            "\n",
            "power on\n",
            "read rom\n",
            "cpu ready\n",
            "\n",
            "hardware check\n",
            "load OS\n",
            "memory ready\n",
            "\n",
            "read MBR\n",
            "find Partition\n",
            "disk ready\n",
            "\n",
            "컴퓨터가 시작되었습니다.\n"
          ]
        }
      ]
    },
    {
      "cell_type": "markdown",
      "source": [
        "### Decorator Pattern\n",
        "- 책상 꾸미기"
      ],
      "metadata": {
        "id": "VM8dQUy3TJJz"
      }
    },
    {
      "cell_type": "code",
      "source": [
        "from abc import ABC, abstractmethod\n",
        "\n",
        "class Desk(ABC):  # Desk - 추상 클래스\n",
        "    @abstractmethod\n",
        "    def info(self):\n",
        "      pass\n",
        "\n",
        "class EmptyDesk(Desk):  # 빈 데스크\n",
        "    def info(self):\n",
        "        print(\"비어있는 책상: \", end=\"\")\n",
        "\n",
        "class BasicDesk(Desk):  # 기본 데스크\n",
        "    def info(self):\n",
        "        print(\"기본 책상: 컴퓨터\", end=\"\")\n",
        "# -------------------\n",
        "# Decorator Pattern\n",
        "# -------------------\n",
        "\n",
        "class DeskDecorator(Desk):  # Decorator - 추상 데코레이터\n",
        "    def __init__(self, desk: Desk):\n",
        "        self.desk = desk\n",
        "\n",
        "    def info(self):\n",
        "        self.desk.info()\n",
        "\n",
        "# 구체적인 데코레이터들\n",
        "class MonitorDecorator(DeskDecorator):\n",
        "    def info(self):\n",
        "        self.desk.info()\n",
        "        print(\" & 모니터\", end=\"\")\n",
        "\n",
        "class KeyboardDecorator(DeskDecorator):\n",
        "    def info(self):\n",
        "        self.desk.info()\n",
        "        print(\" & 키보드\", end=\"\")\n",
        "\n",
        "class MouseDecorator(DeskDecorator):\n",
        "    def info(self):\n",
        "        self.desk.info()\n",
        "        print(\" & 마우스\", end=\"\")\n",
        "\n",
        "class SpeakerDecorator(DeskDecorator):\n",
        "    def info(self):\n",
        "        self.desk.info()\n",
        "        print(\" & 스피커\", end=\"\")\n",
        "\n",
        "def makeMyDesk(desk: Desk):\n",
        "    desk.info()\n",
        "    print(\"\")\n",
        "\n",
        "# 베이직 데스크\n",
        "myDesk = BasicDesk()\n",
        "makeMyDesk(myDesk)\n",
        "\n",
        "# 비어있는 데스크\n",
        "emptyDesk = EmptyDesk()\n",
        "makeMyDesk(emptyDesk)\n",
        "\n",
        "# 데코레이터 체이닝\n",
        "newDesk = EmptyDesk()\n",
        "\n",
        "newDesk = KeyboardDecorator(newDesk)\n",
        "makeMyDesk(newDesk)\n",
        "\n",
        "newDesk = MouseDecorator(newDesk)\n",
        "makeMyDesk(newDesk)\n",
        "\n",
        "\n",
        "officeDesk = BasicDesk()\n",
        "\n",
        "officeDesk = MonitorDecorator(officeDesk)\n",
        "makeMyDesk(officeDesk)\n",
        "\n",
        "officeDesk = SpeakerDecorator(officeDesk)\n",
        "makeMyDesk(officeDesk)"
      ],
      "metadata": {
        "colab": {
          "base_uri": "https://localhost:8080/"
        },
        "id": "-6s_y_8ETMSb",
        "outputId": "28b2620c-39ed-4b3b-f5eb-3e4eded9812f"
      },
      "execution_count": 22,
      "outputs": [
        {
          "output_type": "stream",
          "name": "stdout",
          "text": [
            "기본 책상: 컴퓨터\n",
            "비어있는 책상: \n",
            "비어있는 책상:  & 키보드\n",
            "비어있는 책상:  & 키보드 & 마우스\n",
            "기본 책상: 컴퓨터 & 모니터\n",
            "기본 책상: 컴퓨터 & 모니터 & 스피커\n"
          ]
        }
      ]
    },
    {
      "cell_type": "markdown",
      "source": [
        "### 모든 패턴을 적용한 코드\n",
        "- 온라인 멀티미디어 플레이어 시스템"
      ],
      "metadata": {
        "id": "XpYsd0ynYw9x"
      }
    },
    {
      "cell_type": "code",
      "source": [
        "class RealMediaPlayer: # Abstract class 생성\n",
        "    def __init__(self, audio_type: str, file: str):\n",
        "        self.audio_type = audio_type.lower()\n",
        "        self.file = file\n",
        "\n",
        "    def play(self):\n",
        "        pass\n",
        "\n",
        "\n",
        "class PlayMp3(RealMediaPlayer): # RealMediaPlayer를 상속 받음\n",
        "    def __init__(self, audio_type: str, file: str):\n",
        "        super().__init__(audio_type, file)\n",
        "\n",
        "    def play_mp3(self, file: str): # mp3파일 실행시키는 메서드\n",
        "        print(f\"Mp3Player: {file} 재생 중...\")\n",
        "\n",
        "\n",
        "class PlayMp4(RealMediaPlayer):\n",
        "    def __init__(self, audio_type: str, file: str):\n",
        "        super().__init__(audio_type, file)\n",
        "\n",
        "    def play_mp4(self, file: str):\n",
        "        print(f\"Mp4Player: {file} 재생 중...\")\n",
        "\n",
        "\n",
        "# ============================\n",
        "# Adapter Pattern\n",
        "# ============================\n",
        "class MediaPlayerAdapter: # Adapter class 생성\n",
        "    def __init__(self, audio_type: str):\n",
        "        self.audio_type = audio_type.lower()\n",
        "        self.player = None\n",
        "\n",
        "    def play(self, file: str): # audio_type에 따라 player를 생성하고, play까지 함\n",
        "        if self.audio_type == \"mp3\":\n",
        "            if self.player is None:\n",
        "                self.player = PlayMp3(self.audio_type, file)\n",
        "            self.player.play_mp3(file)\n",
        "        elif self.audio_type == \"mp4\":\n",
        "            if self.player is None:\n",
        "                self.player = PlayMp4(self.audio_type, file)\n",
        "            self.player.play_mp4(file)\n",
        "        else:\n",
        "            print(f\"지원하지 않는 형식: {self.audio_type}\")\n",
        "\n",
        "\n",
        "# ============================\n",
        "# Proxy Pattern\n",
        "# ============================\n",
        "class MediaProxy:\n",
        "    def __init__(self, audio_type: str, file: str):\n",
        "        self.adapter = None\n",
        "        self.audio_type = audio_type\n",
        "        self.file = file\n",
        "\n",
        "    def play(self):\n",
        "        if self.adapter is None:  # 실제 객체를 처음 접근할 때 생성\n",
        "            print(\"미디어 파일 로딩 중...\")\n",
        "            self.adapter = MediaPlayerAdapter(self.audio_type)\n",
        "        self.adapter.play(self.file)\n",
        "\n",
        "\n",
        "# ============================\n",
        "# Facade Pattern\n",
        "# ============================\n",
        "class MediaFacade:\n",
        "    def __init__(self, audio_type: str, file: str):\n",
        "        self.media = MediaProxy(audio_type, file)\n",
        "\n",
        "    def play_media(self): # 미디어 시작\n",
        "        self.media.play()\n",
        "\n",
        "    def pause(self): # 미디어 일시정지\n",
        "        print(\"미디어 일시정지\")\n",
        "\n",
        "    def stop(self): # 미디어 정지\n",
        "        print(\"미디어 정지\")\n",
        "\n",
        "    def set_volume(self, level: int): # 볼륨 설정\n",
        "        print(f\"볼륨을 {level}으로 설정\")\n",
        "\n",
        "\n",
        "# ============================\n",
        "# Decorater Pattern\n",
        "# ============================\n",
        "class MediaDecorator:\n",
        "    def __init__(self, media):\n",
        "        self.media = media\n",
        "\n",
        "    def play(self):\n",
        "        self.media.play()\n",
        "\n",
        "\n",
        "class SubtitlesDecorator(MediaDecorator):\n",
        "    def play(self): # 자막 표시하는 메서드\n",
        "        self.media.play()\n",
        "        print(\"자막 표시 중...\")\n",
        "\n",
        "\n",
        "class RepeatDecorator(MediaDecorator):\n",
        "    def play(self): # 반복 재생하는 메서드\n",
        "        self.media.play()\n",
        "        print(\"재생 반복 중...\")"
      ],
      "metadata": {
        "id": "XwRW4GmUY2Yk"
      },
      "execution_count": null,
      "outputs": []
    },
    {
      "cell_type": "code",
      "source": [
        "facade = MediaFacade(\"mp3\", \"song.mp3\")\n",
        "facade.set_volume(50)\n",
        "facade.play_media()\n",
        "facade.set_volume(10)\n",
        "facade.pause()\n",
        "facade.stop()\n",
        "\n",
        "# Decorator 적용\n",
        "decorated_media = RepeatDecorator(SubtitlesDecorator(facade.media))\n",
        "decorated_media.play()"
      ],
      "metadata": {
        "colab": {
          "base_uri": "https://localhost:8080/"
        },
        "id": "oFJWcIRWbtv1",
        "outputId": "933ea171-710d-40e4-9d4d-ff47d8bbb157"
      },
      "execution_count": null,
      "outputs": [
        {
          "output_type": "stream",
          "name": "stdout",
          "text": [
            "볼륨을 50으로 설정\n",
            "미디어 파일 로딩 중...\n",
            "Mp3Player: song.mp3 재생 중...\n",
            "볼륨을 10으로 설정\n",
            "미디어 일시정지\n",
            "미디어 정지\n",
            "Mp3Player: song.mp3 재생 중...\n",
            "자막 표시 중...\n",
            "재생 반복 중...\n"
          ]
        }
      ]
    }
  ]
}