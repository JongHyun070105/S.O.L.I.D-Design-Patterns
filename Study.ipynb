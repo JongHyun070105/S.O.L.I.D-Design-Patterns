{
  "nbformat": 4,
  "nbformat_minor": 0,
  "metadata": {
    "colab": {
      "provenance": [],
      "collapsed_sections": [
        "p3YhNY6xkNEY"
      ],
      "authorship_tag": "ABX9TyNjOKEa5bjf511HBXQF15uj",
      "include_colab_link": true
    },
    "kernelspec": {
      "name": "python3",
      "display_name": "Python 3"
    },
    "language_info": {
      "name": "python"
    }
  },
  "cells": [
    {
      "cell_type": "markdown",
      "metadata": {
        "id": "view-in-github",
        "colab_type": "text"
      },
      "source": [
        "<a href=\"https://colab.research.google.com/github/JongHyun070105/S.O.L.I.D-Design-Patterns/blob/main/Study.ipynb\" target=\"_parent\"><img src=\"https://colab.research.google.com/assets/colab-badge.svg\" alt=\"Open In Colab\"/></a>"
      ]
    },
    {
      "cell_type": "markdown",
      "source": [
        "# SOLID"
      ],
      "metadata": {
        "id": "MZO35zWRerdX"
      }
    },
    {
      "cell_type": "markdown",
      "source": [
        "## SRP(Single Responsibility Principle, 단일 책임 원칙)\n",
        "- 모든 클래스는 단 하나의 책임(기능)을 가져야 함.\n",
        "\n",
        "### exma code\n",
        "```\n",
        "from datetime import datetime\n",
        "import logging\n",
        "\n",
        "class Cat:\n",
        "  def __init__(self,age,name):\n",
        "    self.age = age\n",
        "    self.name = name\n",
        "\n",
        "  def eat(self):\n",
        "    print(\"eating..\")\n",
        "\n",
        "  def walk(self):\n",
        "    print(\"walking..\")\n",
        "\n",
        "  def speak(self):\n",
        "    print(\"meow~\")\n",
        "\n",
        "  def print(self):\n",
        "    print(f\"name:{self.name}, age:{self.age}\")\n",
        "\n",
        "  def log(self,logger):\n",
        "    logger.info(f\"name:{self.name}, age:{self.age}\")\n",
        "    logger.info(datetime.now())\n",
        "\n",
        "\n",
        "kitty = Cat(3,\"kitty\")\n",
        "kitty.eat()\n",
        "kitty.walk()\n",
        "kitty.speak()\n",
        "kitty.print()\n",
        "\n",
        "# 콘솔 출력\n",
        "logger = logging.getLogger(\"mylog\")\n",
        "logger.setLevel(logging.DEBUG)\n",
        "\n",
        "kitty.log(logger)\n",
        "```"
      ],
      "metadata": {
        "id": "zhiJ2OvDj-SR"
      }
    },
    {
      "cell_type": "code",
      "source": [
        "class Human: # class 선언\n",
        "  def __init__(self, name, age, gender, ):\n",
        "    # 이름\n",
        "    self.name = name\n",
        "\n",
        "    # 나이\n",
        "    self.age = age\n",
        "\n",
        "    # 성별\n",
        "    self.gender = gender\n",
        "\n",
        "  def sing(self):\n",
        "    print(f\"{self.name}이 노래를 부른다\")\n",
        "\n",
        "  def dance(self):\n",
        "    print(f\"{self.name}이 춤을 춘다\")\n",
        "\n",
        "  def study(self):\n",
        "    print(f\"{self.name}이 공부를 한다\")\n",
        "\n",
        "  # 정보 출력하는 메서드\n",
        "  def info(self):\n",
        "    print(f\"{self.name}은/는 {self.gender}이고, 나이는 {self.age}살이다.\")\n",
        "\n",
        "# human1이라는 Human 객체 생성\n",
        "human1 = Human(\"구자욱\", 31, \"남성\")\n",
        "\n",
        "# human1의 행동 출력\n",
        "human1.sing()\n",
        "human1.dance()\n",
        "human1.study()\n",
        "\n",
        "\n",
        "# human1 정보 출력\n",
        "human1.info()"
      ],
      "metadata": {
        "colab": {
          "base_uri": "https://localhost:8080/"
        },
        "id": "h4lC9UPrvOqi",
        "outputId": "ea4cd784-a229-42de-f7ab-1ceb65f44aa9"
      },
      "execution_count": null,
      "outputs": [
        {
          "output_type": "stream",
          "name": "stdout",
          "text": [
            "구자욱이 노래를 부른다\n",
            "구자욱이 춤을 춘다\n",
            "구자욱이 공부를 한다\n",
            "구자욱은/는 남성이고, 나이는 31살이다.\n"
          ]
        }
      ]
    },
    {
      "cell_type": "markdown",
      "source": [
        "## OCP(Open-Closed Principle, 개방-폐쇄 원칙)\n",
        "- 클래스는 확장에 대해서는 열려 있어야 하고, 기존 코드 변경에는 닫혀 있어야 한다.\n",
        "### exam code\n",
        "```\n",
        "class Animal:\n",
        "  def speak(self):  #interface method\n",
        "    pass\n",
        "\n",
        "class Cat(Animal):\n",
        "  def speak(self):\n",
        "    print(\"meow\")\n",
        "\n",
        "class Dog(Animal):\n",
        "  def speak(self):\n",
        "    print(\"bark\")\n",
        "\n",
        "class Sheep(Animal):\n",
        "  def speak(self):\n",
        "    print(\"meh\")\n",
        "\n",
        "class Cow(Animal):\n",
        "  def speak(self):\n",
        "    print(\"moo\")\n",
        "\n",
        "def hey(animal):\n",
        "  animal.speak();\n",
        "\n",
        "\n",
        "bingo = Dog()\n",
        "kitty = Cat()\n",
        "sheep = Sheep()\n",
        "cow = Cow()\n",
        "\n",
        "hey(bingo)\n",
        "hey(kitty)\n",
        "hey(sheep)\n",
        "hey(cow)\n",
        "```"
      ],
      "metadata": {
        "id": "p3YhNY6xkNEY"
      }
    },
    {
      "cell_type": "code",
      "execution_count": null,
      "metadata": {
        "id": "zTF8TSCFjupw"
      },
      "outputs": [],
      "source": [
        "class BaseballPlayer: # class 선언\n",
        "  def __init__(self, name): # 이름을 입력 받는다\n",
        "    self.name = name\n",
        "\n",
        "  def hit(self): # hit 메서드 선언\n",
        "    pass\n",
        "\n",
        "  def out(self): # out 메서드 선언\n",
        "    pass\n",
        "\n",
        "  def run(self): # run 메서드 선언\n",
        "    pass\n",
        "\n",
        "  def fourball(self): # fourball 메서드 선언\n",
        "    pass"
      ]
    },
    {
      "cell_type": "code",
      "source": [
        "class Pitcher(BaseballPlayer): # 투수 클래스 생성. BaseballPlayer를 상속 받음\n",
        "  def hit(self):\n",
        "    print(f\"{self.name}: 안타를 허용했다.\")\n",
        "\n",
        "  def out(self):\n",
        "    print(f\"{self.name}: 상대 타자를 아웃 시켰다.\")\n",
        "\n",
        "  def run(self):\n",
        "    print(f\"{self.name}: 도루를 허용했다.\")\n",
        "\n",
        "  def fourball(self):\n",
        "    print(f\"{self.name}: 상대 타자를 볼넷으로 내보냈다.\")\n",
        "\n",
        "class Batter(BaseballPlayer): # 타자 클래스 생성. BaseballPlayer를 상속 받음\n",
        "  def hit(self):\n",
        "    print(f\"{self.name}: 안타를 쳤다.\")\n",
        "\n",
        "  def out(self):\n",
        "    print(f\"{self.name}: 아웃을 당했다.\")\n",
        "\n",
        "  def run(self):\n",
        "    print(f\"{self.name}: 도루를 성공했다.\")\n",
        "\n",
        "  def fourball(self):\n",
        "    print(f\"{self.name}: 볼넷으로 출루했다.\")\n",
        "\n",
        "# 확장 가능성 + 기존 코드 수정 X\n",
        "# class Judgment(BaseballPlayer):\n",
        "#   def hit(self):\n",
        "#     print(\"플레이어가 안타를 쳤다.\")\n",
        "\n",
        "#   def out(self):\n",
        "#     print(\"플레이어가 아웃을 당했다.\")\n",
        "\n",
        "#   def run(self):\n",
        "#     print(\"플레이어가 도루를 했다.\")\n",
        "\n",
        "#   def fourball(self):\n",
        "#     print(\"플레이어가 볼넷으로 나갔다.\")"
      ],
      "metadata": {
        "id": "_WVYotXF3nVR"
      },
      "execution_count": null,
      "outputs": []
    },
    {
      "cell_type": "code",
      "source": [
        "# 객체 생성\n",
        "player1 = Batter(\"구자욱\")\n",
        "player2 = Pitcher(\"원태인\")\n",
        "player3 = Batter(\"이대호\")\n",
        "player4 = Pitcher(\"오승환\")\n",
        "player5 = Batter(\"김지찬\")\n",
        "\n",
        "# 출력\n",
        "player1.hit()\n",
        "player2.out()\n",
        "player3.run()\n",
        "player4.fourball()\n",
        "player5.out()"
      ],
      "metadata": {
        "colab": {
          "base_uri": "https://localhost:8080/"
        },
        "id": "yz35aUQOx2i6",
        "outputId": "1a15e3a9-7f3a-4323-e39a-c76780a1e980"
      },
      "execution_count": null,
      "outputs": [
        {
          "output_type": "stream",
          "name": "stdout",
          "text": [
            "구자욱: 안타를 쳤다.\n",
            "원태인: 상대 타자를 아웃 시켰다.\n",
            "이대호: 도루를 성공했다.\n",
            "오승환: 상대 타자를 볼넷으로 내보냈다\n",
            "김지찬: 아웃을 당했다.\n"
          ]
        }
      ]
    },
    {
      "cell_type": "code",
      "source": [
        "# class Hit(BaseballPlayer): # Hit이라는 클래스를 생성. BaseballPlayer를 상속 받는다.\n",
        "#   def result(self):\n",
        "#     if(self.postion == \"타자\"): # 포지션이 타자라면 안타를 쳤다고 출력.\n",
        "#       print(f\"{self.name}: 안타를 쳤다.\")\n",
        "\n",
        "#     else: # 포지션이 투수라면 안타를 허용했다고 출력.\n",
        "#       print(f\"{self.name}: 안타를 허용했다\")\n",
        "\n",
        "# class Out(BaseballPlayer): # Out이라는 클래스를 생성. BaseballPlayer를 상속 받는다.\n",
        "#   def result(self):\n",
        "#     if(self.postion == \"타자\"):# 포지션이 타자라면 아웃을 당했다고 출력.\n",
        "#       print(f\"{self.name}: 아웃을 당했다.\")\n",
        "\n",
        "#     else: # 포지션이 투수라면 아웃 시켰다고 출력.\n",
        "#       print(f\"{self.name}: 상대 타자를 아웃 시켰다.\")\n",
        "\n",
        "# class Run(BaseballPlayer): # Run이라는 클래스를 생성. BaseballPlayer를 상속 받는다.\n",
        "#   def result(self):\n",
        "#     if(self.postion == \"타자\"): # 포지션이 타자라면 도루를 성공했다고 출력.\n",
        "#       print(f\"{self.name}: 도루를 성공했다.\")\n",
        "\n",
        "#     else: # 포지션이 투수라면 도루를 허용했다고 출력.\n",
        "#       print(f\"{self.name}: 도루를 허용했다\")\n",
        "\n",
        "# class FourBall(BaseballPlayer): # FourBall이라는 클래스를 생성. BaseballPlayer를 상속 받는다.\n",
        "#   def result(self):\n",
        "#     if(self.postion == \"투수\"): # 포지션이 투수라면 상대 타자를 볼넷으로 내보냈다고 출력.\n",
        "#       print(f\"{self.name}: 상대 타자를 볼넷으로 내보냈다\")\n",
        "\n",
        "#     else: # 포지션이 타자라면 볼넷으로 출루했다고 출력.\n",
        "#       print(f\"{self.name}: 볼넷으로 출루했다\")"
      ],
      "metadata": {
        "id": "_Nd4Vmgdxjra"
      },
      "execution_count": null,
      "outputs": []
    },
    {
      "cell_type": "markdown",
      "source": [
        "## LSP(Liskov Substitution Principle, 리스코프 치환 원칙)\n",
        "- 자식 클래스는 언제나 부모 클래스를 대체할 수 있어야 한다.\n",
        "### exam code\n",
        "```\n",
        "class Bird:\n",
        "    def eat(self):\n",
        "        print(\"Bird is eating\")\n",
        "\n",
        "class FlyingBird(Bird):\n",
        "    def fly(self):\n",
        "        print(\"Flying bird is flying\")\n",
        "\n",
        "class Sparrow(FlyingBird):\n",
        "    def fly(self):\n",
        "        print(\"Sparrow flies high\")\n",
        "\n",
        "class Penguin(Bird):\n",
        "    def swim(self):\n",
        "        print(\"Penguin swims fast\")\n",
        "\n",
        "\n",
        "def let_bird_eat(bird: Bird):\n",
        "    bird.eat()\n",
        "\n",
        "def let_bird_fly(flying_bird: FlyingBird):\n",
        "    flying_bird.fly()\n",
        "\n",
        "\n",
        "# 실행\n",
        "let_bird_eat(Sparrow())   # 가능\n",
        "let_bird_eat(Penguin())   # 가능 (먹을 수 있음)\n",
        "let_bird_fly(Sparrow())   # 가능\n",
        "# let_bird_fly(Penguin()) # 타입상 애초에 불가능 -> 계약 지켜짐\n",
        "```"
      ],
      "metadata": {
        "id": "HxXXmO7xdt5-"
      }
    },
    {
      "cell_type": "code",
      "source": [],
      "metadata": {
        "id": "8TcjMBK8eFVT"
      },
      "execution_count": null,
      "outputs": []
    },
    {
      "cell_type": "markdown",
      "source": [
        "## ISP(Interface Segregation Principle, 인터페이스 분리 원칙)\n",
        "- 클라이언트는 자신이 사용하지 않는 메서드에 의존 관계를 맺으면 안된다.\n",
        "### exam code\n",
        "```\n",
        "```"
      ],
      "metadata": {
        "id": "_Oe6uyZfeFjW"
      }
    },
    {
      "cell_type": "code",
      "source": [],
      "metadata": {
        "id": "NEjZQUf5eNiM"
      },
      "execution_count": null,
      "outputs": []
    },
    {
      "cell_type": "markdown",
      "source": [
        "## DIP(Dependency Inversion Principle, 의존관계 역전 원칙)\n",
        "- A. 상위 모듈은 하위 모듈에 의존하면 안된다.    B. 추상화는 구체적인 것에 의존하면 안된다.\n",
        "### exam code\n",
        "```\n",
        "```"
      ],
      "metadata": {
        "id": "3Z7SxEtAeNut"
      }
    },
    {
      "cell_type": "code",
      "source": [],
      "metadata": {
        "id": "cnkdRJi1eYiw"
      },
      "execution_count": null,
      "outputs": []
    },
    {
      "cell_type": "markdown",
      "source": [
        "## SOLID 모두 적용한 코드 짜보기\n",
        "- 주제는 House"
      ],
      "metadata": {
        "id": "KR73LKLXUwTb"
      }
    },
    {
      "cell_type": "code",
      "source": [
        "# LSP - Room의 자식 클래스인 MyRoom, MomRoom등이 부모의 describe를 대체할 수 있음\n",
        "class Room():\n",
        "  def describe(self):\n",
        "    pass\n",
        "\n",
        "class MyRoom(Room):\n",
        "  def describe(self):\n",
        "    print(\"내 방이야!\")\n",
        "\n",
        "class MomRoom(Room):\n",
        "  def describe(self):\n",
        "    print(\"우리 엄마방이야!\")\n",
        "\n",
        "class DadRoom(Room):\n",
        "  def describe(self):\n",
        "    print(\"우리 아빠방이야!\")\n",
        "\n",
        "class SisterRoom(Room):\n",
        "  def describe(self):\n",
        "    print(\"우리 여동생방이야!\")\n",
        "\n",
        "# OCP - 기존 코드 수정없이 확장 가능\n",
        "# class BathRoom(Room):\n",
        "#   def decribe(self):\n",
        "#     print(\"우리집 화장실이야!\")\n",
        "\n",
        "# SRP - 하나의 클래스에는 하나의 책임만 있어라: House: 집의 관리를 담당함 Room: 방의 설명을 출력하는 것을 담당함\n",
        "# ISP - 자신이 사용하지 않는 메서드 (MyRoom, MomRoom 등등)에 의존 관계를 맺지 않고, Room과의 의존 관계만 있음\n",
        "# DIP - House는 하위 모듈인 MyRoom, MomRoom에 의존하지 않음\n",
        "class House:\n",
        "  def __init__(self):\n",
        "    # 방을 담는 rooms 리스트\n",
        "    self.rooms = []\n",
        "\n",
        "  # 방을 추가하는 메서드\n",
        "  def addRoom(self, room):\n",
        "    self.rooms.append(room) # rooms 리스트에 room을 추가하는 코드\n",
        "\n",
        "  # 방을 보여주는 메서드\n",
        "  def showRoom(self):\n",
        "    for room in self.rooms:\n",
        "      room.describe() # Room class의 생성자가 가지고 있는 describe 메서드를 사용해서 방의 설명을 출력\n",
        "\n",
        "house = House() # House 객체 생성\n",
        "\n",
        "house.addRoom(MyRoom()) # house 객체에 addRoom을 사용하여 방을 추가함\n",
        "house.addRoom(MomRoom())\n",
        "house.addRoom(DadRoom())\n",
        "house.addRoom(SisterRoom())\n",
        "\n",
        "house.showRoom() # house 객체에 추가된 room의 설명을 전부 보여줌"
      ],
      "metadata": {
        "colab": {
          "base_uri": "https://localhost:8080/"
        },
        "id": "YyG9A4VIU3Sc",
        "outputId": "2bbea29c-7fb2-4e6b-8959-ad182bdd0d4b"
      },
      "execution_count": 16,
      "outputs": [
        {
          "output_type": "stream",
          "name": "stdout",
          "text": [
            "내 방이야!\n",
            "우리 엄마방이야!\n",
            "우리 아빠방이야!\n",
            "우리 여동생방이야!\n"
          ]
        }
      ]
    },
    {
      "cell_type": "markdown",
      "source": [
        "# Design Patterns"
      ],
      "metadata": {
        "id": "X6qvvA5Tez8i"
      }
    }
  ]
}