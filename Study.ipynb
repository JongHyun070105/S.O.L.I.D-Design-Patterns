{
  "nbformat": 4,
  "nbformat_minor": 0,
  "metadata": {
    "colab": {
      "provenance": [],
      "collapsed_sections": [
        "MZO35zWRerdX",
        "p3YhNY6xkNEY",
        "ig0UmHN19p3U",
        "E9GpxPRYG54R"
      ],
      "authorship_tag": "ABX9TyNiAyaVeRZqdSSieijkvQnG",
      "include_colab_link": true
    },
    "kernelspec": {
      "name": "python3",
      "display_name": "Python 3"
    },
    "language_info": {
      "name": "python"
    }
  },
  "cells": [
    {
      "cell_type": "markdown",
      "metadata": {
        "id": "view-in-github",
        "colab_type": "text"
      },
      "source": [
        "<a href=\"https://colab.research.google.com/github/JongHyun070105/S.O.L.I.D-Design-Patterns/blob/main/Study.ipynb\" target=\"_parent\"><img src=\"https://colab.research.google.com/assets/colab-badge.svg\" alt=\"Open In Colab\"/></a>"
      ]
    },
    {
      "cell_type": "markdown",
      "source": [
        "# SOLID"
      ],
      "metadata": {
        "id": "MZO35zWRerdX"
      }
    },
    {
      "cell_type": "markdown",
      "source": [
        "## SRP(Single Responsibility Principle, 단일 책임 원칙)\n",
        "- 모든 클래스는 단 하나의 책임(기능)을 가져야 함.\n",
        "\n",
        "### exma code\n",
        "```\n",
        "from datetime import datetime\n",
        "import logging\n",
        "\n",
        "class Cat:\n",
        "  def __init__(self,age,name):\n",
        "    self.age = age\n",
        "    self.name = name\n",
        "\n",
        "  def eat(self):\n",
        "    print(\"eating..\")\n",
        "\n",
        "  def walk(self):\n",
        "    print(\"walking..\")\n",
        "\n",
        "  def speak(self):\n",
        "    print(\"meow~\")\n",
        "\n",
        "  def print(self):\n",
        "    print(f\"name:{self.name}, age:{self.age}\")\n",
        "\n",
        "  def log(self,logger):\n",
        "    logger.info(f\"name:{self.name}, age:{self.age}\")\n",
        "    logger.info(datetime.now())\n",
        "\n",
        "\n",
        "kitty = Cat(3,\"kitty\")\n",
        "kitty.eat()\n",
        "kitty.walk()\n",
        "kitty.speak()\n",
        "kitty.print()\n",
        "\n",
        "# 콘솔 출력\n",
        "logger = logging.getLogger(\"mylog\")\n",
        "logger.setLevel(logging.DEBUG)\n",
        "\n",
        "kitty.log(logger)\n",
        "```"
      ],
      "metadata": {
        "id": "zhiJ2OvDj-SR"
      }
    },
    {
      "cell_type": "code",
      "source": [
        "class Human: # class 선언\n",
        "  def __init__(self, name, age, gender, ):\n",
        "    # 이름\n",
        "    self.name = name\n",
        "\n",
        "    # 나이\n",
        "    self.age = age\n",
        "\n",
        "    # 성별\n",
        "    self.gender = gender\n",
        "\n",
        "  def sing(self):\n",
        "    print(f\"{self.name}이 노래를 부른다\")\n",
        "\n",
        "  def dance(self):\n",
        "    print(f\"{self.name}이 춤을 춘다\")\n",
        "\n",
        "  def study(self):\n",
        "    print(f\"{self.name}이 공부를 한다\")\n",
        "\n",
        "  # 정보 출력하는 메서드\n",
        "  def info(self):\n",
        "    print(f\"{self.name}은/는 {self.gender}이고, 나이는 {self.age}살이다.\")\n",
        "\n",
        "# human1이라는 Human 객체 생성\n",
        "human1 = Human(\"구자욱\", 31, \"남성\")\n",
        "\n",
        "# human1의 행동 출력\n",
        "human1.sing()\n",
        "human1.dance()\n",
        "human1.study()\n",
        "\n",
        "\n",
        "# human1 정보 출력\n",
        "human1.info()"
      ],
      "metadata": {
        "colab": {
          "base_uri": "https://localhost:8080/"
        },
        "id": "h4lC9UPrvOqi",
        "outputId": "ea4cd784-a229-42de-f7ab-1ceb65f44aa9"
      },
      "execution_count": null,
      "outputs": [
        {
          "output_type": "stream",
          "name": "stdout",
          "text": [
            "구자욱이 노래를 부른다\n",
            "구자욱이 춤을 춘다\n",
            "구자욱이 공부를 한다\n",
            "구자욱은/는 남성이고, 나이는 31살이다.\n"
          ]
        }
      ]
    },
    {
      "cell_type": "markdown",
      "source": [
        "## OCP(Open-Closed Principle, 개방-폐쇄 원칙)\n",
        "- 클래스는 확장에 대해서는 열려 있어야 하고, 기존 코드 변경에는 닫혀 있어야 한다.\n",
        "### exam code\n",
        "```\n",
        "class Animal:\n",
        "  def speak(self):  #interface method\n",
        "    pass\n",
        "\n",
        "class Cat(Animal):\n",
        "  def speak(self):\n",
        "    print(\"meow\")\n",
        "\n",
        "class Dog(Animal):\n",
        "  def speak(self):\n",
        "    print(\"bark\")\n",
        "\n",
        "class Sheep(Animal):\n",
        "  def speak(self):\n",
        "    print(\"meh\")\n",
        "\n",
        "class Cow(Animal):\n",
        "  def speak(self):\n",
        "    print(\"moo\")\n",
        "\n",
        "def hey(animal):\n",
        "  animal.speak();\n",
        "\n",
        "\n",
        "bingo = Dog()\n",
        "kitty = Cat()\n",
        "sheep = Sheep()\n",
        "cow = Cow()\n",
        "\n",
        "hey(bingo)\n",
        "hey(kitty)\n",
        "hey(sheep)\n",
        "hey(cow)\n",
        "```"
      ],
      "metadata": {
        "id": "p3YhNY6xkNEY"
      }
    },
    {
      "cell_type": "code",
      "execution_count": null,
      "metadata": {
        "id": "zTF8TSCFjupw"
      },
      "outputs": [],
      "source": [
        "class BaseballPlayer: # class 선언\n",
        "  def __init__(self, name): # 이름을 입력 받는다\n",
        "    self.name = name\n",
        "\n",
        "  def hit(self): # hit 메서드 선언\n",
        "    pass\n",
        "\n",
        "  def out(self): # out 메서드 선언\n",
        "    pass\n",
        "\n",
        "  def run(self): # run 메서드 선언\n",
        "    pass\n",
        "\n",
        "  def fourball(self): # fourball 메서드 선언\n",
        "    pass"
      ]
    },
    {
      "cell_type": "code",
      "source": [
        "class Pitcher(BaseballPlayer): # 투수 클래스 생성. BaseballPlayer를 상속 받음\n",
        "  def hit(self):\n",
        "    print(f\"{self.name}: 안타를 허용했다.\")\n",
        "\n",
        "  def out(self):\n",
        "    print(f\"{self.name}: 상대 타자를 아웃 시켰다.\")\n",
        "\n",
        "  def run(self):\n",
        "    print(f\"{self.name}: 도루를 허용했다.\")\n",
        "\n",
        "  def fourball(self):\n",
        "    print(f\"{self.name}: 상대 타자를 볼넷으로 내보냈다.\")\n",
        "\n",
        "class Batter(BaseballPlayer): # 타자 클래스 생성. BaseballPlayer를 상속 받음\n",
        "  def hit(self):\n",
        "    print(f\"{self.name}: 안타를 쳤다.\")\n",
        "\n",
        "  def out(self):\n",
        "    print(f\"{self.name}: 아웃을 당했다.\")\n",
        "\n",
        "  def run(self):\n",
        "    print(f\"{self.name}: 도루를 성공했다.\")\n",
        "\n",
        "  def fourball(self):\n",
        "    print(f\"{self.name}: 볼넷으로 출루했다.\")\n",
        "\n",
        "# 확장 가능성 + 기존 코드 수정 X\n",
        "# class Judgment(BaseballPlayer):\n",
        "#   def hit(self):\n",
        "#     print(\"플레이어가 안타를 쳤다.\")\n",
        "\n",
        "#   def out(self):\n",
        "#     print(\"플레이어가 아웃을 당했다.\")\n",
        "\n",
        "#   def run(self):\n",
        "#     print(\"플레이어가 도루를 했다.\")\n",
        "\n",
        "#   def fourball(self):\n",
        "#     print(\"플레이어가 볼넷으로 나갔다.\")"
      ],
      "metadata": {
        "id": "_WVYotXF3nVR"
      },
      "execution_count": null,
      "outputs": []
    },
    {
      "cell_type": "code",
      "source": [
        "# 객체 생성\n",
        "player1 = Batter(\"구자욱\")\n",
        "player2 = Pitcher(\"원태인\")\n",
        "player3 = Batter(\"이대호\")\n",
        "player4 = Pitcher(\"오승환\")\n",
        "player5 = Batter(\"김지찬\")\n",
        "\n",
        "# 출력\n",
        "player1.hit()\n",
        "player2.out()\n",
        "player3.run()\n",
        "player4.fourball()\n",
        "player5.out()"
      ],
      "metadata": {
        "colab": {
          "base_uri": "https://localhost:8080/"
        },
        "id": "yz35aUQOx2i6",
        "outputId": "1a15e3a9-7f3a-4323-e39a-c76780a1e980"
      },
      "execution_count": null,
      "outputs": [
        {
          "output_type": "stream",
          "name": "stdout",
          "text": [
            "구자욱: 안타를 쳤다.\n",
            "원태인: 상대 타자를 아웃 시켰다.\n",
            "이대호: 도루를 성공했다.\n",
            "오승환: 상대 타자를 볼넷으로 내보냈다\n",
            "김지찬: 아웃을 당했다.\n"
          ]
        }
      ]
    },
    {
      "cell_type": "code",
      "source": [
        "# class Hit(BaseballPlayer): # Hit이라는 클래스를 생성. BaseballPlayer를 상속 받는다.\n",
        "#   def result(self):\n",
        "#     if(self.postion == \"타자\"): # 포지션이 타자라면 안타를 쳤다고 출력.\n",
        "#       print(f\"{self.name}: 안타를 쳤다.\")\n",
        "\n",
        "#     else: # 포지션이 투수라면 안타를 허용했다고 출력.\n",
        "#       print(f\"{self.name}: 안타를 허용했다\")\n",
        "\n",
        "# class Out(BaseballPlayer): # Out이라는 클래스를 생성. BaseballPlayer를 상속 받는다.\n",
        "#   def result(self):\n",
        "#     if(self.postion == \"타자\"):# 포지션이 타자라면 아웃을 당했다고 출력.\n",
        "#       print(f\"{self.name}: 아웃을 당했다.\")\n",
        "\n",
        "#     else: # 포지션이 투수라면 아웃 시켰다고 출력.\n",
        "#       print(f\"{self.name}: 상대 타자를 아웃 시켰다.\")\n",
        "\n",
        "# class Run(BaseballPlayer): # Run이라는 클래스를 생성. BaseballPlayer를 상속 받는다.\n",
        "#   def result(self):\n",
        "#     if(self.postion == \"타자\"): # 포지션이 타자라면 도루를 성공했다고 출력.\n",
        "#       print(f\"{self.name}: 도루를 성공했다.\")\n",
        "\n",
        "#     else: # 포지션이 투수라면 도루를 허용했다고 출력.\n",
        "#       print(f\"{self.name}: 도루를 허용했다\")\n",
        "\n",
        "# class FourBall(BaseballPlayer): # FourBall이라는 클래스를 생성. BaseballPlayer를 상속 받는다.\n",
        "#   def result(self):\n",
        "#     if(self.postion == \"투수\"): # 포지션이 투수라면 상대 타자를 볼넷으로 내보냈다고 출력.\n",
        "#       print(f\"{self.name}: 상대 타자를 볼넷으로 내보냈다\")\n",
        "\n",
        "#     else: # 포지션이 타자라면 볼넷으로 출루했다고 출력.\n",
        "#       print(f\"{self.name}: 볼넷으로 출루했다\")"
      ],
      "metadata": {
        "id": "_Nd4Vmgdxjra"
      },
      "execution_count": null,
      "outputs": []
    },
    {
      "cell_type": "markdown",
      "source": [
        "## LSP(Liskov Substitution Principle, 리스코프 치환 원칙)\n",
        "- 자식 클래스는 언제나 부모 클래스를 대체할 수 있어야 한다.\n",
        "### exam code\n",
        "```\n",
        "class Bird:\n",
        "    def eat(self):\n",
        "        print(\"Bird is eating\")\n",
        "\n",
        "class FlyingBird(Bird):\n",
        "    def fly(self):\n",
        "        print(\"Flying bird is flying\")\n",
        "\n",
        "class Sparrow(FlyingBird):\n",
        "    def fly(self):\n",
        "        print(\"Sparrow flies high\")\n",
        "\n",
        "class Penguin(Bird):\n",
        "    def swim(self):\n",
        "        print(\"Penguin swims fast\")\n",
        "\n",
        "\n",
        "def let_bird_eat(bird: Bird):\n",
        "    bird.eat()\n",
        "\n",
        "def let_bird_fly(flying_bird: FlyingBird):\n",
        "    flying_bird.fly()\n",
        "\n",
        "\n",
        "# 실행\n",
        "let_bird_eat(Sparrow())   # 가능\n",
        "let_bird_eat(Penguin())   # 가능 (먹을 수 있음)\n",
        "let_bird_fly(Sparrow())   # 가능\n",
        "# let_bird_fly(Penguin()) # 타입상 애초에 불가능 -> 계약 지켜짐\n",
        "```"
      ],
      "metadata": {
        "id": "HxXXmO7xdt5-"
      }
    },
    {
      "cell_type": "code",
      "source": [],
      "metadata": {
        "id": "8TcjMBK8eFVT"
      },
      "execution_count": null,
      "outputs": []
    },
    {
      "cell_type": "markdown",
      "source": [
        "## ISP(Interface Segregation Principle, 인터페이스 분리 원칙)\n",
        "- 클라이언트는 자신이 사용하지 않는 메서드에 의존 관계를 맺으면 안된다.\n",
        "### exam code\n",
        "```\n",
        "```"
      ],
      "metadata": {
        "id": "_Oe6uyZfeFjW"
      }
    },
    {
      "cell_type": "code",
      "source": [],
      "metadata": {
        "id": "NEjZQUf5eNiM"
      },
      "execution_count": null,
      "outputs": []
    },
    {
      "cell_type": "markdown",
      "source": [
        "## DIP(Dependency Inversion Principle, 의존관계 역전 원칙)\n",
        "- A. 상위 모듈은 하위 모듈에 의존하면 안된다.    B. 추상화는 구체적인 것에 의존하면 안된다.\n",
        "### exam code\n",
        "```\n",
        "```"
      ],
      "metadata": {
        "id": "3Z7SxEtAeNut"
      }
    },
    {
      "cell_type": "code",
      "source": [],
      "metadata": {
        "id": "cnkdRJi1eYiw"
      },
      "execution_count": null,
      "outputs": []
    },
    {
      "cell_type": "markdown",
      "source": [
        "## SOLID 모두 적용한 코드 짜보기\n",
        "- 주제는 House"
      ],
      "metadata": {
        "id": "KR73LKLXUwTb"
      }
    },
    {
      "cell_type": "code",
      "source": [
        "# LSP - Room의 자식 클래스인 MyRoom, MomRoom등이 부모의 describe를 대체할 수 있음\n",
        "class Room:\n",
        "  def describe(self):\n",
        "    pass\n",
        "\n",
        "class MyRoom(Room):\n",
        "  def describe(self):\n",
        "    print(\"내 방이야!\")\n",
        "\n",
        "class MomRoom(Room):\n",
        "  def describe(self):\n",
        "    print(\"우리 엄마방이야!\")\n",
        "\n",
        "class DadRoom(Room):\n",
        "  def describe(self):\n",
        "    print(\"우리 아빠방이야!\")\n",
        "\n",
        "class SisterRoom(Room):\n",
        "  def describe(self):\n",
        "    print(\"우리 여동생방이야!\")\n",
        "\n",
        "# OCP - 기존 코드 수정없이 확장 가능\n",
        "# class BathRoom(Room):\n",
        "#   def decribe(self):\n",
        "#     print(\"우리집 화장실이야!\")\n",
        "\n",
        "# SRP - 하나의 클래스에는 하나의 책임만 있어라: House: 집의 관리를 담당함 Room: 방의 설명을 출력하는 것을 담당함\n",
        "# ISP - 자신이 사용하지 않는 메서드 (MyRoom, MomRoom 등등)에 의존 관계를 맺지 않고, Room과의 의존 관계만 있음\n",
        "# DIP - House는 하위 모듈인 MyRoom, MomRoom에 의존하지 않음\n",
        "class House:\n",
        "  def __init__(self):\n",
        "    # 방을 담는 rooms 리스트\n",
        "    self.rooms = []\n",
        "\n",
        "  # 방을 추가하는 메서드\n",
        "  def addRoom(self, room):\n",
        "    self.rooms.append(room) # rooms 리스트에 room을 추가하는 코드\n",
        "\n",
        "  # 방을 보여주는 메서드\n",
        "  def showRoom(self):\n",
        "    for room in self.rooms:\n",
        "      room.describe() # Room class의 생성자가 가지고 있는 describe 메서드를 사용해서 방의 설명을 출력\n",
        "\n",
        "house = House() # House 객체 생성\n",
        "\n",
        "house.addRoom(MyRoom()) # house 객체에 addRoom을 사용하여 방을 추가함\n",
        "house.addRoom(MomRoom())\n",
        "house.addRoom(DadRoom())\n",
        "house.addRoom(SisterRoom())\n",
        "\n",
        "house.showRoom() # house 객체에 추가된 room의 설명을 전부 보여줌"
      ],
      "metadata": {
        "colab": {
          "base_uri": "https://localhost:8080/"
        },
        "id": "YyG9A4VIU3Sc",
        "outputId": "9db6c0f8-4668-411b-e377-302b6e685cbc"
      },
      "execution_count": 1,
      "outputs": [
        {
          "output_type": "stream",
          "name": "stdout",
          "text": [
            "내 방이야!\n",
            "우리 엄마방이야!\n",
            "우리 아빠방이야!\n",
            "우리 여동생방이야!\n"
          ]
        }
      ]
    },
    {
      "cell_type": "markdown",
      "source": [
        "# Design Patterns"
      ],
      "metadata": {
        "id": "X6qvvA5Tez8i"
      }
    },
    {
      "cell_type": "markdown",
      "source": [
        "## Factory Method Pattern"
      ],
      "metadata": {
        "id": "ID3TtS3B9ebK"
      }
    },
    {
      "cell_type": "markdown",
      "source": [
        "### exam code"
      ],
      "metadata": {
        "id": "ig0UmHN19p3U"
      }
    },
    {
      "cell_type": "code",
      "source": [
        "class Animal():\n",
        "  def speak(self):\n",
        "    pass\n",
        "\n",
        "class Cat(Animal):\n",
        "  def speak(self):\n",
        "    print(\"meow\")\n",
        "\n",
        "class Dog(Animal):\n",
        "  def speak(self):\n",
        "    print(\"bark\")"
      ],
      "metadata": {
        "id": "ZOWA4EW-nHCI"
      },
      "execution_count": 11,
      "outputs": []
    },
    {
      "cell_type": "code",
      "source": [
        "class AnimalFactory():\n",
        "  def createAnimal(self):\n",
        "    pass\n",
        "\n",
        "class CatFactory(AnimalFactory):\n",
        "  def __init__(self):\n",
        "    self.cat_count = 0\n",
        "  def createAnimal(self):\n",
        "    self.cat_count += 1\n",
        "    return Cat()\n",
        "  def catCount(self):\n",
        "    return self.cat_count\n",
        "\n",
        "\n",
        "class DogManager(AnimalFactory):\n",
        "  def haveDog(self):\n",
        "    self.dog = self.createAnimal()\n",
        "  def createAnimal(self):\n",
        "    return Dog()\n",
        "  def makeWings(self,dog:Dog):\n",
        "    print(\"dog wings added\")\n",
        "    return dog\n",
        "\n",
        "\n",
        "cat_factory = CatFactory()\n",
        "cat = cat_factory.createAnimal()\n",
        "print(f\"{cat_factory.catCount()} cats are created\")\n",
        "\n",
        "dog_manager = DogManager()\n",
        "dog = dog_manager.haveDog()\n",
        "wing_dog = dog_manager.makeWings(dog)"
      ],
      "metadata": {
        "colab": {
          "base_uri": "https://localhost:8080/"
        },
        "id": "3Lc_K8Sv7K_Y",
        "outputId": "7f63b0c3-b198-46a3-abd1-7725b94ecb3d"
      },
      "execution_count": 12,
      "outputs": [
        {
          "output_type": "stream",
          "name": "stdout",
          "text": [
            "1 cats are created\n",
            "dog wings added\n"
          ]
        }
      ]
    },
    {
      "cell_type": "markdown",
      "source": [
        "### My code"
      ],
      "metadata": {
        "id": "jRUxVJE89fky"
      }
    },
    {
      "cell_type": "code",
      "source": [
        "class Drink():\n",
        "  def review(self):\n",
        "    pass\n",
        "\n",
        "class Coke(Drink):\n",
        "  def review(self):\n",
        "    print(\"톡 쏘는 탄산\")\n",
        "\n",
        "class Coffee(Drink):\n",
        "  def review(self):\n",
        "    print(\"좋은 커피향\")"
      ],
      "metadata": {
        "id": "Bsskzbwl_lat"
      },
      "execution_count": 13,
      "outputs": []
    },
    {
      "cell_type": "code",
      "source": [
        "class DrinkMachine():  # DrinkMachine 클래스 생성\n",
        "  def createDrink(self): # createDrink라는 메서드 생성\n",
        "    pass\n",
        "\n",
        "class CokeMachine(DrinkMachine): # CokeMachine이라는 DrinkMachine을 상속 받은 클래스 생성\n",
        "  def __init__(self): # coke의 갯수를 넣는 매개변수 추가\n",
        "    self.coke_count = 0\n",
        "\n",
        "  def createDrink(self): # coke를 만들었을때 갯수를 추가하고 Coke 클래스에 리턴\n",
        "    self.coke_count += 1\n",
        "    return Coke()\n",
        "\n",
        "  def cokeCount(self): # coke의 갯수를 출력하는 cokeCount 메서드 생성\n",
        "    return f\"콜라 {self.coke_count}개 나왔습니다!\"\n",
        "\n",
        "class CoffeeMachine(DrinkMachine): # CoffeeMachine이라는 DrinkMachine을 상속 받은 클래스 생성\n",
        "  def __init__(self, name): # 커피의 종류가 다양하므로 이름을 받는 매개변수 추가\n",
        "    self.name = name\n",
        "    self.coffee = self.createDrink() # coffee에 createDrink 메서드를 호출하여 Coffee 클래스의 인스턴스를 생성하여 반환\n",
        "\n",
        "  def createDrink(self):\n",
        "    return Coffee()\n",
        "\n",
        "  def sumSyrup(self,coffee:Coffee): # Coffee 클래스를 입력받고, 입력받은 이름에 시럽을 추가했다는 메시지를 출력 후 coffee를 반환\n",
        "    print(f\"{self.name}에 시럽 추가했습니다\")\n",
        "    return coffee\n",
        "\n",
        "\n",
        "coke_machine = CokeMachine() # CokeMachine 객체 생성\n",
        "coke = coke_machine.createDrink() # coke 생성\n",
        "print(coke_machine.cokeCount()) # coke 갯수 출력\n",
        "\n",
        "coffee_machine = CoffeeMachine(\"카페라뗴\") # CoffeeMachine 객체 생성\n",
        "coffee = coffee_machine.createDrink() # coffee 생성\n",
        "syrup_coffee = coffee_machine.sumSyrup(coffee) # coffee에 시럽을 추가"
      ],
      "metadata": {
        "colab": {
          "base_uri": "https://localhost:8080/"
        },
        "id": "IT8Mo5E6AOcp",
        "outputId": "dccb8f52-e7a4-43a1-aa90-8b3aa375c096"
      },
      "execution_count": 20,
      "outputs": [
        {
          "output_type": "stream",
          "name": "stdout",
          "text": [
            "콜라 1개 나왔습니다!\n",
            "카페라뗴에 시럽 추가했습니다\n"
          ]
        }
      ]
    },
    {
      "cell_type": "code",
      "source": [],
      "metadata": {
        "id": "-yiuuh8RDTyz"
      },
      "execution_count": null,
      "outputs": []
    },
    {
      "cell_type": "markdown",
      "source": [
        "## Abstract Factory Pattern"
      ],
      "metadata": {
        "id": "bOTAe-lEG54R"
      }
    },
    {
      "cell_type": "markdown",
      "source": [
        "### exam code"
      ],
      "metadata": {
        "id": "E9GpxPRYG54R"
      }
    },
    {
      "cell_type": "code",
      "source": [
        "#Button abstract(interface) and its implementations\n",
        "class Button:\n",
        "  def click(self):\n",
        "    pass\n",
        "\n",
        "class DarkButton(Button):\n",
        "  def click(self):\n",
        "    print(\"dark click\")\n",
        "\n",
        "class LightButton(Button):\n",
        "  def click(self):\n",
        "    print(\"light click\")\n"
      ],
      "metadata": {
        "id": "TqWVbvjIOJPt"
      },
      "execution_count": 62,
      "outputs": []
    },
    {
      "cell_type": "code",
      "source": [
        "#Checkbox abstract(interface) and its implementations\n",
        "class CheckBox:\n",
        "  def check(self):\n",
        "    pass\n",
        "\n",
        "class DarkCheckBox(CheckBox):\n",
        "  def check(self):\n",
        "    print(\"dark check\")\n",
        "\n",
        "class LightCheckBox(CheckBox):\n",
        "  def check(self):\n",
        "    print(\"light check\")"
      ],
      "metadata": {
        "id": "ifWQzhAkOJPu"
      },
      "execution_count": 63,
      "outputs": []
    },
    {
      "cell_type": "code",
      "source": [
        "#Scrollbar abstract(interface) and its implementations\n",
        "class ScrollBar:\n",
        "  def scroll(self):\n",
        "    pass\n",
        "\n",
        "class DarkScrollBar(ScrollBar):\n",
        "  def scroll(self):\n",
        "    print(\"dark scroll\")\n",
        "\n",
        "class LightScrollBar(ScrollBar):\n",
        "  def scroll(self):\n",
        "    print(\"light scroll\")"
      ],
      "metadata": {
        "id": "fkAJHHyJOJPu"
      },
      "execution_count": 64,
      "outputs": []
    },
    {
      "cell_type": "code",
      "source": [
        "#UIFactory Abstract(interface) and its implementations\n",
        "class UIFactory:\n",
        "  def getButton(self):\n",
        "    pass\n",
        "\n",
        "  def getCheckBox(self):\n",
        "    pass\n",
        "\n",
        "  def getScrollBar(self):\n",
        "    pass\n",
        "\n",
        "class DarkUIFactory(UIFactory):\n",
        "  def getButton(self):\n",
        "    return DarkButton()\n",
        "\n",
        "  def getCheckBox(self):\n",
        "    return DarkCheckBox()\n",
        "\n",
        "  def getScrollBar(self):\n",
        "    return DarkScrollBar()\n",
        "\n",
        "class LightUIFactory(UIFactory):\n",
        "  def getButton(self):\n",
        "    return LightButton()\n",
        "\n",
        "  def getCheckBox(self):\n",
        "    return LightCheckBox()\n",
        "\n",
        "  def getScrollBar(self):\n",
        "    return LightScrollBar()"
      ],
      "metadata": {
        "id": "GTF-bTGyOJPu"
      },
      "execution_count": 65,
      "outputs": []
    },
    {
      "cell_type": "code",
      "source": [
        "#get darkTheme UI components\n",
        "dark_factory = DarkUIFactory()\n",
        "dark_btn = dark_factory.getButton()\n",
        "dark_checkBx = dark_factory.getCheckBox()\n",
        "dark_scrollBar = dark_factory.getScrollBar()\n",
        "\n",
        "dark_btn.click()\n",
        "dark_checkBx.check()\n",
        "dark_scrollBar.scroll()"
      ],
      "metadata": {
        "colab": {
          "base_uri": "https://localhost:8080/"
        },
        "outputId": "f27f7330-6aeb-4f31-ad2f-a173f18a0818",
        "id": "IAexPsOJOJPu"
      },
      "execution_count": 66,
      "outputs": [
        {
          "output_type": "stream",
          "name": "stdout",
          "text": [
            "dark click\n",
            "dark check\n",
            "dark scroll\n"
          ]
        }
      ]
    },
    {
      "cell_type": "code",
      "source": [
        "#get lightTheme UI components\n",
        "light_factory = LightUIFactory()\n",
        "light_btn = light_factory.getButton()\n",
        "light_checkBx = light_factory.getCheckBox()\n",
        "light_scrollBar = light_factory.getScrollBar()\n",
        "\n",
        "light_btn.click()\n",
        "light_checkBx.check()\n",
        "light_scrollBar.scroll()"
      ],
      "metadata": {
        "colab": {
          "base_uri": "https://localhost:8080/"
        },
        "outputId": "f9529620-eee2-4d8e-9106-9d5baa585d31",
        "id": "IqA2WU0POJPu"
      },
      "execution_count": 67,
      "outputs": [
        {
          "output_type": "stream",
          "name": "stdout",
          "text": [
            "light click\n",
            "light check\n",
            "light scroll\n"
          ]
        }
      ]
    },
    {
      "cell_type": "markdown",
      "source": [
        "### My code"
      ],
      "metadata": {
        "id": "w5YJMJDrG54S"
      }
    },
    {
      "cell_type": "code",
      "source": [
        "class Laptop: # Laptop 클래스 생성\n",
        "  def start(self): # start 메서드 생성\n",
        "    pass\n",
        "\n",
        "class WindowLaptop(Laptop): # Laptop을 상속 받는다\n",
        "  def start(self):\n",
        "    print(\"Window\")\n",
        "\n",
        "class Macbook(Laptop):\n",
        "  def start(self):\n",
        "    print(\"Mac\")"
      ],
      "metadata": {
        "id": "bRRiUDuR_ySu"
      },
      "execution_count": 68,
      "outputs": []
    },
    {
      "cell_type": "code",
      "source": [
        "class Phone: # Phone 클래스 생성\n",
        "  def start(self): # start 메서드 생성\n",
        "    pass\n",
        "\n",
        "class Android(Phone): # Phone을 상속 받는다\n",
        "  def start(self):\n",
        "    print(\"Android\")\n",
        "\n",
        "class IOS(Phone):\n",
        "  def start(self):\n",
        "    print(\"iOS\")"
      ],
      "metadata": {
        "id": "jEPUSu_P_2u2"
      },
      "execution_count": 69,
      "outputs": []
    },
    {
      "cell_type": "code",
      "source": [
        "class Watch: # Watch 클래스 생성\n",
        "  def time(self): # time 메서드 생성\n",
        "    pass\n",
        "\n",
        "class GalxyWatch(Watch): # Watch를 상속 받는다\n",
        "  def time(self):\n",
        "    print(\"10:08\")\n",
        "\n",
        "class AppleWatch(Watch):\n",
        "  def time(self):\n",
        "    print(\"10:09\")"
      ],
      "metadata": {
        "id": "4w9L-4OP_3eQ"
      },
      "execution_count": 70,
      "outputs": []
    },
    {
      "cell_type": "code",
      "source": [
        "class DigitalFactory: # DigitalFactory를 생성\n",
        "  def getLaptop(self): # laptop과 phone, watch를 가져오는 메서드 생성\n",
        "    pass\n",
        "\n",
        "  def getPhone(self):\n",
        "    pass\n",
        "\n",
        "  def getWatch(self):\n",
        "    pass\n",
        "\n",
        "class NotIOSIFactory(DigitalFactory): # iOS가 아닌 laptop과 phone, watch를 가져옴\n",
        "  def getLaptop(self):\n",
        "    return WindowLaptop()\n",
        "\n",
        "  def getPhone(self):\n",
        "    return Android()\n",
        "\n",
        "  def getWatch(self):\n",
        "    return GalxyWatch()\n",
        "\n",
        "class IOSFactory(DigitalFactory): # iOS의 laptop과 phone, watch를 가져옴\n",
        "  def getLaptop(self):\n",
        "    return Macbook()\n",
        "\n",
        "  def getPhone(self):\n",
        "    return IOS()\n",
        "\n",
        "  def getWatch(self):\n",
        "    return AppleWatch()"
      ],
      "metadata": {
        "id": "OAVqQCMq_7A5"
      },
      "execution_count": 71,
      "outputs": []
    },
    {
      "cell_type": "code",
      "source": [
        "notIOS = NotIOSIFactory() # 객체 생성\n",
        "\n",
        "# get 메서드로 가져오기\n",
        "notios_laptop = notIOS.getLaptop()\n",
        "notios_phone = notIOS.getPhone()\n",
        "notios_watch = notIOS.getWatch()\n",
        "\n",
        "# 출력하기\n",
        "notios_laptop.start()\n",
        "notios_phone.start()\n",
        "notios_watch.time()"
      ],
      "metadata": {
        "colab": {
          "base_uri": "https://localhost:8080/"
        },
        "id": "BC0S2wsYAAom",
        "outputId": "f428206d-ac7a-4764-9d7e-fcbf072d69cc"
      },
      "execution_count": 72,
      "outputs": [
        {
          "output_type": "stream",
          "name": "stdout",
          "text": [
            "Window\n",
            "Android\n",
            "10:08\n"
          ]
        }
      ]
    },
    {
      "cell_type": "code",
      "source": [
        "ios_factory = IOSFactory() # 객체 생성\n",
        "\n",
        "# get 메서드로 가져오기\n",
        "ios_laptop = ios_factory.getLaptop()\n",
        "ios_phone = ios_factory.getPhone()\n",
        "ios_watch = ios_factory.getWatch()\n",
        "\n",
        "# 출력하기\n",
        "ios_laptop.start()\n",
        "ios_phone.start()\n",
        "ios_watch.time()"
      ],
      "metadata": {
        "colab": {
          "base_uri": "https://localhost:8080/"
        },
        "id": "KERX-IxpAEIc",
        "outputId": "b571174e-ee2c-493c-cb44-3e47d89427f7"
      },
      "execution_count": 73,
      "outputs": [
        {
          "output_type": "stream",
          "name": "stdout",
          "text": [
            "Mac\n",
            "iOS\n",
            "10:09\n"
          ]
        }
      ]
    }
  ]
}